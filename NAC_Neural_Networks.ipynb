{
  "nbformat": 4,
  "nbformat_minor": 0,
  "metadata": {
    "colab": {
      "provenance": [],
      "authorship_tag": "ABX9TyMdU2ACy1GqV27mOtRjg9tg",
      "include_colab_link": true
    },
    "kernelspec": {
      "name": "python3",
      "display_name": "Python 3"
    },
    "language_info": {
      "name": "python"
    }
  },
  "cells": [
    {
      "cell_type": "markdown",
      "metadata": {
        "id": "view-in-github",
        "colab_type": "text"
      },
      "source": [
        "<a href=\"https://colab.research.google.com/github/srikarraju/eGrocery_Demand_Prediction/blob/main/NAC_Neural_Networks.ipynb\" target=\"_parent\"><img src=\"https://colab.research.google.com/assets/colab-badge.svg\" alt=\"Open In Colab\"/></a>"
      ]
    },
    {
      "cell_type": "code",
      "metadata": {
        "id": "yv2sZh8lfdo9"
      },
      "source": [
        "import numpy as np\n",
        "class Gridworld:\n",
        "  def __init__(self,grid_dim=4):\n",
        "    self.grid_dim = grid_dim\n",
        "    self.number_states = self.grid_dim*self.grid_dim - 1\n",
        "    self.curr_state = 0\n",
        "\n",
        "  def reset(self):\n",
        "    self.curr_state = 0\n",
        "    return self.curr_state\n",
        "\n",
        "  def step(self,state,action):\n",
        "    curr_state = (int(state/self.grid_dim),state%self.grid_dim)\n",
        "    if action == 0:#Left\n",
        "      if curr_state[1]-1<0:\n",
        "        return state,-1,0\n",
        "      else:\n",
        "        next_state = (curr_state[0],curr_state[1]-1)\n",
        "        if next_state[0]==self.grid_dim-1 and next_state[1]==self.grid_dim-1:\n",
        "          return next_state[0]*self.grid_dim + next_state[1],0,1\n",
        "        else:\n",
        "          return next_state[0]*self.grid_dim + next_state[1],-1,0\n",
        "    elif action ==1:#Right\n",
        "      if curr_state[1]+1>=self.grid_dim:\n",
        "        return state,-1,0\n",
        "      else:\n",
        "        next_state = (curr_state[0],curr_state[1]+1)\n",
        "        if next_state[0]==self.grid_dim-1 and next_state[1]==self.grid_dim-1:\n",
        "          return next_state[0]*self.grid_dim + next_state[1],0,1\n",
        "        else:\n",
        "          return next_state[0]*self.grid_dim + next_state[1],-1,0\n",
        "    elif action ==2:#Up\n",
        "      if curr_state[0]-1<0:\n",
        "        return state,-1,0\n",
        "      else:\n",
        "        next_state = (curr_state[0]-1,curr_state[1])\n",
        "        if next_state[0]==self.grid_dim-1 and next_state[1]==self.grid_dim-1:\n",
        "          return next_state[0]*self.grid_dim + next_state[1],0,1\n",
        "        else:\n",
        "          return next_state[0]*self.grid_dim + next_state[1],-1,0\n",
        "    elif action ==3:#Down\n",
        "      if curr_state[0]+1>=self.grid_dim:\n",
        "        return state,-1,0\n",
        "      else:\n",
        "        next_state = (curr_state[0]+1,curr_state[1])\n",
        "        if next_state[0]==self.grid_dim-1 and next_state[1]==self.grid_dim-1:\n",
        "          return next_state[0]*self.grid_dim + next_state[1],0,1\n",
        "        else:\n",
        "          return next_state[0]*self.grid_dim + next_state[1],-1,0\n",
        "    else:\n",
        "      print(\"Invalid Action\")\n",
        "      return None,0,1"
      ],
      "execution_count": null,
      "outputs": []
    },
    {
      "cell_type": "code",
      "metadata": {
        "id": "cCPWzarjf2PA"
      },
      "source": [
        "import torch\n",
        "import torch.nn as nn\n",
        "import torch.nn.functional as F\n",
        "from torch.distributions import Categorical\n",
        "import gym\n",
        "from collections import deque\n",
        "import numpy as np"
      ],
      "execution_count": null,
      "outputs": []
    },
    {
      "cell_type": "code",
      "metadata": {
        "id": "4LM-hU6Jgc2T"
      },
      "source": [
        "def generate_state_features(grid_dim):\n",
        "  state_features = []\n",
        "  for row in range(grid_dim):\n",
        "    for col in range(grid_dim):\n",
        "      state_features.append([row,col])\n",
        "  state_features = np.asarray(state_features)\n",
        "  return state_features"
      ],
      "execution_count": null,
      "outputs": []
    },
    {
      "cell_type": "code",
      "metadata": {
        "id": "Ijon80GUh8OQ"
      },
      "source": [
        "def generate_state_action_features(state_vec, d,num_actions):\n",
        "  state_action_features = np.zeros(shape=(num_actions,d+num_actions))\n",
        "  for i in range(num_actions):\n",
        "    for j in range(d):\n",
        "      state_action_features[i][j] = state_vec[j]\n",
        "  state_action_features[0][d] = 1\n",
        "  state_action_features[1][d+1] =  1\n",
        "  state_action_features[2][d+2] =  1\n",
        "  state_action_features[3][d+3] =  1\n",
        "  return state_action_features"
      ],
      "execution_count": null,
      "outputs": []
    },
    {
      "cell_type": "code",
      "metadata": {
        "id": "flzrmxJul8KL"
      },
      "source": [
        "class policy_net(nn.Module):\n",
        "  def __init__(self,state_dim,hidden_dim,action_dim):\n",
        "    super(policy_net,self).__init__()\n",
        "    self.h = nn.Linear(state_dim,hidden_dim)\n",
        "    self.out = nn.Linear(hidden_dim,action_dim)\n",
        "\n",
        "  def forward(self,x):\n",
        "    x = F.relu(self.h(x))\n",
        "    x = F.softmax(self.out(x),dim=1)\n",
        "    return x"
      ],
      "execution_count": null,
      "outputs": []
    },
    {
      "cell_type": "code",
      "metadata": {
        "id": "4qCrYTyxmGvF"
      },
      "source": [
        "class value_net(nn.Module):\n",
        "  def __init__(self,state_dim,hidden_dim):\n",
        "    super(value_net,self).__init__()\n",
        "    self.h = nn.Linear(state_dim,hidden_dim)\n",
        "    self.out = nn.Linear(hidden_dim,1)\n",
        "\n",
        "  def forward(self,x):\n",
        "    x = self.h(x)\n",
        "    x = nn.ReLU()(x)\n",
        "    x = self.out(x)\n",
        "    return x"
      ],
      "execution_count": null,
      "outputs": []
    },
    {
      "cell_type": "code",
      "metadata": {
        "id": "EsokPzqWf4d6"
      },
      "source": [
        "grid_dim = 4\n",
        "num_actions = 4\n",
        "d = 2\n",
        "\n",
        "env = Gridworld(grid_dim)\n",
        "policy = policy_net(d,8,num_actions)\n",
        "value_fn = value_net(d,8)\n",
        "\n",
        "optimizer1 = torch.optim.SGD(policy.parameters(),lr=1)\n",
        "optimizer2 = torch.optim.SGD(value_fn.parameters(),lr=1)\n",
        "\n",
        "returns = deque(maxlen=100)"
      ],
      "execution_count": null,
      "outputs": []
    },
    {
      "cell_type": "code",
      "metadata": {
        "id": "U0W1Z-GG4d2i"
      },
      "source": [
        "# ALGORITHM 1\n",
        "alpha_0, beta_0, gamma, epsilon = 0.1, 0.01, 0.95, 0.1\n",
        "alpha_c, beta_c = 1000, 100000\n",
        "t = 0\n",
        "n_episode = 0\n",
        "actions_list = []\n",
        "avg_reward = 0\n",
        "\n",
        "state_features = generate_state_features(grid_dim)\n",
        "while n_episode <=2000:\n",
        "  rewards,states,actions = [],[],[]\n",
        "  state = 0\n",
        "  # state = env.reset()\n",
        "  t = 0\n",
        "  episode_len = 0\n",
        "  while episode_len<=100:\n",
        "    episode_len += 1\n",
        "    probs = policy(torch.tensor(state_features[state]).unsqueeze(0).float())\n",
        "    #probs = policy(torch.tensor(state).unsqueeze(0).float())\n",
        "    probs = probs.squeeze(0)\n",
        "    sampler = Categorical(probs)\n",
        "    action = sampler.sample()\n",
        "\n",
        "    new_state, reward, done = env.step(state,action.item())\n",
        "    #new_state, reward, done,info = env.step(action.item())\n",
        "\n",
        "    value_curr = value_fn(torch.tensor(state_features[state]).unsqueeze(0).float())\n",
        "    value_next = value_fn(torch.tensor(state_features[new_state]).unsqueeze(0).float())\n",
        "\n",
        "    #value_curr = value_fn(torch.tensor(state).unsqueeze(0).float())\n",
        "    #value_next = value_fn(torch.tensor(new_state).unsqueeze(0).float())\n",
        "\n",
        "    beta = (beta_0 * beta_c) / (beta_c + t)\n",
        "    alpha = (alpha_0 * alpha_c) / (alpha_c + t**(2/3))\n",
        "\n",
        "    avg_reward = (1 - alpha*gamma)* avg_reward + gamma * alpha* reward\n",
        "    td_error = reward + value_next - value_curr - avg_reward\n",
        "    td_error = td_error.detach()\n",
        "    td_error = td_error.item()\n",
        "\n",
        "    value_net_loss = -alpha*td_error*value_curr\n",
        "    optimizer2.zero_grad()\n",
        "    value_net_loss.backward()\n",
        "    optimizer2.step()\n",
        "\n",
        "    policy_net_loss = -beta*td_error*probs[action]\n",
        "    optimizer1.zero_grad()\n",
        "    policy_net_loss.backward()\n",
        "    optimizer1.step()\n",
        "\n",
        "    states.append(state)\n",
        "    actions.append(action)\n",
        "    rewards.append(reward)\n",
        "    actions_list.append(action)\n",
        "\n",
        "    state = new_state\n",
        "    if done == 1:\n",
        "      break\n",
        "\n",
        "  returns.append(np.sum(rewards))\n",
        "  if n_episode%100==0:\n",
        "    print(\"Episode: {:6d}\\tAvg. Return: {:6.2f}\".format(n_episode, np.mean(returns)))\n",
        "    #state = 0\n",
        "    #state_value = value_fn(torch.tensor(state_features[state]).unsqueeze(0).float())\n",
        "    #print(state_value)\n",
        "  n_episode += 1"
      ],
      "execution_count": null,
      "outputs": []
    },
    {
      "cell_type": "code",
      "metadata": {
        "colab": {
          "base_uri": "https://localhost:8080/"
        },
        "id": "mZnnOMKGD5g9",
        "outputId": "d691e8f1-83c7-4f6e-fdd8-bc1afe43e270"
      },
      "source": [
        "grid_dim = 4\n",
        "num_actions = 4\n",
        "d = 2\n",
        "env = Gridworld(grid_dim)\n",
        "\n",
        "value_fn = value_net(d,8)\n",
        "optimizer2 = torch.optim.SGD(value_fn.parameters(),lr=1)\n",
        "\n",
        "returns = deque(maxlen=50)\n",
        "weights_p = np.zeros(6,dtype=float)\n",
        "\n",
        "rewards2 = []\n",
        "\n",
        "print(weights_p)"
      ],
      "execution_count": null,
      "outputs": [
        {
          "output_type": "stream",
          "text": [
            "[0. 0. 0. 0. 0. 0.]\n"
          ],
          "name": "stdout"
        }
      ]
    },
    {
      "cell_type": "code",
      "metadata": {
        "id": "jMQ6ZNbCKVlI",
        "colab": {
          "base_uri": "https://localhost:8080/"
        },
        "outputId": "047fc458-e81a-4634-bc38-a8e996441d61"
      },
      "source": [
        "#ALGORITHM 2\n",
        "alpha_0, beta_0, gamma, epsilon = 0.1, 0.01, 0.95, 0.1\n",
        "alpha_c, beta_c = 1000, 1000\n",
        "t = 0\n",
        "n_episode = 0\n",
        "avg_reward = 0\n",
        "\n",
        "fischer_inv = 1.5*np.eye(6)\n",
        "state_features = generate_state_features(grid_dim)\n",
        "\n",
        "while n_episode <=2000:\n",
        "  rewards,states,actions = [],[],[]\n",
        "  state = 0\n",
        "  episode_len = 0\n",
        "\n",
        "  while episode_len<100:\n",
        "    episode_len += 1\n",
        "    t += 1\n",
        "\n",
        "    state_action_features = generate_state_action_features(state_features[state],d,num_actions)\n",
        "    probs = np.dot(state_action_features,weights_p)\n",
        "    probs -= probs.max()\n",
        "    probs = np.exp(np.clip(probs/epsilon, -500, 500))\n",
        "    probs /= probs.sum()\n",
        "\n",
        "    probs2 = probs.cumsum()\n",
        "    action = np.where(probs2 >= np.random.random())[0][0]\n",
        "\n",
        "    new_state, reward, done = env.step(state,action)\n",
        "\n",
        "    value_curr = value_fn(torch.tensor(state_features[state]).unsqueeze(0).float())\n",
        "    value_next = value_fn(torch.tensor(state_features[new_state]).unsqueeze(0).float())\n",
        "\n",
        "    beta = (beta_0 * beta_c) / (beta_c + t)\n",
        "    alpha = (alpha_0 * alpha_c) / (alpha_c + t**(2/3))\n",
        "\n",
        "    avg_reward = (1 - alpha*gamma)*avg_reward + alpha*gamma * reward\n",
        "    td_error = reward + value_next - value_curr - avg_reward\n",
        "    td_error = td_error.detach()\n",
        "    td_error = td_error.item()\n",
        "\n",
        "    value_net_loss = -alpha* td_error*value_curr\n",
        "    optimizer2.zero_grad()\n",
        "    value_net_loss.backward()\n",
        "    optimizer2.step()\n",
        "\n",
        "    grad_prob = probs[action]*(1-probs[action])*state_action_features[action]\n",
        "\n",
        "    Gt_psi_dot = np.dot(fischer_inv, grad_prob)\n",
        "    fischer_inv -= (0.00001*alpha * np.outer(Gt_psi_dot,Gt_psi_dot) ) / (1 - 0.0001*alpha + 0.00001*alpha * np.dot(Gt_psi_dot,grad_prob))\n",
        "    fischer_inv /= (1 - 0.00001*alpha)\n",
        "\n",
        "    weights_p += 0.05*beta * td_error * np.dot(fischer_inv,grad_prob)\n",
        "\n",
        "    states.append(state)\n",
        "    actions.append(action)\n",
        "    rewards.append(reward)\n",
        "\n",
        "    state = new_state\n",
        "    if done==1:\n",
        "      break\n",
        "\n",
        "  returns.append(np.sum(rewards))\n",
        "  if n_episode%50==0:\n",
        "    print(\"Episode: {:6d}\\tAvg. Return: {:6.2f}\".format(n_episode, np.mean(returns)))\n",
        "  rewards2.append(np.mean(returns))\n",
        "  n_episode += 1"
      ],
      "execution_count": null,
      "outputs": [
        {
          "output_type": "stream",
          "text": [
            "Episode:      0\tAvg. Return: -14.00\n",
            "Episode:     50\tAvg. Return: -51.60\n",
            "Episode:    100\tAvg. Return: -38.02\n",
            "Episode:    150\tAvg. Return: -37.08\n",
            "Episode:    200\tAvg. Return: -41.34\n",
            "Episode:    250\tAvg. Return: -46.66\n",
            "Episode:    300\tAvg. Return: -40.06\n",
            "Episode:    350\tAvg. Return: -42.56\n",
            "Episode:    400\tAvg. Return: -40.18\n",
            "Episode:    450\tAvg. Return: -38.88\n",
            "Episode:    500\tAvg. Return: -34.46\n",
            "Episode:    550\tAvg. Return: -45.34\n",
            "Episode:    600\tAvg. Return: -38.76\n",
            "Episode:    650\tAvg. Return: -35.48\n",
            "Episode:    700\tAvg. Return: -38.92\n",
            "Episode:    750\tAvg. Return: -42.08\n",
            "Episode:    800\tAvg. Return: -40.04\n",
            "Episode:    850\tAvg. Return: -39.24\n",
            "Episode:    900\tAvg. Return: -34.92\n",
            "Episode:    950\tAvg. Return: -31.54\n",
            "Episode:   1000\tAvg. Return: -35.92\n",
            "Episode:   1050\tAvg. Return: -32.52\n",
            "Episode:   1100\tAvg. Return: -27.60\n",
            "Episode:   1150\tAvg. Return: -37.62\n",
            "Episode:   1200\tAvg. Return: -40.16\n",
            "Episode:   1250\tAvg. Return: -35.32\n",
            "Episode:   1300\tAvg. Return: -37.32\n",
            "Episode:   1350\tAvg. Return: -39.26\n",
            "Episode:   1400\tAvg. Return: -34.94\n",
            "Episode:   1450\tAvg. Return: -37.12\n",
            "Episode:   1500\tAvg. Return: -30.68\n",
            "Episode:   1550\tAvg. Return: -33.42\n",
            "Episode:   1600\tAvg. Return: -36.98\n",
            "Episode:   1650\tAvg. Return: -31.76\n",
            "Episode:   1700\tAvg. Return: -32.38\n",
            "Episode:   1750\tAvg. Return: -38.78\n",
            "Episode:   1800\tAvg. Return: -28.86\n",
            "Episode:   1850\tAvg. Return: -36.80\n",
            "Episode:   1900\tAvg. Return: -29.48\n",
            "Episode:   1950\tAvg. Return: -30.98\n",
            "Episode:   2000\tAvg. Return: -33.42\n"
          ],
          "name": "stdout"
        }
      ]
    },
    {
      "cell_type": "code",
      "metadata": {
        "colab": {
          "base_uri": "https://localhost:8080/",
          "height": 265
        },
        "id": "i6cbImj0swLm",
        "outputId": "010c5fe9-8caa-4835-883a-bfe651501ba5"
      },
      "source": [
        "import matplotlib.pyplot as plt\n",
        "plt.plot(rewards2[:1200])\n",
        "plt.show()"
      ],
      "execution_count": null,
      "outputs": [
        {
          "output_type": "display_data",
          "data": {
            "image/png": "[encoded data removed]",
            "text/plain": [
              "<Figure size 432x288 with 1 Axes>"
            ]
          },
          "metadata": {
            "tags": [],
            "needs_background": "light"
          }
        }
      ]
    },
    {
      "cell_type": "code",
      "metadata": {
        "colab": {
          "base_uri": "https://localhost:8080/"
        },
        "id": "1YcysdJG1B_R",
        "outputId": "951b5b6f-5a31-4bfc-8d70-cff1bd0c4e34"
      },
      "source": [
        "grid_dim = 4\n",
        "num_actions = 4\n",
        "d = 2\n",
        "env = Gridworld(grid_dim)\n",
        "\n",
        "value_fn = value_net(d,8)\n",
        "optimizer2 = torch.optim.SGD(value_fn.parameters(),lr=1)\n",
        "\n",
        "returns = deque(maxlen=50)\n",
        "weights_p = np.zeros(6,dtype=float)\n",
        "weights_w = np.zeros(6,dtype=float)\n",
        "rewards_4 = []\n",
        "print(weights_p)\n",
        "print(weights_w)"
      ],
      "execution_count": null,
      "outputs": [
        {
          "output_type": "stream",
          "text": [
            "[0. 0. 0. 0. 0. 0.]\n",
            "[0. 0. 0. 0. 0. 0.]\n"
          ],
          "name": "stdout"
        }
      ]
    },
    {
      "cell_type": "code",
      "metadata": {
        "colab": {
          "base_uri": "https://localhost:8080/"
        },
        "id": "AdLtQBPa0jS4",
        "outputId": "3910fe65-61d5-4f15-cd5d-c3c8f7f4c30b"
      },
      "source": [
        "# ALGORITHM 4\n",
        "alpha_0, beta_0, gamma, epsilon = 0.1, 0.01, 0.95, 0.1\n",
        "alpha_c, beta_c = 1000, 1000\n",
        "t = 0\n",
        "n_episode = 0\n",
        "avg_reward = 0\n",
        "\n",
        "fischer_inv = 2.5*np.eye(6)\n",
        "state_features = generate_state_features(grid_dim)\n",
        "\n",
        "while n_episode <=10000:\n",
        "  rewards,states,actions = [],[],[]\n",
        "  state = 0\n",
        "  episode_len = 0\n",
        "\n",
        "  while episode_len<100:\n",
        "    episode_len += 1\n",
        "    t += 1\n",
        "\n",
        "    state_action_features = generate_state_action_features(state_features[state],d,num_actions)\n",
        "    probs = np.dot(state_action_features,weights_p)\n",
        "    probs -= probs.max()\n",
        "    probs = np.exp(np.clip(probs/epsilon, -500, 500))\n",
        "    probs /= probs.sum()\n",
        "\n",
        "    probs2 = probs.cumsum()\n",
        "    action = np.where(probs2 >= np.random.random())[0][0]\n",
        "\n",
        "    new_state, reward, done = env.step(state,action)\n",
        "\n",
        "    value_curr = value_fn(torch.tensor(state_features[state]).unsqueeze(0).float())\n",
        "    value_next = value_fn(torch.tensor(state_features[new_state]).unsqueeze(0).float())\n",
        "\n",
        "    beta = (beta_0 * beta_c) / (beta_c + t)\n",
        "    alpha = (alpha_0 * alpha_c) / (alpha_c + t**(2/3))\n",
        "\n",
        "    avg_reward = (1 - alpha*gamma)*avg_reward + alpha*gamma * reward\n",
        "    td_error = reward + value_next - value_curr -avg_reward\n",
        "    td_error = td_error.detach()\n",
        "    td_error = td_error.item()\n",
        "\n",
        "    value_net_loss = -0.1*alpha* td_error*value_curr\n",
        "    optimizer2.zero_grad()\n",
        "    value_net_loss.backward()\n",
        "    optimizer2.step()\n",
        "\n",
        "    grad_prob = probs[action]*(1-probs[action])*state_action_features[action]\n",
        "\n",
        "    Gt_psi_dot = np.dot(fischer_inv, grad_prob)\n",
        "    fischer_inv -= (0.00001*alpha * np.outer(Gt_psi_dot,Gt_psi_dot) ) / (1 - 0.00001*alpha + 0.00001*alpha * np.dot(Gt_psi_dot,grad_prob))\n",
        "    fischer_inv /= (1 - 0.00001*alpha)\n",
        "    weights_w = (1- alpha) *weights_w + alpha* td_error * np.dot(fischer_inv,grad_prob)\n",
        "\n",
        "    weights_p += beta * weights_w\n",
        "\n",
        "    states.append(state)\n",
        "    actions.append(action)\n",
        "    rewards.append(reward)\n",
        "\n",
        "    state = new_state\n",
        "    if done==1:\n",
        "      break\n",
        "\n",
        "  returns.append(np.sum(rewards))\n",
        "  if n_episode%50==0:\n",
        "    print(\"Episode: {:6d}\\tAvg. Return: {:6.2f}\".format(n_episode, np.mean(returns)))\n",
        "  rewards_4.append(np.mean(returns))\n",
        "  n_episode += 1"
      ],
      "execution_count": null,
      "outputs": [
        {
          "output_type": "stream",
          "text": [
            "Episode:      0\tAvg. Return: -22.00\n",
            "Episode:     50\tAvg. Return: -24.32\n",
            "Episode:    100\tAvg. Return: -15.58\n",
            "Episode:    150\tAvg. Return: -11.10\n",
            "Episode:    200\tAvg. Return: -12.72\n",
            "Episode:    250\tAvg. Return: -12.38\n",
            "Episode:    300\tAvg. Return:  -9.20\n",
            "Episode:    350\tAvg. Return:  -9.42\n",
            "Episode:    400\tAvg. Return: -10.66\n",
            "Episode:    450\tAvg. Return: -14.20\n",
            "Episode:    500\tAvg. Return: -10.76\n",
            "Episode:    550\tAvg. Return:  -9.06\n",
            "Episode:    600\tAvg. Return:  -7.42\n",
            "Episode:    650\tAvg. Return:  -7.24\n",
            "Episode:    700\tAvg. Return:  -7.88\n",
            "Episode:    750\tAvg. Return:  -7.14\n",
            "Episode:    800\tAvg. Return:  -8.24\n",
            "Episode:    850\tAvg. Return:  -6.60\n",
            "Episode:    900\tAvg. Return:  -7.44\n",
            "Episode:    950\tAvg. Return:  -7.66\n",
            "Episode:   1000\tAvg. Return:  -7.30\n",
            "Episode:   1050\tAvg. Return:  -7.04\n",
            "Episode:   1100\tAvg. Return:  -7.26\n",
            "Episode:   1150\tAvg. Return:  -7.40\n",
            "Episode:   1200\tAvg. Return:  -7.02\n",
            "Episode:   1250\tAvg. Return:  -7.66\n",
            "Episode:   1300\tAvg. Return:  -7.48\n",
            "Episode:   1350\tAvg. Return:  -7.90\n",
            "Episode:   1400\tAvg. Return:  -7.34\n",
            "Episode:   1450\tAvg. Return:  -7.10\n",
            "Episode:   1500\tAvg. Return:  -8.22\n",
            "Episode:   1550\tAvg. Return:  -7.34\n",
            "Episode:   1600\tAvg. Return:  -7.92\n",
            "Episode:   1650\tAvg. Return:  -7.48\n",
            "Episode:   1700\tAvg. Return:  -7.88\n",
            "Episode:   1750\tAvg. Return:  -7.72\n",
            "Episode:   1800\tAvg. Return:  -6.66\n",
            "Episode:   1850\tAvg. Return:  -7.36\n",
            "Episode:   1900\tAvg. Return:  -7.32\n",
            "Episode:   1950\tAvg. Return:  -7.06\n",
            "Episode:   2000\tAvg. Return:  -8.46\n",
            "Episode:   2050\tAvg. Return:  -6.74\n",
            "Episode:   2100\tAvg. Return:  -6.72\n",
            "Episode:   2150\tAvg. Return:  -8.28\n",
            "Episode:   2200\tAvg. Return:  -6.88\n",
            "Episode:   2250\tAvg. Return:  -7.40\n",
            "Episode:   2300\tAvg. Return:  -7.32\n",
            "Episode:   2350\tAvg. Return:  -7.38\n",
            "Episode:   2400\tAvg. Return:  -7.68\n",
            "Episode:   2450\tAvg. Return:  -7.00\n",
            "Episode:   2500\tAvg. Return:  -7.52\n",
            "Episode:   2550\tAvg. Return:  -6.98\n",
            "Episode:   2600\tAvg. Return:  -7.00\n",
            "Episode:   2650\tAvg. Return:  -8.12\n",
            "Episode:   2700\tAvg. Return:  -6.78\n",
            "Episode:   2750\tAvg. Return:  -7.32\n",
            "Episode:   2800\tAvg. Return:  -7.52\n",
            "Episode:   2850\tAvg. Return:  -6.86\n",
            "Episode:   2900\tAvg. Return:  -7.04\n",
            "Episode:   2950\tAvg. Return:  -8.00\n",
            "Episode:   3000\tAvg. Return:  -7.36\n",
            "Episode:   3050\tAvg. Return:  -7.06\n",
            "Episode:   3100\tAvg. Return:  -7.94\n",
            "Episode:   3150\tAvg. Return:  -7.66\n",
            "Episode:   3200\tAvg. Return:  -7.04\n",
            "Episode:   3250\tAvg. Return:  -7.24\n",
            "Episode:   3300\tAvg. Return:  -7.80\n",
            "Episode:   3350\tAvg. Return:  -7.26\n",
            "Episode:   3400\tAvg. Return:  -7.80\n",
            "Episode:   3450\tAvg. Return:  -7.24\n",
            "Episode:   3500\tAvg. Return:  -7.18\n",
            "Episode:   3550\tAvg. Return:  -7.10\n",
            "Episode:   3600\tAvg. Return:  -7.12\n",
            "Episode:   3650\tAvg. Return:  -7.64\n",
            "Episode:   3700\tAvg. Return:  -7.22\n",
            "Episode:   3750\tAvg. Return:  -6.78\n",
            "Episode:   3800\tAvg. Return:  -7.60\n",
            "Episode:   3850\tAvg. Return:  -6.84\n",
            "Episode:   3900\tAvg. Return:  -7.72\n",
            "Episode:   3950\tAvg. Return:  -7.50\n",
            "Episode:   4000\tAvg. Return:  -7.10\n",
            "Episode:   4050\tAvg. Return:  -6.68\n",
            "Episode:   4100\tAvg. Return:  -7.48\n",
            "Episode:   4150\tAvg. Return:  -6.88\n",
            "Episode:   4200\tAvg. Return:  -7.20\n",
            "Episode:   4250\tAvg. Return:  -7.74\n",
            "Episode:   4300\tAvg. Return:  -7.68\n",
            "Episode:   4350\tAvg. Return:  -6.46\n",
            "Episode:   4400\tAvg. Return:  -6.90\n",
            "Episode:   4450\tAvg. Return:  -7.10\n",
            "Episode:   4500\tAvg. Return:  -7.46\n",
            "Episode:   4550\tAvg. Return:  -7.14\n",
            "Episode:   4600\tAvg. Return:  -7.30\n",
            "Episode:   4650\tAvg. Return:  -6.98\n",
            "Episode:   4700\tAvg. Return:  -6.66\n",
            "Episode:   4750\tAvg. Return:  -6.42\n",
            "Episode:   4800\tAvg. Return:  -7.38\n",
            "Episode:   4850\tAvg. Return:  -6.70\n",
            "Episode:   4900\tAvg. Return:  -7.52\n",
            "Episode:   4950\tAvg. Return:  -6.88\n",
            "Episode:   5000\tAvg. Return:  -6.96\n",
            "Episode:   5050\tAvg. Return:  -6.94\n",
            "Episode:   5100\tAvg. Return:  -7.14\n",
            "Episode:   5150\tAvg. Return:  -6.80\n",
            "Episode:   5200\tAvg. Return:  -7.18\n",
            "Episode:   5250\tAvg. Return:  -6.70\n",
            "Episode:   5300\tAvg. Return:  -7.06\n",
            "Episode:   5350\tAvg. Return:  -7.70\n",
            "Episode:   5400\tAvg. Return:  -7.36\n",
            "Episode:   5450\tAvg. Return:  -6.74\n",
            "Episode:   5500\tAvg. Return:  -7.14\n",
            "Episode:   5550\tAvg. Return:  -7.16\n",
            "Episode:   5600\tAvg. Return:  -7.10\n",
            "Episode:   5650\tAvg. Return:  -7.24\n",
            "Episode:   5700\tAvg. Return:  -7.16\n",
            "Episode:   5750\tAvg. Return:  -7.46\n",
            "Episode:   5800\tAvg. Return:  -6.20\n",
            "Episode:   5850\tAvg. Return:  -6.64\n",
            "Episode:   5900\tAvg. Return:  -7.26\n",
            "Episode:   5950\tAvg. Return:  -7.26\n",
            "Episode:   6000\tAvg. Return:  -7.58\n",
            "Episode:   6050\tAvg. Return:  -7.14\n",
            "Episode:   6100\tAvg. Return:  -7.56\n",
            "Episode:   6150\tAvg. Return:  -7.40\n",
            "Episode:   6200\tAvg. Return:  -6.60\n",
            "Episode:   6250\tAvg. Return:  -6.48\n",
            "Episode:   6300\tAvg. Return:  -7.04\n",
            "Episode:   6350\tAvg. Return:  -7.16\n",
            "Episode:   6400\tAvg. Return:  -6.86\n",
            "Episode:   6450\tAvg. Return:  -6.98\n",
            "Episode:   6500\tAvg. Return:  -7.30\n",
            "Episode:   6550\tAvg. Return:  -6.44\n",
            "Episode:   6600\tAvg. Return:  -7.36\n",
            "Episode:   6650\tAvg. Return:  -6.86\n",
            "Episode:   6700\tAvg. Return:  -6.80\n",
            "Episode:   6750\tAvg. Return:  -6.54\n",
            "Episode:   6800\tAvg. Return:  -6.76\n",
            "Episode:   6850\tAvg. Return:  -6.86\n",
            "Episode:   6900\tAvg. Return:  -6.98\n",
            "Episode:   6950\tAvg. Return:  -6.96\n",
            "Episode:   7000\tAvg. Return:  -6.50\n",
            "Episode:   7050\tAvg. Return:  -6.36\n",
            "Episode:   7100\tAvg. Return:  -7.24\n",
            "Episode:   7150\tAvg. Return:  -6.90\n",
            "Episode:   7200\tAvg. Return:  -6.54\n",
            "Episode:   7250\tAvg. Return:  -7.26\n",
            "Episode:   7300\tAvg. Return:  -6.76\n",
            "Episode:   7350\tAvg. Return:  -6.84\n",
            "Episode:   7400\tAvg. Return:  -7.00\n",
            "Episode:   7450\tAvg. Return:  -6.54\n",
            "Episode:   7500\tAvg. Return:  -6.84\n",
            "Episode:   7550\tAvg. Return:  -6.40\n",
            "Episode:   7600\tAvg. Return:  -7.00\n",
            "Episode:   7650\tAvg. Return:  -6.58\n",
            "Episode:   7700\tAvg. Return:  -6.98\n",
            "Episode:   7750\tAvg. Return:  -7.32\n",
            "Episode:   7800\tAvg. Return:  -6.58\n",
            "Episode:   7850\tAvg. Return:  -6.64\n",
            "Episode:   7900\tAvg. Return:  -7.96\n",
            "Episode:   7950\tAvg. Return:  -7.02\n",
            "Episode:   8000\tAvg. Return:  -6.86\n",
            "Episode:   8050\tAvg. Return:  -7.36\n",
            "Episode:   8100\tAvg. Return:  -7.02\n",
            "Episode:   8150\tAvg. Return:  -6.56\n",
            "Episode:   8200\tAvg. Return:  -7.16\n",
            "Episode:   8250\tAvg. Return:  -6.56\n",
            "Episode:   8300\tAvg. Return:  -6.42\n",
            "Episode:   8350\tAvg. Return:  -6.96\n",
            "Episode:   8400\tAvg. Return:  -7.28\n",
            "Episode:   8450\tAvg. Return:  -6.66\n",
            "Episode:   8500\tAvg. Return:  -6.90\n",
            "Episode:   8550\tAvg. Return:  -7.24\n",
            "Episode:   8600\tAvg. Return:  -6.38\n",
            "Episode:   8650\tAvg. Return:  -7.34\n",
            "Episode:   8700\tAvg. Return:  -6.24\n",
            "Episode:   8750\tAvg. Return:  -6.96\n",
            "Episode:   8800\tAvg. Return:  -6.62\n",
            "Episode:   8850\tAvg. Return:  -6.88\n",
            "Episode:   8900\tAvg. Return:  -7.34\n",
            "Episode:   8950\tAvg. Return:  -6.80\n",
            "Episode:   9000\tAvg. Return:  -7.26\n",
            "Episode:   9050\tAvg. Return:  -7.18\n",
            "Episode:   9100\tAvg. Return:  -7.12\n",
            "Episode:   9150\tAvg. Return:  -7.04\n",
            "Episode:   9200\tAvg. Return:  -7.00\n",
            "Episode:   9250\tAvg. Return:  -6.86\n",
            "Episode:   9300\tAvg. Return:  -7.08\n",
            "Episode:   9350\tAvg. Return:  -6.82\n",
            "Episode:   9400\tAvg. Return:  -7.00\n",
            "Episode:   9450\tAvg. Return:  -6.84\n",
            "Episode:   9500\tAvg. Return:  -6.86\n",
            "Episode:   9550\tAvg. Return:  -6.76\n",
            "Episode:   9600\tAvg. Return:  -7.06\n",
            "Episode:   9650\tAvg. Return:  -6.90\n",
            "Episode:   9700\tAvg. Return:  -7.36\n",
            "Episode:   9750\tAvg. Return:  -6.82\n",
            "Episode:   9800\tAvg. Return:  -7.02\n",
            "Episode:   9850\tAvg. Return:  -6.92\n",
            "Episode:   9900\tAvg. Return:  -7.42\n",
            "Episode:   9950\tAvg. Return:  -6.96\n",
            "Episode:  10000\tAvg. Return:  -6.58\n"
          ],
          "name": "stdout"
        }
      ]
    },
    {
      "cell_type": "code",
      "metadata": {
        "colab": {
          "base_uri": "https://localhost:8080/",
          "height": 284
        },
        "id": "081mqa8IpTLO",
        "outputId": "c50ee929-3d29-4659-8ef2-887da45eadb5"
      },
      "source": [
        "import matplotlib.pyplot as plt\n",
        "print(max(rewards_4))\n",
        "plt.plot(rewards_4[0:5000])\n",
        "plt.show()"
      ],
      "execution_count": null,
      "outputs": [
        {
          "output_type": "stream",
          "text": [
            "-6.04\n"
          ],
          "name": "stdout"
        },
        {
          "output_type": "display_data",
          "data": {
            "image/png": "[encoded data removed]",
            "text/plain": [
              "<Figure size 432x288 with 1 Axes>"
            ]
          },
          "metadata": {
            "tags": [],
            "needs_background": "light"
          }
        }
      ]
    },
    {
      "cell_type": "code",
      "metadata": {
        "colab": {
          "base_uri": "https://localhost:8080/"
        },
        "id": "xkf8fSOWwq7q",
        "outputId": "474660f8-82a5-48d1-8c66-e75c79a79909"
      },
      "source": [
        "print(states)\n",
        "print(actions)\n",
        "print(probs)"
      ],
      "execution_count": null,
      "outputs": [
        {
          "output_type": "stream",
          "text": [
            "[0, 1, 2, 6, 10, 14, 14, 14, 14]\n",
            "[1, 1, 3, 3, 3, 3, 3, 3, 1]\n",
            "[8.60676205e-18 3.06418724e-01 8.61047689e-18 6.93581276e-01]\n"
          ],
          "name": "stdout"
        }
      ]
    },
    {
      "cell_type": "code",
      "metadata": {
        "colab": {
          "base_uri": "https://localhost:8080/"
        },
        "id": "0zNXJt9xx7-m",
        "outputId": "df7ee9be-55f3-4740-a2f0-dae8e817f077"
      },
      "source": [
        "print(t)"
      ],
      "execution_count": null,
      "outputs": [
        {
          "output_type": "stream",
          "text": [
            "50188\n"
          ],
          "name": "stdout"
        }
      ]
    },
    {
      "cell_type": "code",
      "metadata": {
        "colab": {
          "base_uri": "https://localhost:8080/"
        },
        "id": "IMQjBYU5KFul",
        "outputId": "edfb3900-4f07-4a85-9f6d-afbfd3a89548"
      },
      "source": [
        "for i in range(16):\n",
        "  print(value_fn(torch.tensor(state_features[i]).unsqueeze(0).float()))"
      ],
      "execution_count": null,
      "outputs": [
        {
          "output_type": "stream",
          "text": [
            "tensor([[1501.4282]], grad_fn=<AddmmBackward>)\n",
            "tensor([[2413.3667]], grad_fn=<AddmmBackward>)\n",
            "tensor([[3325.3052]], grad_fn=<AddmmBackward>)\n",
            "tensor([[4237.2432]], grad_fn=<AddmmBackward>)\n",
            "tensor([[2459.1509]], grad_fn=<AddmmBackward>)\n",
            "tensor([[3371.0891]], grad_fn=<AddmmBackward>)\n",
            "tensor([[4283.0269]], grad_fn=<AddmmBackward>)\n",
            "tensor([[5194.9663]], grad_fn=<AddmmBackward>)\n",
            "tensor([[3416.8733]], grad_fn=<AddmmBackward>)\n",
            "tensor([[4328.8110]], grad_fn=<AddmmBackward>)\n",
            "tensor([[5240.7500]], grad_fn=<AddmmBackward>)\n",
            "tensor([[6152.6890]], grad_fn=<AddmmBackward>)\n",
            "tensor([[4374.5952]], grad_fn=<AddmmBackward>)\n",
            "tensor([[5286.5342]], grad_fn=<AddmmBackward>)\n",
            "tensor([[6198.4722]], grad_fn=<AddmmBackward>)\n",
            "tensor([[7110.4106]], grad_fn=<AddmmBackward>)\n"
          ],
          "name": "stdout"
        }
      ]
    },
    {
      "cell_type": "code",
      "metadata": {
        "colab": {
          "base_uri": "https://localhost:8080/"
        },
        "id": "A7azoJ00pKOR",
        "outputId": "707a58e1-9e11-4885-c3f6-7653722de520"
      },
      "source": [
        "for p in value_fn.parameters():\n",
        "  print(p)"
      ],
      "execution_count": null,
      "outputs": [
        {
          "output_type": "stream",
          "text": [
            "Parameter containing:\n",
            "tensor([[-0.5016,  0.2848],\n",
            "        [ 0.1561,  0.2170],\n",
            "        [-0.6995, -0.4611],\n",
            "        [-0.6962,  0.6301],\n",
            "        [-0.2343,  0.0749],\n",
            "        [ 0.6443,  0.4449],\n",
            "        [ 0.4607,  0.1512],\n",
            "        [-0.5915,  0.5608]], requires_grad=True)\n",
            "Parameter containing:\n",
            "tensor([-0.0181, -0.5126,  0.1011, -0.0010, -0.5065,  0.5647, -0.2680, -0.3557],\n",
            "       requires_grad=True)\n",
            "Parameter containing:\n",
            "tensor([[-0.1036,  0.2231,  0.2198,  0.1271, -0.2496, -0.0685, -0.2228, -0.0800]],\n",
            "       requires_grad=True)\n",
            "Parameter containing:\n",
            "tensor([-0.0080], requires_grad=True)\n"
          ],
          "name": "stdout"
        }
      ]
    }
  ]
}