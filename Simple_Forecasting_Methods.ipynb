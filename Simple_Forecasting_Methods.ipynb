{
  "nbformat": 4,
  "nbformat_minor": 0,
  "metadata": {
    "colab": {
      "provenance": [],
      "mount_file_id": "1n57HN1sTOhY6vJN0HVrXKS9pQpj4C8rW",
      "authorship_tag": "ABX9TyP3WWJgeux+djkJrrS7g2RV",
      "include_colab_link": true
    },
    "kernelspec": {
      "name": "python3",
      "display_name": "Python 3"
    },
    "language_info": {
      "name": "python"
    }
  },
  "cells": [
    {
      "cell_type": "markdown",
      "metadata": {
        "id": "view-in-github",
        "colab_type": "text"
      },
      "source": [
        "<a href=\"https://colab.research.google.com/github/srikarraju/eGrocery_Demand_Prediction/blob/main/Simple_Forecasting_Methods.ipynb\" target=\"_parent\"><img src=\"https://colab.research.google.com/assets/colab-badge.svg\" alt=\"Open In Colab\"/></a>"
      ]
    },
    {
      "cell_type": "code",
      "metadata": {
        "id": "Cxom1maBcen7"
      },
      "source": [
        "import pandas as pd\n",
        "import numpy as np"
      ],
      "execution_count": null,
      "outputs": []
    },
    {
      "cell_type": "code",
      "metadata": {
        "id": "smNOFyijb4KJ"
      },
      "source": [
        "train_data_len = 730\n",
        "test_data_len = 30\n",
        "shelf_life = 4"
      ],
      "execution_count": null,
      "outputs": []
    },
    {
      "cell_type": "code",
      "metadata": {
        "id": "WMu8TzJSbf3Q"
      },
      "source": [
        "df_train = pd.read_csv('/content/drive/MyDrive/Colab Notebooks/RL_Project/Models/ppo_based/PPOBased/data/final_data_trainx.csv')\n",
        "df_test = pd.read_csv('/content/drive/MyDrive/Colab Notebooks/RL_Project/Models/ppo_based/PPOBased/data/final_data_testx.csv')"
      ],
      "execution_count": null,
      "outputs": []
    },
    {
      "cell_type": "code",
      "metadata": {
        "colab": {
          "base_uri": "https://localhost:8080/"
        },
        "id": "8qgje_GXcZN4",
        "outputId": "19087506-9717-43ff-90c6-de029783f1c7"
      },
      "source": [
        "print(df_train['prod8'][123])"
      ],
      "execution_count": null,
      "outputs": [
        {
          "output_type": "stream",
          "text": [
            "1.6949999999999998\n"
          ],
          "name": "stdout"
        }
      ]
    },
    {
      "cell_type": "code",
      "metadata": {
        "colab": {
          "base_uri": "https://localhost:8080/"
        },
        "id": "nzxcv-TJbroG",
        "outputId": "c06e46ef-a6e6-43d8-ef68-f8bb84b9f4a5"
      },
      "source": [
        "total_shortage_7 = 0\n",
        "total_shortage_15 = 0\n",
        "total_shortage_30 = 0\n",
        "total_shortage_normal = 0\n",
        "total_wastage_normal = 0\n",
        "for i in range(train_data_len):\n",
        "  actual_demand = df_train['prod8'][i]\n",
        "  forecast_7_day = df_train['prod8avg7'][i]\n",
        "  forecast_15_day = df_train['prod8avg15'][i]\n",
        "  forecast_30_day = df_train['prod8avg30'][i]\n",
        "  total_shortage_7 += abs(int(actual_demand) - (int(forecast_7_day)-(int(forecast_7_day)%shelf_life)))\n",
        "  total_shortage_15 += abs(int(actual_demand) - (int(forecast_15_day)-(int(forecast_15_day)%shelf_life)))\n",
        "  total_shortage_30 += abs(int(actual_demand) - (int(forecast_30_day)-(int(forecast_30_day)%shelf_life)))\n",
        "  count = 0\n",
        "  mean_demand = 0\n",
        "  if i>=7:\n",
        "    mean_demand += df_train['prod8'][i-7]\n",
        "    count += 1\n",
        "  if i>=15:\n",
        "    mean_demand += df_train['prod8'][i-15]\n",
        "    count += 1\n",
        "  if i>=30:\n",
        "    mean_demand += df_train['prod8'][i-30]\n",
        "    count += 1\n",
        "  if count !=0:\n",
        "    mean_demand /= count\n",
        "  predicted_demand = np.random.normal(mean_demand,1)\n",
        "  shortage = int(actual_demand) - (int(predicted_demand)-(int(predicted_demand)%shelf_life))\n",
        "  if shortage > 0:\n",
        "    total_shortage_normal += shortage\n",
        "print(total_shortage_7)\n",
        "print(total_shortage_15)\n",
        "print(total_shortage_30)\n",
        "print(total_shortage_normal)"
      ],
      "execution_count": null,
      "outputs": [
        {
          "output_type": "stream",
          "text": [
            "1779\n",
            "2427\n",
            "2653\n",
            "1985\n"
          ],
          "name": "stdout"
        }
      ]
    }
  ]
}