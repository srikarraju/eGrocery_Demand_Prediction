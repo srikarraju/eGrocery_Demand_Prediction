{
  "nbformat": 4,
  "nbformat_minor": 0,
  "metadata": {
    "colab": {
      "provenance": [],
      "mount_file_id": "1tmcc-5ZnpO2DxTckN6KEK7lNmWjIpGHe",
      "authorship_tag": "ABX9TyM76e00HU9rxWt92SqM0mPt",
      "include_colab_link": true
    },
    "kernelspec": {
      "name": "python3",
      "display_name": "Python 3"
    },
    "language_info": {
      "name": "python"
    }
  },
  "cells": [
    {
      "cell_type": "markdown",
      "metadata": {
        "id": "view-in-github",
        "colab_type": "text"
      },
      "source": [
        "<a href=\"https://colab.research.google.com/github/srikarraju/eGrocery_Demand_Prediction/blob/main/MLAD_Train_Test_Split.ipynb\" target=\"_parent\"><img src=\"https://colab.research.google.com/assets/colab-badge.svg\" alt=\"Open In Colab\"/></a>"
      ]
    },
    {
      "cell_type": "code",
      "metadata": {
        "id": "N86LBdRnX75G"
      },
      "source": [
        "import pandas as pd\n",
        "\n",
        "train_df = pd.read_csv('/content/drive/MyDrive/MultiLingual_Abuse_Detection/Data/train_data.csv')"
      ],
      "execution_count": null,
      "outputs": []
    },
    {
      "cell_type": "code",
      "metadata": {
        "id": "UxdF_KpjY5Gv"
      },
      "source": [
        "languages = train_df['language'].unique()"
      ],
      "execution_count": null,
      "outputs": []
    },
    {
      "cell_type": "code",
      "metadata": {
        "id": "WdmYKUe5ZH7G"
      },
      "source": [
        "train_data, val_data = [], []\n",
        "\n",
        "for lang in languages:\n",
        "  lang_df = train_df[train_df['language']==lang]\n",
        "  train_data.append(lang_df[0:int(0.95*len(lang_df))])\n",
        "  val_data.append(lang_df[int(0.95*len(lang_df)):])"
      ],
      "execution_count": null,
      "outputs": []
    },
    {
      "cell_type": "code",
      "metadata": {
        "id": "5JGKrbU1bg4v"
      },
      "source": [
        "train_data_df = pd.concat(train_data)\n",
        "val_df = pd.concat(val_data)"
      ],
      "execution_count": null,
      "outputs": []
    },
    {
      "cell_type": "code",
      "metadata": {
        "colab": {
          "base_uri": "https://localhost:8080/"
        },
        "id": "8abTA03cbwOC",
        "outputId": "106921b6-2552-41d0-8676-42b0b4e3ab60"
      },
      "source": [
        "train_data_df['language'].value_counts()"
      ],
      "execution_count": null,
      "outputs": [
        {
          "output_type": "execute_result",
          "data": {
            "text/plain": [
              "Hindi         291821\n",
              "Telugu         92161\n",
              "Marathi        68441\n",
              "Tamil          66022\n",
              "Malayalam      38916\n",
              "Bengali        21693\n",
              "Kannada        13245\n",
              "Odia           10425\n",
              "Gujarati        8386\n",
              "Haryanvi        8371\n",
              "Bhojpuri        5513\n",
              "Rajasthani      4149\n",
              "Assamese        2641\n",
              "Name: language, dtype: int64"
            ]
          },
          "metadata": {},
          "execution_count": 5
        }
      ]
    },
    {
      "cell_type": "code",
      "metadata": {
        "id": "eeU9aBO8cFUf"
      },
      "source": [
        "train_data_df.to_csv('/content/drive/MyDrive/MultiLingual_Abuse_Detection/Data/train_split_data_2.csv')\n",
        "val_df.to_csv('/content/drive/MyDrive/MultiLingual_Abuse_Detection/Data/val_split_data_2.csv')"
      ],
      "execution_count": null,
      "outputs": []
    },
    {
      "cell_type": "code",
      "metadata": {
        "colab": {
          "base_uri": "https://localhost:8080/"
        },
        "id": "ujPH6tECb8P3",
        "outputId": "1e1f69af-ccc6-4a20-a13b-69df37050620"
      },
      "source": [
        "val_df['language'].value_counts()"
      ],
      "execution_count": null,
      "outputs": [
        {
          "output_type": "execute_result",
          "data": {
            "text/plain": [
              "Hindi         15359\n",
              "Telugu         4851\n",
              "Marathi        3603\n",
              "Tamil          3475\n",
              "Malayalam      2049\n",
              "Bengali        1142\n",
              "Kannada         698\n",
              "Odia            549\n",
              "Gujarati        442\n",
              "Haryanvi        441\n",
              "Bhojpuri        291\n",
              "Rajasthani      219\n",
              "Assamese        139\n",
              "Name: language, dtype: int64"
            ]
          },
          "metadata": {},
          "execution_count": 6
        }
      ]
    }
  ]
}