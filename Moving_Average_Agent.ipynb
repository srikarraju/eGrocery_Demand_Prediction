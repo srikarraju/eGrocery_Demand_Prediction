{
  "nbformat": 4,
  "nbformat_minor": 0,
  "metadata": {
    "colab": {
      "provenance": [],
      "mount_file_id": "1h_NeRFKk_BAwMOnNyZ4zgwF7uvebJv4a",
      "authorship_tag": "ABX9TyNKIoB+GbyMqVpW71+5meFo",
      "include_colab_link": true
    },
    "kernelspec": {
      "name": "python3",
      "display_name": "Python 3"
    },
    "language_info": {
      "name": "python"
    }
  },
  "cells": [
    {
      "cell_type": "markdown",
      "metadata": {
        "id": "view-in-github",
        "colab_type": "text"
      },
      "source": [
        "<a href=\"https://colab.research.google.com/github/srikarraju/eGrocery_Demand_Prediction/blob/main/Moving_Average_Agent.ipynb\" target=\"_parent\"><img src=\"https://colab.research.google.com/assets/colab-badge.svg\" alt=\"Open In Colab\"/></a>"
      ]
    },
    {
      "cell_type": "code",
      "metadata": {
        "colab": {
          "base_uri": "https://localhost:8080/"
        },
        "id": "xeKEq6z8ArNd",
        "outputId": "312bb153-a033-441b-8d9a-a685d6a8049d"
      },
      "source": [
        "cd /content/drive/MyDrive/Colab Notebooks/eGrocery_Project"
      ],
      "execution_count": null,
      "outputs": [
        {
          "output_type": "stream",
          "name": "stdout",
          "text": [
            "/content/drive/MyDrive/Colab Notebooks/eGrocery_Project\n"
          ]
        }
      ]
    },
    {
      "cell_type": "code",
      "metadata": {
        "id": "Ty193iQiAP6v"
      },
      "source": [
        "import pandas as pd\n",
        "import numpy as np\n",
        "\n",
        "#from eGroceryEnv import eGroceryEnv"
      ],
      "execution_count": null,
      "outputs": []
    },
    {
      "cell_type": "code",
      "metadata": {
        "id": "MSpmSgrg8u50"
      },
      "source": [
        "import gym\n",
        "from gym import spaces\n",
        "import numpy as np\n",
        "\n",
        "class eGroceryEnv(gym.Env):\n",
        "  def __init__(self, df, shelf_life, shortage_cost, wastage_cost, box_size, products_count=10, max_demand=100):\n",
        "    self.df = df\n",
        "    self.n_features = 3 + 4*products_count + len(shelf_life) + sum(shelf_life)\n",
        "    self.products_count = products_count\n",
        "    self.shelf_life = shelf_life\n",
        "    self.shortage_cost = shortage_cost\n",
        "    self.wastage_cost = wastage_cost\n",
        "    self.box_size = box_size\n",
        "\n",
        "    super(eGroceryEnv,self).__init__()\n",
        "\n",
        "    self.action_spaces = spaces.MultiDiscrete([max_demand]*self.products_count)\n",
        "    self.observation_space = spaces.Box(low = 0, high = 20000, shape=(self.n_features,), dtype = np.float16)\n",
        "\n",
        "    self.ind_shortages = list([])\n",
        "    self.ind_wastages = list([])\n",
        "    self.all_shortages = list([])\n",
        "    self.all_wastages = list([])\n",
        "\n",
        "    self.rewards = list([])\n",
        "    self.total_loss = list([])\n",
        "    self.curr_step = 0\n",
        "\n",
        "    self.curr_stock = list([])\n",
        "    for i in range(self.products_count):\n",
        "      self.curr_stock.append([])\n",
        "      for j in range(self.shelf_life[i]):\n",
        "        self.curr_stock[i].append(0)\n",
        "\n",
        "  def step(self, action):\n",
        "\n",
        "    # remove products out of shelf life from stock and update wastages\n",
        "    wastages = []\n",
        "    #print(action)\n",
        "    for i in range(self.products_count):\n",
        "      wastages.append(self.curr_stock[i].pop(0))\n",
        "      self.curr_stock[i].append(action[i]*self.box_size[i])\n",
        "    #print(wastages)\n",
        "    self.ind_wastages.append(wastages)\n",
        "    self.all_wastages.append(sum(wastages))\n",
        "\n",
        "    # Full fill the curr day demand and track shortages\n",
        "    prods = ['prod'+str(i) for i in [8,11,15,17,94,95,96,110,112,128]]\n",
        "    demands = self.df.loc[self.curr_step,prods].tolist()\n",
        "    demands = [int(demand) for demand in demands]\n",
        "    #print(demands)\n",
        "    #print(self.curr_stock)\n",
        "    shortages = []\n",
        "    for i in range(self.products_count):\n",
        "      for j in range(self.shelf_life[i]):\n",
        "        if self.curr_stock[i][j] >=demands[i]:\n",
        "          self.curr_stock[i][j] -= demands[i]\n",
        "          demands[i] = 0\n",
        "          break\n",
        "        else:\n",
        "          demands[i] -= self.curr_stock[i][j]\n",
        "          self.curr_stock[i][j] = 0\n",
        "      #print(demands[i])\n",
        "      shortages.append(int(demands[i]))\n",
        "    self.ind_shortages.append(shortages)\n",
        "    self.all_shortages.append(sum(shortages))\n",
        "\n",
        "\n",
        "    # Cacluate overall reward\n",
        "    self.curr_step += 1\n",
        "    #print(wastages,shortages)\n",
        "    reward = -1*(np.dot(self.wastage_cost,np.asarray(wastages))+np.dot(self.shortage_cost,np.asarray(shortages)))\n",
        "    self.rewards.append(reward)\n",
        "\n",
        "    # Update Next sate\n",
        "    obs  = self.df.loc[self.curr_step]\n",
        "    next_state = list([])\n",
        "    for i in range(len(self.curr_stock)):\n",
        "      for j in range(len(self.curr_stock[i])):\n",
        "        next_state.append(self.curr_stock[i][j])\n",
        "    obs = list(obs) + list(next_state) + list(self.shelf_life)\n",
        "\n",
        "    done = (self.curr_step < 0) or (self.curr_step > self.df.shape[0]-2)\n",
        "\n",
        "\n",
        "    return obs, done, reward, {}\n",
        "\n",
        "  def reset(self):\n",
        "\t\t# Reset the state of the environment to an initial state\n",
        "    self.ind_shortages = list([])\n",
        "    self.ind_wastages = list([])\n",
        "    self.all_shortages = list([])\n",
        "    self.all_wasatges = list([])\n",
        "\n",
        "    self.rewards = list([])\n",
        "    self.total_loss = list([])\n",
        "    self.curr_step = 0\n",
        "    self.curr_stock = list([])\n",
        "    for i in range(self.products_count):\n",
        "      self.curr_stock.append([])\n",
        "      for j in range(self.shelf_life[i]):\n",
        "        self.curr_stock[i].append(0)\n",
        "\n",
        "    return [0]*self.n_features"
      ],
      "execution_count": null,
      "outputs": []
    },
    {
      "cell_type": "code",
      "metadata": {
        "id": "7Jai0XFJBK9A"
      },
      "source": [
        "shelf_life = np.array([4, 3, 5, 10, 7, 2, 1, 3, 8, 6], dtype=np.int32)\n",
        "box_size = np.asarray([6, 10, 15, 4, 6, 2, 7, 50, 2, 30], dtype=np.int32)\n",
        "products_count = 10\n",
        "\n",
        "wastage_cost = np.array([1]*products_count, dtype=np.float16)\n",
        "shortage_cost = np.array([1]*products_count, dtype=np.float16)"
      ],
      "execution_count": null,
      "outputs": []
    },
    {
      "cell_type": "code",
      "metadata": {
        "id": "O8Goa2QGAvbo"
      },
      "source": [
        "train_df = pd.read_csv('/content/drive/MyDrive/Colab Notebooks/eGrocery_Project/final_data_trainx.csv')\n",
        "test_df = pd.read_csv('/content/drive/MyDrive/Colab Notebooks/eGrocery_Project/final_data_testx.csv')"
      ],
      "execution_count": null,
      "outputs": []
    },
    {
      "cell_type": "code",
      "metadata": {
        "id": "j4jShV3f9JcD"
      },
      "source": [
        "env1 = eGroceryEnv(test_df, shelf_life=shelf_life, shortage_cost=shortage_cost, wastage_cost=wastage_cost, box_size=box_size, products_count=10, max_demand=100)\n",
        "env2 = eGroceryEnv(test_df, shelf_life=shelf_life, shortage_cost=shortage_cost, wastage_cost=wastage_cost, box_size=box_size, products_count=10, max_demand=100)"
      ],
      "execution_count": null,
      "outputs": []
    },
    {
      "cell_type": "code",
      "metadata": {
        "id": "1cKw7w-i2_KT"
      },
      "source": [
        "window_size = 30\n",
        "products = [8,11,15,17,94,95,96,110,112,128]\n",
        "cols = ['prod'+str(i)+'avg'+str(window_size) for i in products]\n",
        "initial_predictions = train_df.loc[len(train_df)-1,cols].tolist()"
      ],
      "execution_count": null,
      "outputs": []
    },
    {
      "cell_type": "code",
      "metadata": {
        "id": "Ct7cuIVtTM_6"
      },
      "source": [
        "window_size = 1\n",
        "products = [8,11,15,17,94,95,96,110,112,128]\n",
        "cols = ['prod'+str(i) for i in products]\n",
        "initial_predictions = train_df.loc[len(train_df)-1,cols].tolist()"
      ],
      "execution_count": null,
      "outputs": []
    },
    {
      "cell_type": "code",
      "metadata": {
        "colab": {
          "base_uri": "https://localhost:8080/"
        },
        "id": "KAsdS6KT4J7t",
        "outputId": "2b4905f3-498b-4948-8272-bf16230df3b4"
      },
      "source": [
        "# Evaluating moving avergae agent\n",
        "state = env1.reset()\n",
        "curr_predictions = train_df.loc[len(train_df)-1,cols].tolist()\n",
        "total_reward = 0\n",
        "actions_taken = []\n",
        "#print(sum(env.curr_stock[0]))\n",
        "for i in range(len(test_df)-1):\n",
        "  quant_to_ship = [max(int(curr_predictions[j])-sum(row),0) for j,row in enumerate(env1.curr_stock)]\n",
        "  action = [(demand//box_size[j]) for j,demand in enumerate(quant_to_ship)] #Always less than predicted quantity\n",
        "  actions_taken.append(action)\n",
        "  #print(int(curr_predictions[0]),\" \",int(test_df['prod8'].iloc[i]),\" \",sum(env.curr_stock[0]),\" \",quant_to_ship[0],\" \",action[0])\n",
        "  next_state, done,reward,_ = env1.step(np.asarray(action))\n",
        "  #print(reward)\n",
        "  curr_predictions = test_df.loc[i,cols].tolist()\n",
        "  total_reward += reward\n",
        "print(total_reward)"
      ],
      "execution_count": null,
      "outputs": [
        {
          "output_type": "stream",
          "name": "stdout",
          "text": [
            "-2097.0\n"
          ]
        }
      ]
    },
    {
      "cell_type": "code",
      "metadata": {
        "colab": {
          "base_uri": "https://localhost:8080/"
        },
        "id": "2AM_JSAEBs66",
        "outputId": "a21d556b-6efc-4a37-8b67-61ca2ac9dea3"
      },
      "source": [
        "shortages = np.asarray(env1.ind_shortages)\n",
        "print('Shortages:',sum(sum(shortages)))\n",
        "wastages = np.asarray(env1.ind_wastages)\n",
        "print('Wastages:',sum(sum(wastages)))"
      ],
      "execution_count": null,
      "outputs": [
        {
          "output_type": "stream",
          "name": "stdout",
          "text": [
            "Shortages: 2028\n",
            "Wastages: 69\n"
          ]
        }
      ]
    },
    {
      "cell_type": "code",
      "metadata": {
        "colab": {
          "base_uri": "https://localhost:8080/"
        },
        "id": "-IaYGo43RGfv",
        "outputId": "a99a22e8-bcb1-47a3-8c27-c3e259b6dc2e"
      },
      "source": [
        "# Evaluating moving avergae agent\n",
        "state = env2.reset()\n",
        "curr_predictions = train_df.loc[len(train_df)-1,cols].tolist()\n",
        "total_reward = 0\n",
        "actions_taken = []\n",
        "#print(sum(env.curr_stock[0]))\n",
        "for i in range(len(test_df)-1):\n",
        "  quant_to_ship = [max(int(curr_predictions[j])-sum(row),0) for j,row in enumerate(env2.curr_stock)]\n",
        "  action = [(demand//box_size[j])+1 if demand%box_size[j]!=0 else (demand//box_size[j]) for j,demand in enumerate(quant_to_ship)] #Always greater than or equal to predicted quantity\n",
        "  actions_taken.append(action)\n",
        "  #print(int(curr_predictions[0]),\" \",int(test_df['prod8'].iloc[i]),\" \",sum(env.curr_stock[0]),\" \",quant_to_ship[0],\" \",action[0])\n",
        "  next_state, done,reward,_ = env2.step(np.asarray(action))\n",
        "  #print(reward)\n",
        "  curr_predictions = test_df.loc[i,cols].tolist()\n",
        "  total_reward += reward\n",
        "print(total_reward)"
      ],
      "execution_count": null,
      "outputs": [
        {
          "output_type": "stream",
          "name": "stdout",
          "text": [
            "-819.0\n"
          ]
        }
      ]
    },
    {
      "cell_type": "code",
      "metadata": {
        "colab": {
          "base_uri": "https://localhost:8080/"
        },
        "id": "UeQdOleI-3N7",
        "outputId": "57068125-9471-499e-f7ed-cfb33407eeb3"
      },
      "source": [
        "shortages = np.asarray(env2.ind_shortages)\n",
        "print('Shortages:',sum(sum(shortages)))\n",
        "wastages = np.asarray(env2.ind_wastages)\n",
        "print('Wastages:',sum(sum(wastages)))"
      ],
      "execution_count": null,
      "outputs": [
        {
          "output_type": "stream",
          "name": "stdout",
          "text": [
            "Shortages: 681\n",
            "Wastages: 138\n"
          ]
        }
      ]
    },
    {
      "cell_type": "markdown",
      "metadata": {
        "id": "18uJ22NrCROZ"
      },
      "source": [
        "As one would expect, shortages comedown when boxes with more than precidted quantity is sent, whereas wastage go up"
      ]
    }
  ]
}