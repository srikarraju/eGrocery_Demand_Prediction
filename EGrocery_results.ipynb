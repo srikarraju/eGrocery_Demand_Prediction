{
  "nbformat": 4,
  "nbformat_minor": 0,
  "metadata": {
    "colab": {
      "provenance": [],
      "authorship_tag": "ABX9TyMBdgHN/Hz/BWfFjgZYubX6",
      "include_colab_link": true
    },
    "kernelspec": {
      "name": "python3",
      "display_name": "Python 3"
    },
    "language_info": {
      "name": "python"
    }
  },
  "cells": [
    {
      "cell_type": "markdown",
      "metadata": {
        "id": "view-in-github",
        "colab_type": "text"
      },
      "source": [
        "<a href=\"https://colab.research.google.com/github/srikarraju/eGrocery_Demand_Prediction/blob/main/EGrocery_results.ipynb\" target=\"_parent\"><img src=\"https://colab.research.google.com/assets/colab-badge.svg\" alt=\"Open In Colab\"/></a>"
      ]
    },
    {
      "cell_type": "code",
      "metadata": {
        "id": "dXkQaITNlg8l"
      },
      "source": [
        "import numpy as np\n",
        "import matplotlib.pyplot as plt\n",
        "\n",
        "N = 31\n",
        "DQN_wastage = (0,41,5,191,295,357,279,642,468,583,483,449,485,498,233,344,439,404,470,250,289,246,426,493,295,293,384,270,483,313,345)\n",
        "Actor_critic = (0,318,237,247,175,212,262,170,293,239,138,145,235,222,199,176,263,238,221,236,231,236,183,211,142,176,225,278,313,227,252)\n",
        "PPO = (0,324,275,267,200,238,294,195,320,275,164,180,261,247,235,212,290,268,240,272,250,266,227,242,175,210,254,302,335,266,283)\n",
        "print(len(DQN_wastage))\n",
        "print(len(Actor_critic))\n",
        "print(len(PPO))\n",
        "\n",
        "ind = np.arange(N)\n",
        "ind = 2*ind\n",
        "width = 0.5\n",
        "plt.bar( ind,DQN_wastage, width, label='DQN')\n",
        "plt.bar(ind + width, PPO, width,label='PPO')\n",
        "plt.bar(ind + width + width, Actor_critic, width,label='Actor_critic')\n",
        "\n",
        "plt.ylabel('Wastage')\n",
        "#plt.title('Scores by group and gender')\n",
        "\n",
        "plt.xticks(ind + 5*width / 2, np.arange(N))\n",
        "plt.legend(loc='best')\n",
        "plt.savefig('Shortage.png')"
      ],
      "execution_count": null,
      "outputs": []
    },
    {
      "cell_type": "code",
      "metadata": {
        "colab": {
          "base_uri": "https://localhost:8080/"
        },
        "id": "VBc37Sd1luOA",
        "outputId": "3573bf54-bf50-407d-c583-43d663f6be6f"
      },
      "source": [
        "# Losses of different algorithms. Lower the better\n",
        "AC = [11, 5, 1, 7, 8, 52, 50, 12, 52, 9, 6, 11, 5, 3, 4, 50, 39, 39, 27, 31, 27, 8, 12, 14, 10, 19, 6, 22, 20, 27]\n",
        "AC_LSTM = [9.0, 7.0, 5.0, 7.0, 8.0, 52.0, 49.0, 14.0, 51.0, 9.0, 5.0, 12.0, 6.0, 4.0, 4.0, 50.0, 39.0, 36.0, 27.0, 30.0, 28.0, 10.0, 13.0, 12.0, 10.0, 18.0, 8.0, 20.0, 21.0, 27.0]\n",
        "NAC_2 = [5.0, 2.0, 3.0, 3.0, 3.0, 49.0, 40.0, 12.0, 45.0, 2.0, 1.0, 4.0, -0.0, -0.0, -0.0, 37.0, 30.0, 29.0, 17.0, 23.0, 21.0, 3.0, 6.0, 9.0, 8.0, 10.0, 4.0, 16.0, 11.0, 25.0]\n",
        "NAC_4 = [2.0, -0.0, -0.0, -0.0, -0.0, 39.0, 50.0, 10.0, 45.0, 2.0, 1.0, 2.0, 3.0, -0.0, -0.0, 44.0, 34.0, 35.0, 24.0, 23.0, 17.0, 5.0, 8.0, 4.0, 6.0, 14.0, 3.0, 10.0, 11.0, 19.0]\n",
        "\n",
        "print(sum(AC),sum(AC_LSTM),sum(NAC_2),sum(NAC_4))"
      ],
      "execution_count": null,
      "outputs": [
        {
          "output_type": "stream",
          "text": [
            "587 591.0 418.0 411.0\n"
          ],
          "name": "stdout"
        }
      ]
    }
  ]
}