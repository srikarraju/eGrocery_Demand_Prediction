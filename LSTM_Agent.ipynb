{
  "nbformat": 4,
  "nbformat_minor": 0,
  "metadata": {
    "colab": {
      "provenance": [],
      "mount_file_id": "1tbLVHGjC3cW5AyQJPkg1ihdRSqZ8OAJD",
      "authorship_tag": "ABX9TyOvRAKVRW7JX3rv+yOXJix9",
      "include_colab_link": true
    },
    "kernelspec": {
      "name": "python3",
      "display_name": "Python 3"
    },
    "language_info": {
      "name": "python"
    }
  },
  "cells": [
    {
      "cell_type": "markdown",
      "metadata": {
        "id": "view-in-github",
        "colab_type": "text"
      },
      "source": [
        "<a href=\"https://colab.research.google.com/github/srikarraju/eGrocery_Demand_Prediction/blob/main/LSTM_Agent.ipynb\" target=\"_parent\"><img src=\"https://colab.research.google.com/assets/colab-badge.svg\" alt=\"Open In Colab\"/></a>"
      ]
    },
    {
      "cell_type": "code",
      "execution_count": null,
      "metadata": {
        "id": "ae2sv0U6Msgy"
      },
      "outputs": [],
      "source": [
        "import pandas as pd\n",
        "import numpy as np"
      ]
    },
    {
      "cell_type": "code",
      "source": [
        "import gym\n",
        "from gym import spaces\n",
        "import numpy as np\n",
        "\n",
        "class eGroceryEnv(gym.Env):\n",
        "  def __init__(self, df, shelf_life, shortage_cost, wastage_cost, box_size, products_count=10, max_demand=100):\n",
        "    self.df = df\n",
        "    self.n_features = 3 + 4*products_count + len(shelf_life) + sum(shelf_life) # 3 - day week month && 4 - avg7, avg15, avg30,\n",
        "    self.products_count = products_count\n",
        "    self.shelf_life = shelf_life\n",
        "    self.shortage_cost = shortage_cost\n",
        "    self.wastage_cost = wastage_cost\n",
        "    self.box_size = box_size\n",
        "\n",
        "    super(eGroceryEnv,self).__init__()\n",
        "\n",
        "    self.action_spaces = spaces.MultiDiscrete([max_demand]*self.products_count)\n",
        "    self.observation_space = spaces.Box(low = 0, high = 20000, shape=(self.n_features,), dtype = np.float16)\n",
        "\n",
        "    self.ind_shortages = list([])\n",
        "    self.ind_wastages = list([])\n",
        "    self.all_shortages = list([])\n",
        "    self.all_wastages = list([])\n",
        "\n",
        "    self.rewards = list([])\n",
        "    self.total_loss = list([])\n",
        "    self.curr_step = 0\n",
        "\n",
        "    self.curr_stock = list([])\n",
        "    for i in range(self.products_count):\n",
        "      self.curr_stock.append([])\n",
        "      for j in range(self.shelf_life[i]):\n",
        "        self.curr_stock[i].append(0)\n",
        "\n",
        "  def step(self, action):\n",
        "\n",
        "    # remove products out of shelf life from stock and update wastages\n",
        "    wastages = []\n",
        "    #print(action)\n",
        "    for i in range(self.products_count):\n",
        "      wastages.append(self.curr_stock[i].pop(0))\n",
        "      self.curr_stock[i].append(action[i]*self.box_size[i])\n",
        "    #print(wastages)\n",
        "    self.ind_wastages.append(wastages)\n",
        "    self.all_wastages.append(sum(wastages))\n",
        "\n",
        "    # Full fill the curr day demand and track shortages\n",
        "    prods = ['prod'+str(i) for i in [8,11,15,17,94,95,96,110,112,128]]\n",
        "    demands = self.df.loc[self.curr_step,prods].tolist()\n",
        "    demands = [int(demand) for demand in demands]\n",
        "    #print(demands)\n",
        "    #print(self.curr_stock)\n",
        "    shortages = []\n",
        "    for i in range(self.products_count):\n",
        "      for j in range(self.shelf_life[i]):\n",
        "        if self.curr_stock[i][j] >=demands[i]:\n",
        "          self.curr_stock[i][j] -= demands[i]\n",
        "          demands[i] = 0\n",
        "          break\n",
        "        else:\n",
        "          demands[i] -= self.curr_stock[i][j]\n",
        "          self.curr_stock[i][j] = 0\n",
        "      #print(demands[i])\n",
        "      shortages.append(int(demands[i]))\n",
        "    self.ind_shortages.append(shortages)\n",
        "    self.all_shortages.append(sum(shortages))\n",
        "\n",
        "\n",
        "    # Cacluate overall reward\n",
        "    self.curr_step += 1\n",
        "    #print(wastages,shortages)\n",
        "    reward = -1*(np.dot(self.wastage_cost,np.asarray(wastages))+np.dot(self.shortage_cost,np.asarray(shortages)))\n",
        "    self.rewards.append(reward)\n",
        "\n",
        "    # Update Next sate\n",
        "    obs  = self.df.loc[self.curr_step]\n",
        "    next_state = list([])\n",
        "    for i in range(len(self.curr_stock)):\n",
        "      for j in range(len(self.curr_stock[i])):\n",
        "        next_state.append(self.curr_stock[i][j])\n",
        "    obs = list(obs) + list(next_state) + list(self.shelf_life)\n",
        "\n",
        "    done = (self.curr_step < 0) or (self.curr_step > self.df.shape[0]-2)\n",
        "\n",
        "\n",
        "    return obs, done, reward, {}\n",
        "\n",
        "  def reset(self):\n",
        "\t\t# Reset the state of the environment to an initial state\n",
        "    self.ind_shortages = list([])\n",
        "    self.ind_wastages = list([])\n",
        "    self.all_shortages = list([])\n",
        "    self.all_wasatges = list([])\n",
        "\n",
        "    self.rewards = list([])\n",
        "    self.total_loss = list([])\n",
        "    self.curr_step = 0\n",
        "    self.curr_stock = list([])\n",
        "    for i in range(self.products_count):\n",
        "      self.curr_stock.append([])\n",
        "      for j in range(self.shelf_life[i]):\n",
        "        self.curr_stock[i].append(0)\n",
        "\n",
        "    return [0]*self.n_features"
      ],
      "metadata": {
        "id": "DLOMV8KVNvG1"
      },
      "execution_count": null,
      "outputs": []
    },
    {
      "cell_type": "code",
      "source": [
        "shelf_life = np.array([4, 3, 5, 10, 7, 2, 1, 3, 8, 6], dtype=np.int32)\n",
        "box_size = np.asarray([6, 10, 15, 4, 6, 2, 7, 50, 2, 30], dtype=np.int32)\n",
        "products_count = 10\n",
        "\n",
        "wastage_cost = np.array([1]*products_count, dtype=np.float16)\n",
        "shortage_cost = np.array([1]*products_count, dtype=np.float16)"
      ],
      "metadata": {
        "id": "T5d8NwGoOpde"
      },
      "execution_count": null,
      "outputs": []
    },
    {
      "cell_type": "code",
      "source": [
        "train_df = pd.read_csv('/content/drive/MyDrive/Colab Notebooks/eGrocery_Project/final_data_trainx.csv')\n",
        "test_df = pd.read_csv('/content/drive/MyDrive/Colab Notebooks/eGrocery_Project/final_data_testx.csv')"
      ],
      "metadata": {
        "id": "GMGkeuCGPV-N"
      },
      "execution_count": null,
      "outputs": []
    },
    {
      "cell_type": "code",
      "source": [
        "env1 = eGroceryEnv(test_df, shelf_life=shelf_life, shortage_cost=shortage_cost, wastage_cost=wastage_cost, box_size=box_size, products_count=10, max_demand=100)\n",
        "env2 = eGroceryEnv(test_df, shelf_life=shelf_life, shortage_cost=shortage_cost, wastage_cost=wastage_cost, box_size=box_size, products_count=10, max_demand=100)"
      ],
      "metadata": {
        "id": "3dlDR55mPYIK"
      },
      "execution_count": null,
      "outputs": []
    },
    {
      "cell_type": "code",
      "source": [
        "class LSTM_Agent:\n",
        "  def __init__(self, hid_size):\n",
        "\n",
        "  def train()"
      ],
      "metadata": {
        "id": "54-r6op1PZOw"
      },
      "execution_count": null,
      "outputs": []
    }
  ]
}