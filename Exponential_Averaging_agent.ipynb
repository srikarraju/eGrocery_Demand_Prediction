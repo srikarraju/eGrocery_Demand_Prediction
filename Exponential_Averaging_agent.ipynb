{
  "nbformat": 4,
  "nbformat_minor": 0,
  "metadata": {
    "colab": {
      "provenance": [],
      "mount_file_id": "1isVRk1bi69L0-jzgkXqsK96ee017Rpj9",
      "authorship_tag": "ABX9TyPOzyUvCnnM3zvHlRuiOK74",
      "include_colab_link": true
    },
    "kernelspec": {
      "name": "python3",
      "display_name": "Python 3"
    },
    "language_info": {
      "name": "python"
    }
  },
  "cells": [
    {
      "cell_type": "markdown",
      "metadata": {
        "id": "view-in-github",
        "colab_type": "text"
      },
      "source": [
        "<a href=\"https://colab.research.google.com/github/srikarraju/eGrocery_Demand_Prediction/blob/main/Exponential_Averaging_agent.ipynb\" target=\"_parent\"><img src=\"https://colab.research.google.com/assets/colab-badge.svg\" alt=\"Open In Colab\"/></a>"
      ]
    },
    {
      "cell_type": "code",
      "metadata": {
        "colab": {
          "base_uri": "https://localhost:8080/"
        },
        "id": "H-4qsL0UEye7",
        "outputId": "f147bc9e-48c2-4d4e-999c-24afac9cf6ed"
      },
      "source": [
        "cd /content/drive/MyDrive/Colab Notebooks/eGrocery_Project"
      ],
      "execution_count": null,
      "outputs": [
        {
          "output_type": "stream",
          "name": "stdout",
          "text": [
            "/content/drive/MyDrive/Colab Notebooks/eGrocery_Project\n"
          ]
        }
      ]
    },
    {
      "cell_type": "code",
      "metadata": {
        "id": "OCo-bJHFE7dD"
      },
      "source": [
        "import pandas as pd\n",
        "import numpy as np\n",
        "\n",
        "from eGroceryEnv import eGroceryEnv"
      ],
      "execution_count": null,
      "outputs": []
    },
    {
      "cell_type": "code",
      "metadata": {
        "id": "2_eRcuPAE-OB"
      },
      "source": [
        "shelf_life = np.array([4, 3, 5, 10, 7, 2, 1, 3, 8, 6], dtype=np.int32)\n",
        "box_size = np.asarray([6, 10, 15, 4, 6, 2, 7, 50, 2, 30], dtype=np.int32)\n",
        "products_count = 10\n",
        "\n",
        "wastage_cost = np.array([1]*products_count, dtype=np.float16)\n",
        "shortage_cost = np.array([1]*products_count, dtype=np.float16)"
      ],
      "execution_count": null,
      "outputs": []
    },
    {
      "cell_type": "code",
      "metadata": {
        "id": "kOyUdAJ3FCbu"
      },
      "source": [
        "train_df = pd.read_csv('/content/drive/MyDrive/Colab Notebooks/eGrocery_Project/final_data_trainx.csv')\n",
        "test_df = pd.read_csv('/content/drive/MyDrive/Colab Notebooks/eGrocery_Project/final_data_testx.csv')"
      ],
      "execution_count": null,
      "outputs": []
    },
    {
      "cell_type": "code",
      "metadata": {
        "id": "x8tfiXIoFFPE"
      },
      "source": [
        "env1 = eGroceryEnv(test_df, shelf_life=shelf_life, shortage_cost=shortage_cost, wastage_cost=wastage_cost, box_size=box_size, products_count=10, max_demand=100)\n",
        "env2 = eGroceryEnv(test_df, shelf_life=shelf_life, shortage_cost=shortage_cost, wastage_cost=wastage_cost, box_size=box_size, products_count=10, max_demand=100)"
      ],
      "execution_count": null,
      "outputs": []
    },
    {
      "cell_type": "code",
      "metadata": {
        "id": "b4CZ-nbEFHf6"
      },
      "source": [
        "# Evaluating moving avergae agent\n",
        "window_size = 7\n",
        "\n",
        "state = env1.reset()\n",
        "curr_predictions = train_df.loc[len(train_df)-1,cols].tolist()\n",
        "total_reward = 0\n",
        "actions_taken = []\n",
        "#print(sum(env.curr_stock[0]))\n",
        "for i in range(len(test_df)-1):\n",
        "  quant_to_ship = [max(int(curr_predictions[j])-sum(row),0) for j,row in enumerate(env1.curr_stock)]\n",
        "  action = [(demand//box_size[j]) for j,demand in enumerate(quant_to_ship)] #Always less than predicted quantity\n",
        "  actions_taken.append(action)\n",
        "  #print(int(curr_predictions[0]),\" \",int(test_df['prod8'].iloc[i]),\" \",sum(env.curr_stock[0]),\" \",quant_to_ship[0],\" \",action[0])\n",
        "  next_state, done,reward,_ = env1.step(np.asarray(action))\n",
        "  #print(reward)\n",
        "  curr_predictions = test_df.loc[i,cols].tolist()\n",
        "  total_reward += reward\n",
        "print(total_reward)"
      ],
      "execution_count": null,
      "outputs": []
    }
  ]
}