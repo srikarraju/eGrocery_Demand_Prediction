{
  "nbformat": 4,
  "nbformat_minor": 0,
  "metadata": {
    "colab": {
      "provenance": [],
      "mount_file_id": "1PuYJvlnlVPUIHjw0mztoE-WARwqXCTdx",
      "authorship_tag": "ABX9TyMWczlzOZv6g4wvZG++Sv28",
      "include_colab_link": true
    },
    "kernelspec": {
      "name": "python3",
      "display_name": "Python 3"
    },
    "language_info": {
      "name": "python"
    }
  },
  "cells": [
    {
      "cell_type": "markdown",
      "metadata": {
        "id": "view-in-github",
        "colab_type": "text"
      },
      "source": [
        "<a href=\"https://colab.research.google.com/github/srikarraju/eGrocery_Demand_Prediction/blob/main/Reinforce(with_baseline)_eGrocery.ipynb\" target=\"_parent\"><img src=\"https://colab.research.google.com/assets/colab-badge.svg\" alt=\"Open In Colab\"/></a>"
      ]
    },
    {
      "cell_type": "code",
      "metadata": {
        "id": "zCNrY4m-NC_P"
      },
      "source": [
        "!pip install tensorboardX"
      ],
      "execution_count": null,
      "outputs": []
    },
    {
      "cell_type": "code",
      "metadata": {
        "id": "1aKirrj7NNB9"
      },
      "source": [
        "import random\n",
        "import numpy as np\n",
        "import pandas as pd\n",
        "import matplotlib.pyplot as plt\n",
        "import torch\n",
        "import torch.nn as nn\n",
        "import torch.nn.functional as F\n",
        "from torch.distributions import MultivariateNormal\n",
        "import random\n",
        "import pandas as pd\n",
        "from tensorboardX import SummaryWriter"
      ],
      "execution_count": null,
      "outputs": []
    },
    {
      "cell_type": "code",
      "metadata": {
        "id": "9yx9xf2fl7Vu"
      },
      "source": [
        "class EGroceryEnv():\n",
        "\n",
        "\tdef __init__(self, df=pd.DataFrame({0:[0]}), products_count=10, features=['a'], shelf_life=[1], wastage_cost=[1], shortage_cost=[1]):\n",
        "\t\tsuper(EGroceryEnv, self).__init__()\n",
        "\n",
        "\t\tself.df = df\n",
        "\t\tself.products_count = products_count\n",
        "\t\tself.shelf_life = shelf_life\n",
        "\t\tself.features = features\n",
        "\t\tself.wastage_cost = wastage_cost\n",
        "\t\tself.shortage_cost = shortage_cost\n",
        "\t\tself.current_step = 0\n",
        "\t\tself.wastage_track = list([])\n",
        "\t\tself.shortage_track = list([])\n",
        "\t\tself.reward_track = list([])\n",
        "\n",
        "\t\t#variables to track shartage and wastage\n",
        "\t\tself.shortage = np.array(list([0]*self.products_count))\n",
        "\t\tself.wastage = np.array(list([0]*self.products_count))\n",
        "\n",
        "\t\t#Define Stock\n",
        "\t\tself.stock = list([])\n",
        "\t\tfor i in range(self.products_count):\n",
        "\t\t\tself.stock.append([0])\n",
        "\t\tprint(features)\n",
        "\n",
        "\n",
        "\tdef _next_observation(self):\n",
        "\n",
        "\t\tobs  = self.df.loc[self.current_step,self.features]\n",
        "\n",
        "\t\tst_temp = list([])\n",
        "\t\tfor i in range(len(self.stock)):\n",
        "\t\t\tfor j in range(1,min(int(self.stock[i][0])+1,5)):\n",
        "\t\t\t\tst_temp.append(self.stock[i][j])\n",
        "\t\t\tif(self.stock[i][0]==5):\n",
        "\t\t\t\tst_temp.append(self.stock[i][4])\n",
        "\t\t\telif(self.stock[i][0]<5):\n",
        "\t\t\t\tfor j in range(int(self.stock[i][0])+1,6):\n",
        "\t\t\t\t\tst_temp.append(0)\n",
        "\t\t\telse:\n",
        "\t\t\t\tst_temp.append(np.sum(self.stock[i][5:int(self.stock[i][0])+1]))\n",
        "\t\tobs = list(obs) + list(st_temp) + list(self.shelf_life)\n",
        "\t\treturn obs\n",
        "\n",
        "\tdef _take_action(self, action):\n",
        "\t\t#Add products to the current stocks\n",
        "\t\tfor i in range(self.products_count):\n",
        "\t\t\tif(len(self.stock[i])<self.shelf_life[i]):\n",
        "\t\t\t\tfor j in range(len(self.stock[i]),int(self.shelf_life[i])):\n",
        "\t\t\t\t\tself.stock[i].append(0)\n",
        "\t\t\tself.stock[i].append(action[i])\n",
        "\t\t\tself.stock[i][0]=self.shelf_life[i]\n",
        "\n",
        "\n",
        "\n",
        "\t\t#Fullfill demand\n",
        "\t\tprods = ['prod'+str(i) for i in [8,11,15,17,94,95,96,110,112,128]]\n",
        "\t\tdemand = self.df.loc[self.current_step+1,prods]\n",
        "\t\tfor i in range(self.products_count):\n",
        "\t\t\tfor j in range(1,int(self.stock[i][0])+1):\n",
        "\t\t\t\tif(self.stock[i][j]>=demand[i]):\n",
        "\t\t\t\t\tself.stock[i][j] = self.stock[i][j] - demand[i]\n",
        "\t\t\t\t\tdemand[i] = 0\n",
        "\t\t\t\t\tbreak\n",
        "\t\t\t\telse:\n",
        "\t\t\t\t\tdemand[i] = demand[i] - self.stock[i][j]\n",
        "\t\t\t\t\tself.stock[i][j] = 0\n",
        "\t\t\tif(demand[i]>0):\n",
        "\t\t\t\tself.shortage[i]=demand[i]\n",
        "\n",
        "\t\t#Update shelf life and find out wastage\n",
        "\t\tfor i in range(self.products_count):\n",
        "\t\t\tself.stock[i][0] = self.stock[i][0] -1\n",
        "\t\t\tif(self.stock[i][1]>0):\n",
        "\t\t\t\tself.wastage[i] = self.stock[i][1]\n",
        "\t\t\tfor j in range(1,int(self.stock[i][0])+1):\n",
        "\t\t\t\tself.stock[i][j] = self.stock[i][j+1]\n",
        "\t\t\tself.stock[i].pop()\n",
        "\n",
        "\n",
        "\tdef step(self, action):\n",
        "\t        # update stock, fullfill demand and calculate shortage and wastage\n",
        "\t\tquantity = [6, 10, 15, 4, 6, 2, 7, 50, 2, 30]\n",
        "\t\taction1 = [0]*self.products_count\n",
        "\t\tfor i in range(len(action)):\n",
        "\t\t\taction1[i] = action[i]*quantity[i]\n",
        "\t\tself._take_action(action1)\n",
        "\t\tself.action = action\n",
        "\n",
        "\t\t#increment step\n",
        "\t\tself.current_step += 1\n",
        "\n",
        "\n",
        "\t\treward = -1*(np.matmul(self.wastage_cost,self.wastage.transpose())+np.matmul(self.shortage_cost,self.shortage.transpose()))\n",
        "\t\tself.reward = reward\n",
        "\t\tdone = (self.current_step < 0) or (self.current_step > self.df.shape[0]-2)\n",
        "\n",
        "\t\tobs = self._next_observation()\n",
        "\n",
        "\t\tself.wastage_track.append(np.sum(self.wastage))\n",
        "\t\tself.shortage_track.append(np.sum(self.shortage))\n",
        "\t\tself.reward_track.append(np.abs(self.reward))\n",
        "\n",
        "\n",
        "\t\tself.shortage = np.array(list([0]*self.products_count))\n",
        "\t\tself.wastage = np.array(list([0]*self.products_count))\n",
        "\n",
        "\t\treturn obs, np.sum(self.reward), done, {}\n",
        "\n",
        "\tdef reset(self):\n",
        "\t\t# Reset the state of the environment to an initial state\n",
        "\t\tself.current_step = 0\n",
        "\t\tself.shortage = np.array(list([0]*self.products_count))\n",
        "\t\tself.wastage = np.array(list([0]*self.products_count))\n",
        "\t\tself.stock = list([])\n",
        "\t\tfor i in range(self.products_count):\n",
        "\t\t\tself.stock.append([0])\n",
        "\n",
        "\t\t#print(len(self.features),products_count)\n",
        "\t\t#print(self.features)\n",
        "\t\treturn [0]*len(self.features) + [0]*6*self.products_count"
      ],
      "execution_count": null,
      "outputs": []
    },
    {
      "cell_type": "code",
      "metadata": {
        "id": "dSaRrxZrNY2h"
      },
      "source": [
        "class ActorCritic(nn.Module):\n",
        "    def __init__(self, state_dim, action_dim, action_std, lr, betas):\n",
        "        super(ActorCritic, self).__init__()\n",
        "\t#actor\n",
        "        self.actor =  nn.Sequential(\n",
        "                nn.Linear(state_dim, 512),\n",
        "                nn.ReLU(),\n",
        "                nn.Linear(512, 512),\n",
        "                nn.ReLU(),\n",
        "                nn.Linear(512, 256),\n",
        "                nn.ReLU(),\n",
        "                nn.Linear(256, action_dim),\n",
        "\t\tnn.ReLU()\n",
        "                )\n",
        "        # critic\n",
        "        self.critic = nn.Sequential(\n",
        "                nn.Linear(state_dim, 512),\n",
        "                nn.ReLU(),\n",
        "                nn.Linear(512, 512),\n",
        "                nn.ReLU(),\n",
        "                nn.Linear(512, 256),\n",
        "                nn.ReLU(),\n",
        "                nn.Linear(256, 1)\n",
        "                )\n",
        "        #self.device = device\n",
        "        self.action_var = torch.full((action_dim,), action_std*action_std)\n",
        "        self.actor_optimizer = torch.optim.Adam(self.actor.parameters(), lr=lr, betas=betas)\n",
        "        self.critic_optimizer = torch.optim.Adam(self.critic.parameters(), lr=lr, betas=betas)\n",
        "        self.MseLoss = nn.MSELoss()\n",
        "\n",
        "    def forward(self,state):\n",
        "        action_mean = self.actor(state)\n",
        "        #print(action_var)\n",
        "        action_var = self.action_var.expand_as(action_mean)\n",
        "        #print(action_var)\n",
        "        cov_mat = torch.diag_embed(action_var)\n",
        "\n",
        "        dist = MultivariateNormal(action_mean, cov_mat)\n",
        "\n",
        "        action_logprobs = dist.log_prob(action)\n",
        "        dist_entropy = dist.entropy()\n",
        "        state_value = self.critic(state)\n",
        "        return action_logprobs, torch.squeeze(state_value), dist_entropy\n",
        "\n",
        "    def act(self, state):\n",
        "        state = torch.Tensor(state)\n",
        "        action_mean = self.actor(state)\n",
        "        cov_mat = torch.diag(self.action_var)\n",
        "\n",
        "        dist = MultivariateNormal(action_mean, cov_mat)\n",
        "        action = dist.sample()\n",
        "        action_logprob = dist.log_prob(action)\n",
        "\n",
        "        return action.detach()\n",
        "\n",
        "    def evaluate(self, state, action):\n",
        "        action_mean = self.actor(state)\n",
        "\n",
        "        action_var = self.action_var.expand_as(action_mean)\n",
        "        cov_mat = torch.diag_embed(action_var)\n",
        "\n",
        "        dist = MultivariateNormal(action_mean, cov_mat)\n",
        "\n",
        "        action_logprobs = dist.log_prob(action)\n",
        "        dist_entropy = dist.entropy()\n",
        "        state_value = self.critic(state)\n",
        "\n",
        "        return action_logprobs, torch.squeeze(state_value), dist_entropy\n",
        "\n",
        "    def select_action(self, state, memory):\n",
        "        state = torch.FloatTensor(state.reshape(1, -1))\n",
        "        return self.policy_old.act(state, memory).cpu().data.numpy().flatten()\n",
        "\n",
        "    def update(self,trajectory):\n",
        "      states, actions, rewards, action_means = [], [], [], []\n",
        "      log_probs = []\n",
        "      for sample in trajectory:\n",
        "        state, action, next_state, reward, done = sample[0], sample[1], sample[2], sample[3], sample[4]\n",
        "        states.append(state)\n",
        "        actions.append(action)\n",
        "        rewards.append(reward)\n",
        "\n",
        "      rewards = np.array(rewards)\n",
        "      R = torch.tensor([np.sum(rewards[i:] * (gamma ** np.array(range(0, len(rewards) - i)))) for i in\n",
        "                          range(len(rewards))]).float()\n",
        "\n",
        "      states = torch.FloatTensor(states)\n",
        "      state_values = torch.flatten(self.critic(states).float())\n",
        "      actions = torch.FloatTensor(actions)\n",
        "      action_logprobs ,_ ,_ = self.evaluate(states,actions)\n",
        "\n",
        "      critic_loss_fn = nn.MSELoss()\n",
        "      self.critc_loss = critic_loss_fn(state_values,R)\n",
        "      self.critic_optimizer.zero_grad()\n",
        "      self.critc_loss.backward()\n",
        "      self.critic_optimizer.step()\n",
        "\n",
        "      state_values = state_values.detach()\n",
        "\n",
        "      self.policy_net_loss = -torch.sum(action_logprobs*(R-state_values))\n",
        "      self.actor_optimizer.zero_grad()\n",
        "      self.policy_net_loss.backward()\n",
        "      self.actor_optimizer.step()"
      ],
      "execution_count": null,
      "outputs": []
    },
    {
      "cell_type": "code",
      "metadata": {
        "colab": {
          "base_uri": "https://localhost:8080/"
        },
        "id": "OHZRDQYNl7V3",
        "outputId": "e0e5ba17-94f5-48b8-845c-248c04e95ab0"
      },
      "source": [
        "df_train = pd.read_csv('/content/drive/MyDrive/Colab Notebooks/RL_Project/Models/ppo_based/PPOBased/data/final_data_trainx.csv')\n",
        "df_test = pd.read_csv('/content/drive/MyDrive/Colab Notebooks/RL_Project/Models/ppo_based/PPOBased/data/final_data_testx.csv')\n",
        "\n",
        "#products_count = 10\n",
        "products_count = 1\n",
        "\n",
        "# avg_f7 = ['prod'+str(i)+'avg7' for i in [8,11,15,17,94,95,96,110,112,128]]\n",
        "# avg_f15 = ['prod'+str(i)+'avg15' for i in [8,11,15,17,94,95,96,110,112,128]]\n",
        "# avg_f30 = ['prod'+str(i)+'avg30' for i in [8,11,15,17,94,95,96,110,112,128]]\n",
        "\n",
        "avg_f7 = ['prod'+str(i)+'avg7' for i in [8]]\n",
        "avg_f15 = ['prod'+str(i)+'avg15' for i in [8]]\n",
        "avg_f30 = ['prod'+str(i)+'avg30' for i in [8]]\n",
        "\n",
        "features = ['month', 'monthday', 'weekday'] + avg_f7 + avg_f15 + avg_f30\n",
        "\n",
        "print(features)\n",
        "\n",
        "# shelf_life = np.array([4, 3, 5, 10, 7, 2, 1, 3, 8, 6], dtype=np.float32)\n",
        "shelf_life = np.array([4], dtype=np.float32)\n",
        "\n",
        "wastage_cost = np.array([1]*products_count, dtype=np.float16)\n",
        "shortage_cost = np.array([1]*products_count, dtype=np.float16)\n",
        "\n",
        "action_std = 0.2\n",
        "eps_clip = 0.2\n",
        "gamma = 0.99\n",
        "\n",
        "lr = 0.0001\n",
        "betas = (0.9, 0.999)\n",
        "K_epochs = 5\n",
        "\n",
        "update_timestep = 20\n",
        "time_step=0\n",
        "running_reward = 0\n",
        "\n",
        "state_dim = len(features) + 6*products_count\n",
        "action_dim = products_count\n",
        "\n",
        "env = EGroceryEnv(df_train, products_count, features, shelf_life, wastage_cost, shortage_cost)\n",
        "\n",
        "ac = ActorCritic(state_dim, action_dim, action_std,lr ,betas)\n",
        "\n",
        "writer = SummaryWriter()\n",
        "\n",
        "Total_reward = []\n"
      ],
      "execution_count": null,
      "outputs": [
        {
          "output_type": "stream",
          "text": [
            "['month', 'monthday', 'weekday', 'prod8avg7', 'prod8avg15', 'prod8avg30']\n",
            "['month', 'monthday', 'weekday', 'prod8avg7', 'prod8avg15', 'prod8avg30']\n"
          ],
          "name": "stdout"
        }
      ]
    },
    {
      "cell_type": "code",
      "metadata": {
        "id": "VgmEMdvPCwgL",
        "colab": {
          "base_uri": "https://localhost:8080/",
          "height": 629
        },
        "outputId": "953f0c5b-0494-4be8-cf78-a234bbe9315e"
      },
      "source": [
        "for epoch in range(0,10000):\n",
        "  state = env.reset()\n",
        "  trajectory = []\n",
        "  total_reward = 0\n",
        "  for step in range(0,730):\n",
        "    state = np.asarray(state,dtype=float)\n",
        "    action = ac.act(state)\n",
        "    next_state,reward,done,_ = env.step(action.tolist())\n",
        "    total_reward += reward\n",
        "    trajectory.append((state,action.tolist(),next_state,reward,done))\n",
        "    state = next_state\n",
        "    if done==1:\n",
        "      ac.update(trajectory)\n",
        "      trajectory = []\n",
        "      break\n",
        "  print(\"Epoch:\",epoch,total_reward)"
      ],
      "execution_count": null,
      "outputs": [
        {
          "output_type": "stream",
          "text": [
            "Epoch: 0 -3164.0\n",
            "Epoch: 1 -2971.0\n",
            "Epoch: 2 -3189.0\n",
            "Epoch: 3 -3396.0\n",
            "Epoch: 4 -3565.0\n",
            "Epoch: 5 -3543.0\n",
            "Epoch: 6 -3608.0\n",
            "Epoch: 7 -3571.0\n",
            "Epoch: 8 -3548.0\n"
          ],
          "name": "stdout"
        },
        {
          "output_type": "error",
          "ename": "KeyboardInterrupt",
          "evalue": "ignored",
          "traceback": [
            "\u001b[0;31m---------------------------------------------------------------------------\u001b[0m",
            "\u001b[0;31mKeyboardInterrupt\u001b[0m                         Traceback (most recent call last)",
            "\u001b[0;32m<ipython-input-9-04beacb58c37>\u001b[0m in \u001b[0;36m<module>\u001b[0;34m()\u001b[0m\n\u001b[1;32m      6\u001b[0m     \u001b[0mstate\u001b[0m \u001b[0;34m=\u001b[0m \u001b[0mnp\u001b[0m\u001b[0;34m.\u001b[0m\u001b[0masarray\u001b[0m\u001b[0;34m(\u001b[0m\u001b[0mstate\u001b[0m\u001b[0;34m,\u001b[0m\u001b[0mdtype\u001b[0m\u001b[0;34m=\u001b[0m\u001b[0mfloat\u001b[0m\u001b[0;34m)\u001b[0m\u001b[0;34m\u001b[0m\u001b[0;34m\u001b[0m\u001b[0m\n\u001b[1;32m      7\u001b[0m     \u001b[0maction\u001b[0m \u001b[0;34m=\u001b[0m \u001b[0mac\u001b[0m\u001b[0;34m.\u001b[0m\u001b[0mact\u001b[0m\u001b[0;34m(\u001b[0m\u001b[0mstate\u001b[0m\u001b[0;34m)\u001b[0m\u001b[0;34m\u001b[0m\u001b[0;34m\u001b[0m\u001b[0m\n\u001b[0;32m----> 8\u001b[0;31m     \u001b[0mnext_state\u001b[0m\u001b[0;34m,\u001b[0m\u001b[0mreward\u001b[0m\u001b[0;34m,\u001b[0m\u001b[0mdone\u001b[0m\u001b[0;34m,\u001b[0m\u001b[0m_\u001b[0m \u001b[0;34m=\u001b[0m \u001b[0menv\u001b[0m\u001b[0;34m.\u001b[0m\u001b[0mstep\u001b[0m\u001b[0;34m(\u001b[0m\u001b[0maction\u001b[0m\u001b[0;34m.\u001b[0m\u001b[0mtolist\u001b[0m\u001b[0;34m(\u001b[0m\u001b[0;34m)\u001b[0m\u001b[0;34m)\u001b[0m\u001b[0;34m\u001b[0m\u001b[0;34m\u001b[0m\u001b[0m\n\u001b[0m\u001b[1;32m      9\u001b[0m     \u001b[0mtotal_reward\u001b[0m \u001b[0;34m+=\u001b[0m \u001b[0mreward\u001b[0m\u001b[0;34m\u001b[0m\u001b[0;34m\u001b[0m\u001b[0m\n\u001b[1;32m     10\u001b[0m     \u001b[0mtrajectory\u001b[0m\u001b[0;34m.\u001b[0m\u001b[0mappend\u001b[0m\u001b[0;34m(\u001b[0m\u001b[0;34m(\u001b[0m\u001b[0mstate\u001b[0m\u001b[0;34m,\u001b[0m\u001b[0maction\u001b[0m\u001b[0;34m.\u001b[0m\u001b[0mtolist\u001b[0m\u001b[0;34m(\u001b[0m\u001b[0;34m)\u001b[0m\u001b[0;34m,\u001b[0m\u001b[0mnext_state\u001b[0m\u001b[0;34m,\u001b[0m\u001b[0mreward\u001b[0m\u001b[0;34m,\u001b[0m\u001b[0mdone\u001b[0m\u001b[0;34m)\u001b[0m\u001b[0;34m)\u001b[0m\u001b[0;34m\u001b[0m\u001b[0;34m\u001b[0m\u001b[0m\n",
            "\u001b[0;32m<ipython-input-5-0381a14da614>\u001b[0m in \u001b[0;36mstep\u001b[0;34m(self, action)\u001b[0m\n\u001b[1;32m     86\u001b[0m                 \u001b[0;32mfor\u001b[0m \u001b[0mi\u001b[0m \u001b[0;32min\u001b[0m \u001b[0mrange\u001b[0m\u001b[0;34m(\u001b[0m\u001b[0mlen\u001b[0m\u001b[0;34m(\u001b[0m\u001b[0maction\u001b[0m\u001b[0;34m)\u001b[0m\u001b[0;34m)\u001b[0m\u001b[0;34m:\u001b[0m\u001b[0;34m\u001b[0m\u001b[0;34m\u001b[0m\u001b[0m\n\u001b[1;32m     87\u001b[0m                         \u001b[0maction1\u001b[0m\u001b[0;34m[\u001b[0m\u001b[0mi\u001b[0m\u001b[0;34m]\u001b[0m \u001b[0;34m=\u001b[0m \u001b[0maction\u001b[0m\u001b[0;34m[\u001b[0m\u001b[0mi\u001b[0m\u001b[0;34m]\u001b[0m\u001b[0;34m*\u001b[0m\u001b[0mquantity\u001b[0m\u001b[0;34m[\u001b[0m\u001b[0mi\u001b[0m\u001b[0;34m]\u001b[0m\u001b[0;34m\u001b[0m\u001b[0;34m\u001b[0m\u001b[0m\n\u001b[0;32m---> 88\u001b[0;31m                 \u001b[0mself\u001b[0m\u001b[0;34m.\u001b[0m\u001b[0m_take_action\u001b[0m\u001b[0;34m(\u001b[0m\u001b[0maction1\u001b[0m\u001b[0;34m)\u001b[0m\u001b[0;34m\u001b[0m\u001b[0;34m\u001b[0m\u001b[0m\n\u001b[0m\u001b[1;32m     89\u001b[0m                 \u001b[0mself\u001b[0m\u001b[0;34m.\u001b[0m\u001b[0maction\u001b[0m \u001b[0;34m=\u001b[0m \u001b[0maction\u001b[0m\u001b[0;34m\u001b[0m\u001b[0;34m\u001b[0m\u001b[0m\n\u001b[1;32m     90\u001b[0m \u001b[0;34m\u001b[0m\u001b[0m\n",
            "\u001b[0;32m<ipython-input-5-0381a14da614>\u001b[0m in \u001b[0;36m_take_action\u001b[0;34m(self, action)\u001b[0m\n\u001b[1;32m     57\u001b[0m                 \u001b[0;31m#Fullfill demand\u001b[0m\u001b[0;34m\u001b[0m\u001b[0;34m\u001b[0m\u001b[0;34m\u001b[0m\u001b[0m\n\u001b[1;32m     58\u001b[0m                 \u001b[0mprods\u001b[0m \u001b[0;34m=\u001b[0m \u001b[0;34m[\u001b[0m\u001b[0;34m'prod'\u001b[0m\u001b[0;34m+\u001b[0m\u001b[0mstr\u001b[0m\u001b[0;34m(\u001b[0m\u001b[0mi\u001b[0m\u001b[0;34m)\u001b[0m \u001b[0;32mfor\u001b[0m \u001b[0mi\u001b[0m \u001b[0;32min\u001b[0m \u001b[0;34m[\u001b[0m\u001b[0;36m8\u001b[0m\u001b[0;34m,\u001b[0m\u001b[0;36m11\u001b[0m\u001b[0;34m,\u001b[0m\u001b[0;36m15\u001b[0m\u001b[0;34m,\u001b[0m\u001b[0;36m17\u001b[0m\u001b[0;34m,\u001b[0m\u001b[0;36m94\u001b[0m\u001b[0;34m,\u001b[0m\u001b[0;36m95\u001b[0m\u001b[0;34m,\u001b[0m\u001b[0;36m96\u001b[0m\u001b[0;34m,\u001b[0m\u001b[0;36m110\u001b[0m\u001b[0;34m,\u001b[0m\u001b[0;36m112\u001b[0m\u001b[0;34m,\u001b[0m\u001b[0;36m128\u001b[0m\u001b[0;34m]\u001b[0m\u001b[0;34m]\u001b[0m\u001b[0;34m\u001b[0m\u001b[0;34m\u001b[0m\u001b[0m\n\u001b[0;32m---> 59\u001b[0;31m                 \u001b[0mdemand\u001b[0m \u001b[0;34m=\u001b[0m \u001b[0mself\u001b[0m\u001b[0;34m.\u001b[0m\u001b[0mdf\u001b[0m\u001b[0;34m.\u001b[0m\u001b[0mloc\u001b[0m\u001b[0;34m[\u001b[0m\u001b[0mself\u001b[0m\u001b[0;34m.\u001b[0m\u001b[0mcurrent_step\u001b[0m\u001b[0;34m+\u001b[0m\u001b[0;36m1\u001b[0m\u001b[0;34m,\u001b[0m\u001b[0mprods\u001b[0m\u001b[0;34m]\u001b[0m\u001b[0;34m\u001b[0m\u001b[0;34m\u001b[0m\u001b[0m\n\u001b[0m\u001b[1;32m     60\u001b[0m                 \u001b[0;32mfor\u001b[0m \u001b[0mi\u001b[0m \u001b[0;32min\u001b[0m \u001b[0mrange\u001b[0m\u001b[0;34m(\u001b[0m\u001b[0mself\u001b[0m\u001b[0;34m.\u001b[0m\u001b[0mproducts_count\u001b[0m\u001b[0;34m)\u001b[0m\u001b[0;34m:\u001b[0m\u001b[0;34m\u001b[0m\u001b[0;34m\u001b[0m\u001b[0m\n\u001b[1;32m     61\u001b[0m                         \u001b[0;32mfor\u001b[0m \u001b[0mj\u001b[0m \u001b[0;32min\u001b[0m \u001b[0mrange\u001b[0m\u001b[0;34m(\u001b[0m\u001b[0;36m1\u001b[0m\u001b[0;34m,\u001b[0m\u001b[0mint\u001b[0m\u001b[0;34m(\u001b[0m\u001b[0mself\u001b[0m\u001b[0;34m.\u001b[0m\u001b[0mstock\u001b[0m\u001b[0;34m[\u001b[0m\u001b[0mi\u001b[0m\u001b[0;34m]\u001b[0m\u001b[0;34m[\u001b[0m\u001b[0;36m0\u001b[0m\u001b[0;34m]\u001b[0m\u001b[0;34m)\u001b[0m\u001b[0;34m+\u001b[0m\u001b[0;36m1\u001b[0m\u001b[0;34m)\u001b[0m\u001b[0;34m:\u001b[0m\u001b[0;34m\u001b[0m\u001b[0;34m\u001b[0m\u001b[0m\n",
            "\u001b[0;32m/usr/local/lib/python3.7/dist-packages/pandas/core/indexing.py\u001b[0m in \u001b[0;36m__getitem__\u001b[0;34m(self, key)\u001b[0m\n\u001b[1;32m    871\u001b[0m                     \u001b[0;31m# AttributeError for IntervalTree get_value\u001b[0m\u001b[0;34m\u001b[0m\u001b[0;34m\u001b[0m\u001b[0;34m\u001b[0m\u001b[0m\n\u001b[1;32m    872\u001b[0m                     \u001b[0;32mpass\u001b[0m\u001b[0;34m\u001b[0m\u001b[0;34m\u001b[0m\u001b[0m\n\u001b[0;32m--> 873\u001b[0;31m             \u001b[0;32mreturn\u001b[0m \u001b[0mself\u001b[0m\u001b[0;34m.\u001b[0m\u001b[0m_getitem_tuple\u001b[0m\u001b[0;34m(\u001b[0m\u001b[0mkey\u001b[0m\u001b[0;34m)\u001b[0m\u001b[0;34m\u001b[0m\u001b[0;34m\u001b[0m\u001b[0m\n\u001b[0m\u001b[1;32m    874\u001b[0m         \u001b[0;32melse\u001b[0m\u001b[0;34m:\u001b[0m\u001b[0;34m\u001b[0m\u001b[0;34m\u001b[0m\u001b[0m\n\u001b[1;32m    875\u001b[0m             \u001b[0;31m# we by definition only have the 0th axis\u001b[0m\u001b[0;34m\u001b[0m\u001b[0;34m\u001b[0m\u001b[0;34m\u001b[0m\u001b[0m\n",
            "\u001b[0;32m/usr/local/lib/python3.7/dist-packages/pandas/core/indexing.py\u001b[0m in \u001b[0;36m_getitem_tuple\u001b[0;34m(self, tup)\u001b[0m\n\u001b[1;32m   1042\u001b[0m     \u001b[0;32mdef\u001b[0m \u001b[0m_getitem_tuple\u001b[0m\u001b[0;34m(\u001b[0m\u001b[0mself\u001b[0m\u001b[0;34m,\u001b[0m \u001b[0mtup\u001b[0m\u001b[0;34m:\u001b[0m \u001b[0mTuple\u001b[0m\u001b[0;34m)\u001b[0m\u001b[0;34m:\u001b[0m\u001b[0;34m\u001b[0m\u001b[0;34m\u001b[0m\u001b[0m\n\u001b[1;32m   1043\u001b[0m         \u001b[0;32mtry\u001b[0m\u001b[0;34m:\u001b[0m\u001b[0;34m\u001b[0m\u001b[0;34m\u001b[0m\u001b[0m\n\u001b[0;32m-> 1044\u001b[0;31m             \u001b[0;32mreturn\u001b[0m \u001b[0mself\u001b[0m\u001b[0;34m.\u001b[0m\u001b[0m_getitem_lowerdim\u001b[0m\u001b[0;34m(\u001b[0m\u001b[0mtup\u001b[0m\u001b[0;34m)\u001b[0m\u001b[0;34m\u001b[0m\u001b[0;34m\u001b[0m\u001b[0m\n\u001b[0m\u001b[1;32m   1045\u001b[0m         \u001b[0;32mexcept\u001b[0m \u001b[0mIndexingError\u001b[0m\u001b[0;34m:\u001b[0m\u001b[0;34m\u001b[0m\u001b[0;34m\u001b[0m\u001b[0m\n\u001b[1;32m   1046\u001b[0m             \u001b[0;32mpass\u001b[0m\u001b[0;34m\u001b[0m\u001b[0;34m\u001b[0m\u001b[0m\n",
            "\u001b[0;32m/usr/local/lib/python3.7/dist-packages/pandas/core/indexing.py\u001b[0m in \u001b[0;36m_getitem_lowerdim\u001b[0;34m(self, tup)\u001b[0m\n\u001b[1;32m    808\u001b[0m                     \u001b[0;32mreturn\u001b[0m \u001b[0msection\u001b[0m\u001b[0;34m\u001b[0m\u001b[0;34m\u001b[0m\u001b[0m\n\u001b[1;32m    809\u001b[0m                 \u001b[0;31m# This is an elided recursive call to iloc/loc\u001b[0m\u001b[0;34m\u001b[0m\u001b[0;34m\u001b[0m\u001b[0;34m\u001b[0m\u001b[0m\n\u001b[0;32m--> 810\u001b[0;31m                 \u001b[0;32mreturn\u001b[0m \u001b[0mgetattr\u001b[0m\u001b[0;34m(\u001b[0m\u001b[0msection\u001b[0m\u001b[0;34m,\u001b[0m \u001b[0mself\u001b[0m\u001b[0;34m.\u001b[0m\u001b[0mname\u001b[0m\u001b[0;34m)\u001b[0m\u001b[0;34m[\u001b[0m\u001b[0mnew_key\u001b[0m\u001b[0;34m]\u001b[0m\u001b[0;34m\u001b[0m\u001b[0;34m\u001b[0m\u001b[0m\n\u001b[0m\u001b[1;32m    811\u001b[0m \u001b[0;34m\u001b[0m\u001b[0m\n\u001b[1;32m    812\u001b[0m         \u001b[0;32mraise\u001b[0m \u001b[0mIndexingError\u001b[0m\u001b[0;34m(\u001b[0m\u001b[0;34m\"not applicable\"\u001b[0m\u001b[0;34m)\u001b[0m\u001b[0;34m\u001b[0m\u001b[0;34m\u001b[0m\u001b[0m\n",
            "\u001b[0;32m/usr/local/lib/python3.7/dist-packages/pandas/core/indexing.py\u001b[0m in \u001b[0;36m__getitem__\u001b[0;34m(self, key)\u001b[0m\n\u001b[1;32m    877\u001b[0m \u001b[0;34m\u001b[0m\u001b[0m\n\u001b[1;32m    878\u001b[0m             \u001b[0mmaybe_callable\u001b[0m \u001b[0;34m=\u001b[0m \u001b[0mcom\u001b[0m\u001b[0;34m.\u001b[0m\u001b[0mapply_if_callable\u001b[0m\u001b[0;34m(\u001b[0m\u001b[0mkey\u001b[0m\u001b[0;34m,\u001b[0m \u001b[0mself\u001b[0m\u001b[0;34m.\u001b[0m\u001b[0mobj\u001b[0m\u001b[0;34m)\u001b[0m\u001b[0;34m\u001b[0m\u001b[0;34m\u001b[0m\u001b[0m\n\u001b[0;32m--> 879\u001b[0;31m             \u001b[0;32mreturn\u001b[0m \u001b[0mself\u001b[0m\u001b[0;34m.\u001b[0m\u001b[0m_getitem_axis\u001b[0m\u001b[0;34m(\u001b[0m\u001b[0mmaybe_callable\u001b[0m\u001b[0;34m,\u001b[0m \u001b[0maxis\u001b[0m\u001b[0;34m=\u001b[0m\u001b[0maxis\u001b[0m\u001b[0;34m)\u001b[0m\u001b[0;34m\u001b[0m\u001b[0;34m\u001b[0m\u001b[0m\n\u001b[0m\u001b[1;32m    880\u001b[0m \u001b[0;34m\u001b[0m\u001b[0m\n\u001b[1;32m    881\u001b[0m     \u001b[0;32mdef\u001b[0m \u001b[0m_is_scalar_access\u001b[0m\u001b[0;34m(\u001b[0m\u001b[0mself\u001b[0m\u001b[0;34m,\u001b[0m \u001b[0mkey\u001b[0m\u001b[0;34m:\u001b[0m \u001b[0mTuple\u001b[0m\u001b[0;34m)\u001b[0m\u001b[0;34m:\u001b[0m\u001b[0;34m\u001b[0m\u001b[0;34m\u001b[0m\u001b[0m\n",
            "\u001b[0;32m/usr/local/lib/python3.7/dist-packages/pandas/core/indexing.py\u001b[0m in \u001b[0;36m_getitem_axis\u001b[0;34m(self, key, axis)\u001b[0m\n\u001b[1;32m   1097\u001b[0m                     \u001b[0;32mraise\u001b[0m \u001b[0mValueError\u001b[0m\u001b[0;34m(\u001b[0m\u001b[0;34m\"Cannot index with multidimensional key\"\u001b[0m\u001b[0;34m)\u001b[0m\u001b[0;34m\u001b[0m\u001b[0;34m\u001b[0m\u001b[0m\n\u001b[1;32m   1098\u001b[0m \u001b[0;34m\u001b[0m\u001b[0m\n\u001b[0;32m-> 1099\u001b[0;31m                 \u001b[0;32mreturn\u001b[0m \u001b[0mself\u001b[0m\u001b[0;34m.\u001b[0m\u001b[0m_getitem_iterable\u001b[0m\u001b[0;34m(\u001b[0m\u001b[0mkey\u001b[0m\u001b[0;34m,\u001b[0m \u001b[0maxis\u001b[0m\u001b[0;34m=\u001b[0m\u001b[0maxis\u001b[0m\u001b[0;34m)\u001b[0m\u001b[0;34m\u001b[0m\u001b[0;34m\u001b[0m\u001b[0m\n\u001b[0m\u001b[1;32m   1100\u001b[0m \u001b[0;34m\u001b[0m\u001b[0m\n\u001b[1;32m   1101\u001b[0m             \u001b[0;31m# nested tuple slicing\u001b[0m\u001b[0;34m\u001b[0m\u001b[0;34m\u001b[0m\u001b[0;34m\u001b[0m\u001b[0m\n",
            "\u001b[0;32m/usr/local/lib/python3.7/dist-packages/pandas/core/indexing.py\u001b[0m in \u001b[0;36m_getitem_iterable\u001b[0;34m(self, key, axis)\u001b[0m\n\u001b[1;32m   1035\u001b[0m \u001b[0;34m\u001b[0m\u001b[0m\n\u001b[1;32m   1036\u001b[0m         \u001b[0;31m# A collection of keys\u001b[0m\u001b[0;34m\u001b[0m\u001b[0;34m\u001b[0m\u001b[0;34m\u001b[0m\u001b[0m\n\u001b[0;32m-> 1037\u001b[0;31m         \u001b[0mkeyarr\u001b[0m\u001b[0;34m,\u001b[0m \u001b[0mindexer\u001b[0m \u001b[0;34m=\u001b[0m \u001b[0mself\u001b[0m\u001b[0;34m.\u001b[0m\u001b[0m_get_listlike_indexer\u001b[0m\u001b[0;34m(\u001b[0m\u001b[0mkey\u001b[0m\u001b[0;34m,\u001b[0m \u001b[0maxis\u001b[0m\u001b[0;34m,\u001b[0m \u001b[0mraise_missing\u001b[0m\u001b[0;34m=\u001b[0m\u001b[0;32mFalse\u001b[0m\u001b[0;34m)\u001b[0m\u001b[0;34m\u001b[0m\u001b[0;34m\u001b[0m\u001b[0m\n\u001b[0m\u001b[1;32m   1038\u001b[0m         return self.obj._reindex_with_indexers(\n\u001b[1;32m   1039\u001b[0m             \u001b[0;34m{\u001b[0m\u001b[0maxis\u001b[0m\u001b[0;34m:\u001b[0m \u001b[0;34m[\u001b[0m\u001b[0mkeyarr\u001b[0m\u001b[0;34m,\u001b[0m \u001b[0mindexer\u001b[0m\u001b[0;34m]\u001b[0m\u001b[0;34m}\u001b[0m\u001b[0;34m,\u001b[0m \u001b[0mcopy\u001b[0m\u001b[0;34m=\u001b[0m\u001b[0;32mTrue\u001b[0m\u001b[0;34m,\u001b[0m \u001b[0mallow_dups\u001b[0m\u001b[0;34m=\u001b[0m\u001b[0;32mTrue\u001b[0m\u001b[0;34m\u001b[0m\u001b[0;34m\u001b[0m\u001b[0m\n",
            "\u001b[0;32m/usr/local/lib/python3.7/dist-packages/pandas/core/indexing.py\u001b[0m in \u001b[0;36m_get_listlike_indexer\u001b[0;34m(self, key, axis, raise_missing)\u001b[0m\n\u001b[1;32m   1247\u001b[0m \u001b[0;34m\u001b[0m\u001b[0m\n\u001b[1;32m   1248\u001b[0m         \u001b[0;32mif\u001b[0m \u001b[0max\u001b[0m\u001b[0;34m.\u001b[0m\u001b[0mis_unique\u001b[0m \u001b[0;32mand\u001b[0m \u001b[0;32mnot\u001b[0m \u001b[0mgetattr\u001b[0m\u001b[0;34m(\u001b[0m\u001b[0max\u001b[0m\u001b[0;34m,\u001b[0m \u001b[0;34m\"is_overlapping\"\u001b[0m\u001b[0;34m,\u001b[0m \u001b[0;32mFalse\u001b[0m\u001b[0;34m)\u001b[0m\u001b[0;34m:\u001b[0m\u001b[0;34m\u001b[0m\u001b[0;34m\u001b[0m\u001b[0m\n\u001b[0;32m-> 1249\u001b[0;31m             \u001b[0mindexer\u001b[0m \u001b[0;34m=\u001b[0m \u001b[0max\u001b[0m\u001b[0;34m.\u001b[0m\u001b[0mget_indexer_for\u001b[0m\u001b[0;34m(\u001b[0m\u001b[0mkeyarr\u001b[0m\u001b[0;34m)\u001b[0m\u001b[0;34m\u001b[0m\u001b[0;34m\u001b[0m\u001b[0m\n\u001b[0m\u001b[1;32m   1250\u001b[0m             \u001b[0mkeyarr\u001b[0m \u001b[0;34m=\u001b[0m \u001b[0max\u001b[0m\u001b[0;34m.\u001b[0m\u001b[0mreindex\u001b[0m\u001b[0;34m(\u001b[0m\u001b[0mkeyarr\u001b[0m\u001b[0;34m)\u001b[0m\u001b[0;34m[\u001b[0m\u001b[0;36m0\u001b[0m\u001b[0;34m]\u001b[0m\u001b[0;34m\u001b[0m\u001b[0;34m\u001b[0m\u001b[0m\n\u001b[1;32m   1251\u001b[0m         \u001b[0;32melse\u001b[0m\u001b[0;34m:\u001b[0m\u001b[0;34m\u001b[0m\u001b[0;34m\u001b[0m\u001b[0m\n",
            "\u001b[0;32m/usr/local/lib/python3.7/dist-packages/pandas/core/indexes/base.py\u001b[0m in \u001b[0;36mget_indexer_for\u001b[0;34m(self, target, **kwargs)\u001b[0m\n\u001b[1;32m   4714\u001b[0m         \"\"\"\n\u001b[1;32m   4715\u001b[0m         \u001b[0;32mif\u001b[0m \u001b[0mself\u001b[0m\u001b[0;34m.\u001b[0m\u001b[0mis_unique\u001b[0m\u001b[0;34m:\u001b[0m\u001b[0;34m\u001b[0m\u001b[0;34m\u001b[0m\u001b[0m\n\u001b[0;32m-> 4716\u001b[0;31m             \u001b[0;32mreturn\u001b[0m \u001b[0mself\u001b[0m\u001b[0;34m.\u001b[0m\u001b[0mget_indexer\u001b[0m\u001b[0;34m(\u001b[0m\u001b[0mtarget\u001b[0m\u001b[0;34m,\u001b[0m \u001b[0;34m**\u001b[0m\u001b[0mkwargs\u001b[0m\u001b[0;34m)\u001b[0m\u001b[0;34m\u001b[0m\u001b[0;34m\u001b[0m\u001b[0m\n\u001b[0m\u001b[1;32m   4717\u001b[0m         \u001b[0mindexer\u001b[0m\u001b[0;34m,\u001b[0m \u001b[0m_\u001b[0m \u001b[0;34m=\u001b[0m \u001b[0mself\u001b[0m\u001b[0;34m.\u001b[0m\u001b[0mget_indexer_non_unique\u001b[0m\u001b[0;34m(\u001b[0m\u001b[0mtarget\u001b[0m\u001b[0;34m,\u001b[0m \u001b[0;34m**\u001b[0m\u001b[0mkwargs\u001b[0m\u001b[0;34m)\u001b[0m\u001b[0;34m\u001b[0m\u001b[0;34m\u001b[0m\u001b[0m\n\u001b[1;32m   4718\u001b[0m         \u001b[0;32mreturn\u001b[0m \u001b[0mindexer\u001b[0m\u001b[0;34m\u001b[0m\u001b[0;34m\u001b[0m\u001b[0m\n",
            "\u001b[0;32m/usr/local/lib/python3.7/dist-packages/pandas/core/indexes/base.py\u001b[0m in \u001b[0;36mget_indexer\u001b[0;34m(self, target, method, limit, tolerance)\u001b[0m\n\u001b[1;32m   2970\u001b[0m         \u001b[0;31m# this fix False and True would be treated as 0 and 1 respectively.\u001b[0m\u001b[0;34m\u001b[0m\u001b[0;34m\u001b[0m\u001b[0;34m\u001b[0m\u001b[0m\n\u001b[1;32m   2971\u001b[0m         \u001b[0;31m# (GH #16877)\u001b[0m\u001b[0;34m\u001b[0m\u001b[0;34m\u001b[0m\u001b[0;34m\u001b[0m\u001b[0m\n\u001b[0;32m-> 2972\u001b[0;31m         \u001b[0;32mif\u001b[0m \u001b[0mtarget\u001b[0m\u001b[0;34m.\u001b[0m\u001b[0mis_boolean\u001b[0m\u001b[0;34m(\u001b[0m\u001b[0;34m)\u001b[0m \u001b[0;32mand\u001b[0m \u001b[0mself\u001b[0m\u001b[0;34m.\u001b[0m\u001b[0mis_numeric\u001b[0m\u001b[0;34m(\u001b[0m\u001b[0;34m)\u001b[0m\u001b[0;34m:\u001b[0m\u001b[0;34m\u001b[0m\u001b[0;34m\u001b[0m\u001b[0m\n\u001b[0m\u001b[1;32m   2973\u001b[0m             \u001b[0;32mreturn\u001b[0m \u001b[0mensure_platform_int\u001b[0m\u001b[0;34m(\u001b[0m\u001b[0mnp\u001b[0m\u001b[0;34m.\u001b[0m\u001b[0mrepeat\u001b[0m\u001b[0;34m(\u001b[0m\u001b[0;34m-\u001b[0m\u001b[0;36m1\u001b[0m\u001b[0;34m,\u001b[0m \u001b[0mtarget\u001b[0m\u001b[0;34m.\u001b[0m\u001b[0msize\u001b[0m\u001b[0;34m)\u001b[0m\u001b[0;34m)\u001b[0m\u001b[0;34m\u001b[0m\u001b[0;34m\u001b[0m\u001b[0m\n\u001b[1;32m   2974\u001b[0m \u001b[0;34m\u001b[0m\u001b[0m\n",
            "\u001b[0;32m/usr/local/lib/python3.7/dist-packages/pandas/core/indexes/base.py\u001b[0m in \u001b[0;36mis_boolean\u001b[0;34m(self)\u001b[0m\n\u001b[1;32m   1716\u001b[0m         \u001b[0;32mFalse\u001b[0m\u001b[0;34m\u001b[0m\u001b[0;34m\u001b[0m\u001b[0m\n\u001b[1;32m   1717\u001b[0m         \"\"\"\n\u001b[0;32m-> 1718\u001b[0;31m         \u001b[0;32mreturn\u001b[0m \u001b[0mself\u001b[0m\u001b[0;34m.\u001b[0m\u001b[0minferred_type\u001b[0m \u001b[0;32min\u001b[0m \u001b[0;34m[\u001b[0m\u001b[0;34m\"boolean\"\u001b[0m\u001b[0;34m]\u001b[0m\u001b[0;34m\u001b[0m\u001b[0;34m\u001b[0m\u001b[0m\n\u001b[0m\u001b[1;32m   1719\u001b[0m \u001b[0;34m\u001b[0m\u001b[0m\n\u001b[1;32m   1720\u001b[0m     \u001b[0;32mdef\u001b[0m \u001b[0mis_integer\u001b[0m\u001b[0;34m(\u001b[0m\u001b[0mself\u001b[0m\u001b[0;34m)\u001b[0m \u001b[0;34m->\u001b[0m \u001b[0mbool\u001b[0m\u001b[0;34m:\u001b[0m\u001b[0;34m\u001b[0m\u001b[0;34m\u001b[0m\u001b[0m\n",
            "\u001b[0;32mpandas/_libs/properties.pyx\u001b[0m in \u001b[0;36mpandas._libs.properties.CachedProperty.__get__\u001b[0;34m()\u001b[0m\n",
            "\u001b[0;32m/usr/local/lib/python3.7/dist-packages/pandas/core/indexes/base.py\u001b[0m in \u001b[0;36minferred_type\u001b[0;34m(self)\u001b[0m\n\u001b[1;32m   2003\u001b[0m         \u001b[0mReturn\u001b[0m \u001b[0ma\u001b[0m \u001b[0mstring\u001b[0m \u001b[0mof\u001b[0m \u001b[0mthe\u001b[0m \u001b[0mtype\u001b[0m \u001b[0minferred\u001b[0m \u001b[0;32mfrom\u001b[0m \u001b[0mthe\u001b[0m \u001b[0mvalues\u001b[0m\u001b[0;34m.\u001b[0m\u001b[0;34m\u001b[0m\u001b[0;34m\u001b[0m\u001b[0m\n\u001b[1;32m   2004\u001b[0m         \"\"\"\n\u001b[0;32m-> 2005\u001b[0;31m         \u001b[0;32mreturn\u001b[0m \u001b[0mlib\u001b[0m\u001b[0;34m.\u001b[0m\u001b[0minfer_dtype\u001b[0m\u001b[0;34m(\u001b[0m\u001b[0mself\u001b[0m\u001b[0;34m.\u001b[0m\u001b[0m_values\u001b[0m\u001b[0;34m,\u001b[0m \u001b[0mskipna\u001b[0m\u001b[0;34m=\u001b[0m\u001b[0;32mFalse\u001b[0m\u001b[0;34m)\u001b[0m\u001b[0;34m\u001b[0m\u001b[0;34m\u001b[0m\u001b[0m\n\u001b[0m\u001b[1;32m   2006\u001b[0m \u001b[0;34m\u001b[0m\u001b[0m\n\u001b[1;32m   2007\u001b[0m     \u001b[0;34m@\u001b[0m\u001b[0mcache_readonly\u001b[0m\u001b[0;34m\u001b[0m\u001b[0;34m\u001b[0m\u001b[0m\n",
            "\u001b[0;32mpandas/_libs/lib.pyx\u001b[0m in \u001b[0;36mpandas._libs.lib.infer_dtype\u001b[0;34m()\u001b[0m\n",
            "\u001b[0;32mpandas/_libs/lib.pyx\u001b[0m in \u001b[0;36mpandas._libs.lib._try_infer_map\u001b[0;34m()\u001b[0m\n",
            "\u001b[0;32m/usr/local/lib/python3.7/dist-packages/numpy/core/_dtype.py\u001b[0m in \u001b[0;36m_name_get\u001b[0;34m(dtype)\u001b[0m\n\u001b[1;32m    319\u001b[0m \u001b[0;34m\u001b[0m\u001b[0m\n\u001b[1;32m    320\u001b[0m \u001b[0;34m\u001b[0m\u001b[0m\n\u001b[0;32m--> 321\u001b[0;31m \u001b[0;32mdef\u001b[0m \u001b[0m_name_get\u001b[0m\u001b[0;34m(\u001b[0m\u001b[0mdtype\u001b[0m\u001b[0;34m)\u001b[0m\u001b[0;34m:\u001b[0m\u001b[0;34m\u001b[0m\u001b[0;34m\u001b[0m\u001b[0m\n\u001b[0m\u001b[1;32m    322\u001b[0m     \u001b[0;31m# provides dtype.name.__get__, documented as returning a \"bit name\"\u001b[0m\u001b[0;34m\u001b[0m\u001b[0;34m\u001b[0m\u001b[0;34m\u001b[0m\u001b[0m\n\u001b[1;32m    323\u001b[0m \u001b[0;34m\u001b[0m\u001b[0m\n",
            "\u001b[0;31mKeyboardInterrupt\u001b[0m: "
          ]
        }
      ]
    },
    {
      "cell_type": "code",
      "metadata": {
        "id": "dqhXtiMuIdTa",
        "colab": {
          "base_uri": "https://localhost:8080/"
        },
        "outputId": "360da4b6-11e8-4df4-cd96-feb4ccc2ca45"
      },
      "source": [
        "env2 = EGroceryEnv(df_test, products_count, features, shelf_life, wastage_cost, shortage_cost)\n",
        "state = env2.reset()\n",
        "for step in range(0,30):\n",
        "  #print(\"state:\",state)\n",
        "  state = np.asarray(state,dtype=float)\n",
        "  action = ac.act(state)\n",
        "  print(action)\n",
        "  next_state,reward,done,_ = env2.step(action)\n",
        "  print(reward)\n",
        "  state = next_state\n",
        "print(env2.reward_track)"
      ],
      "execution_count": null,
      "outputs": [
        {
          "output_type": "stream",
          "text": [
            "['month', 'monthday', 'weekday', 'prod8avg7', 'prod11avg7', 'prod15avg7', 'prod17avg7', 'prod94avg7', 'prod95avg7', 'prod96avg7', 'prod110avg7', 'prod112avg7', 'prod128avg7', 'prod8avg15', 'prod11avg15', 'prod15avg15', 'prod17avg15', 'prod94avg15', 'prod95avg15', 'prod96avg15', 'prod110avg15', 'prod112avg15', 'prod128avg15', 'prod8avg30', 'prod11avg30', 'prod15avg30', 'prod17avg30', 'prod94avg30', 'prod95avg30', 'prod96avg30', 'prod110avg30', 'prod112avg30', 'prod128avg30']\n",
            "tensor([-0.1916, -0.1127, -0.0499,  0.4886, -0.2024, -0.2110,  0.2300, -0.2216,\n",
            "        -0.0260, -0.0822])\n",
            "-338.0\n",
            "tensor([ 0.1111,  0.2551, -0.1203,  0.1768,  0.3138,  1.5675,  0.0822, -0.1816,\n",
            "         0.8335,  0.2296])\n",
            "-269.0\n",
            "tensor([-1.1600e-01, -6.1558e-02, -3.4690e-01, -3.5427e-02,  5.1014e-06,\n",
            "         1.7196e+00, -6.9442e-02, -5.7224e-02,  1.0441e+00, -9.5148e-02])\n",
            "-276.0\n",
            "tensor([ 0.3704, -0.3007,  0.0338, -0.1170,  0.1274,  1.6240,  0.2391,  0.0923,\n",
            "         1.1126, -0.1987])\n",
            "-197.0\n",
            "tensor([-0.2561, -0.0981,  0.2528,  0.2293,  0.0798,  1.6841, -0.2739,  0.0455,\n",
            "         0.8516,  0.0024])\n",
            "-232.0\n",
            "tensor([-3.1792e-01, -3.8204e-01,  1.6695e-01,  3.3452e-02,  1.0800e-03,\n",
            "         1.6576e+00,  2.2175e-01,  1.9399e-01,  1.1895e+00, -1.7868e-01])\n",
            "-288.0\n",
            "tensor([ 0.0482, -0.2366, -0.0594, -0.2095,  0.4135,  2.0269, -0.3873,  0.3069,\n",
            "         1.2460, -0.1018])\n",
            "-181.0\n",
            "tensor([ 0.1846, -0.1328, -0.2308, -0.2529,  0.2043,  1.7367, -0.1725, -0.0118,\n",
            "         0.9791, -0.1560])\n",
            "-324.0\n",
            "tensor([-0.0336, -0.1127, -0.0322, -0.2826,  0.2895,  1.7535, -0.1125, -0.4290,\n",
            "         1.2189,  0.1052])\n",
            "-288.0\n",
            "tensor([-0.0616, -0.3010, -0.2598,  0.3257, -0.0247,  1.9247,  0.1774,  0.0332,\n",
            "         1.1607, -0.2368])\n",
            "-166.0\n",
            "tensor([-0.0671, -0.1567,  0.0032,  0.0705,  0.0855,  1.7574,  0.2913, -0.0127,\n",
            "         0.8460,  0.3851])\n",
            "-161.0\n",
            "tensor([0.3145, 0.0597, 0.1332, 0.1396, 0.2590, 1.7068, 0.0295, 0.0070, 1.0513,\n",
            "        0.0499])\n",
            "-247.0\n",
            "tensor([-0.2059, -0.1731, -0.0087, -0.1745, -0.1139,  1.6547, -0.1291, -0.0947,\n",
            "         1.3662, -0.1953])\n",
            "-258.0\n",
            "tensor([ 0.1071, -0.1204, -0.2718,  0.3364, -0.1681,  1.7009, -0.0743, -0.1003,\n",
            "         1.1385,  0.1138])\n",
            "-236.0\n",
            "tensor([ 0.0801,  0.0275,  0.0636, -0.0871, -0.3360,  1.9090, -0.0114,  0.0257,\n",
            "         1.0416, -0.1734])\n",
            "-212.0\n",
            "tensor([ 0.0917, -0.1435, -0.2770, -0.1370,  0.0346,  1.9158,  0.0345,  0.1361,\n",
            "         1.2471,  0.2358])\n",
            "-273.0\n",
            "tensor([-0.0482, -0.0798,  0.4767, -0.0817,  0.0262,  1.6697, -0.2386, -0.1617,\n",
            "         1.0097,  0.1981])\n",
            "-261.0\n",
            "tensor([-0.0790,  0.4810, -0.0183, -0.0910, -0.1010,  1.8109,  0.2931,  0.0434,\n",
            "         0.6777,  0.2672])\n",
            "-218.0\n",
            "tensor([-0.0470,  0.2593, -0.2789, -0.0343,  0.1577,  1.6768,  0.1787, -0.3623,\n",
            "         0.9349,  0.1003])\n",
            "-283.0\n",
            "tensor([ 0.1686, -0.0309,  0.0920,  0.0623,  0.0780,  1.8062,  0.1641,  0.2201,\n",
            "         1.0494, -0.0648])\n",
            "-232.0\n",
            "tensor([ 0.0640, -0.0619,  0.1208,  0.2361, -0.2673,  1.8156, -0.2567,  0.1512,\n",
            "         1.4539,  0.1713])\n",
            "-246.0\n",
            "tensor([ 0.2654,  0.2291,  0.0250, -0.1880, -0.0207,  1.7925,  0.3661, -0.0515,\n",
            "         1.4571,  0.4699])\n",
            "-202.0\n",
            "tensor([ 0.0826,  0.3125,  0.0321, -0.2275, -0.1543,  1.7365, -0.1500,  0.0815,\n",
            "         1.2591, -0.0837])\n",
            "-236.0\n",
            "tensor([-0.0668, -0.0309,  0.1430, -0.1111, -0.0497,  1.7834,  0.0975, -0.4275,\n",
            "         1.1343,  0.0696])\n",
            "-186.0\n",
            "tensor([-0.1932, -0.1018,  0.0914,  0.0270, -0.2180,  1.6177,  0.1436,  0.1859,\n",
            "         1.2327,  0.0650])\n",
            "-195.0\n",
            "tensor([ 0.3802, -0.3339,  0.1388,  0.0673,  0.1110,  1.7424,  0.0860, -0.1792,\n",
            "         1.1281,  0.0613])\n",
            "-252.0\n",
            "tensor([ 0.3045,  0.1519, -0.2000,  0.0363, -0.0333,  1.5570,  0.4146,  0.0184,\n",
            "         1.1261, -0.2475])\n",
            "-299.0\n",
            "tensor([ 0.0041, -0.0721, -0.1466, -0.2217, -0.2426,  1.5478, -0.3593, -0.0614,\n",
            "         1.1545, -0.1188])\n",
            "-343.0\n",
            "tensor([-0.0275,  0.1284,  0.3746,  0.1260, -0.2398,  1.5822, -0.1693, -0.0420,\n",
            "         1.0165, -0.1012])\n",
            "-261.0\n",
            "tensor([-0.1129, -0.1248,  0.1576,  0.0531,  0.2551,  1.5831, -0.2637,  0.0552,\n",
            "         0.7203, -0.0970])\n",
            "-277.0\n",
            "[338.0, 269.0, 276.0, 197.0, 232.0, 288.0, 181.0, 324.0, 288.0, 166.0, 161.0, 247.0, 258.0, 236.0, 212.0, 273.0, 261.0, 218.0, 283.0, 232.0, 246.0, 202.0, 236.0, 186.0, 195.0, 252.0, 299.0, 343.0, 261.0, 277.0]\n"
          ],
          "name": "stdout"
        }
      ]
    },
    {
      "cell_type": "code",
      "metadata": {
        "colab": {
          "base_uri": "https://localhost:8080/"
        },
        "id": "_pneJEWNJEGS",
        "outputId": "47be4895-9b02-476a-d160-947299df5d86"
      },
      "source": [
        "print(sum(env2.reward_track)/len(env2.reward_track))\n",
        "print(env2.wastage_track)\n",
        "print(env2.shortage_track)"
      ],
      "execution_count": null,
      "outputs": [
        {
          "output_type": "stream",
          "text": [
            "247.9\n",
            "[0, 0, 0, 0, 0, 0, 0, 0, 0, 0, 0, 0, 0, 0, 0, 0, 0, 0, 0, 0, 0, 0, 0, 0, 0, 0, 0, 0, 0, 0]\n",
            "[338, 269, 276, 197, 232, 288, 181, 324, 288, 166, 161, 247, 258, 236, 212, 273, 261, 218, 283, 232, 246, 202, 236, 186, 195, 252, 299, 343, 261, 277]\n"
          ],
          "name": "stdout"
        }
      ]
    },
    {
      "cell_type": "code",
      "metadata": {
        "colab": {
          "base_uri": "https://localhost:8080/"
        },
        "id": "FyZmC6ox_og6",
        "outputId": "e49f5308-83bb-441e-f821-19ed6d185f78"
      },
      "source": [
        "l = [338, 269, 276, 197, 232, 288, 181, 324, 288, 166, 161, 247, 258, 236, 212, 273, 261, 218, 283, 232, 246, 202, 236, 186, 195, 252, 299, 343, 261, 277]\n",
        "print(sum(l))"
      ],
      "execution_count": null,
      "outputs": [
        {
          "output_type": "stream",
          "text": [
            "7437\n"
          ],
          "name": "stdout"
        }
      ]
    },
    {
      "cell_type": "code",
      "metadata": {
        "colab": {
          "base_uri": "https://localhost:8080/",
          "height": 316
        },
        "id": "47w4koo5lyJ4",
        "outputId": "43be659d-f9ff-4826-9fb0-a7389a14df48"
      },
      "source": [
        "import numpy as np\n",
        "import matplotlib.pyplot as plt\n",
        "\n",
        "N = 31\n",
        "DQN_wastage = (0,41,5,191,295,357,279,642,468,583,483,449,485,498,233,344,439,404,470,250,289,246,426,493,295,293,384,270,483,313,345)\n",
        "Actor_critic = (0,318,237,247,175,212,262,170,293,239,138,145,235,222,199,176,263,238,221,236,231,236,183,211,142,176,225,278,313,227,252)\n",
        "PPO = (0,324,275,267,200,238,294,195,320,275,164,180,261,247,235,212,290,268,240,272,250,266,227,242,175,210,254,302,335,266,283)\n",
        "print(len(DQN_wastage))\n",
        "print(len(Actor_critic))\n",
        "print(len(PPO))\n",
        "\n",
        "ind = np.arange(N)\n",
        "ind = 3*ind\n",
        "width = 0.7\n",
        "plt.bar( ind,DQN_wastage, width, label='DQN')\n",
        "plt.bar(ind + width, PPO, width,label='PPO')\n",
        "plt.bar(ind + width + width, Actor_critic, width,label='Actor_critic')\n",
        "\n",
        "plt.ylabel('Wastage')\n",
        "#plt.title('Scores by group and gender')\n",
        "\n",
        "plt.xticks(ind + 5*width / 2, np.arange(N))\n",
        "plt.legend(loc='best')\n",
        "plt.savefig('Shortage.png')"
      ],
      "execution_count": null,
      "outputs": [
        {
          "output_type": "stream",
          "text": [
            "31\n",
            "31\n",
            "31\n"
          ],
          "name": "stdout"
        },
        {
          "output_type": "display_data",
          "data": {
            "image/png": "[encoded data removed]",
            "text/plain": [
              "<Figure size 432x288 with 1 Axes>"
            ]
          },
          "metadata": {
            "tags": [],
            "needs_background": "light"
          }
        }
      ]
    }
  ]
}