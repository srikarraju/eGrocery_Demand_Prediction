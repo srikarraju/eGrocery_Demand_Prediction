{
  "nbformat": 4,
  "nbformat_minor": 0,
  "metadata": {
    "colab": {
      "provenance": [],
      "authorship_tag": "ABX9TyPTdI6K+XIhwtG+IZfBU+VF",
      "include_colab_link": true
    },
    "kernelspec": {
      "name": "python3",
      "display_name": "Python 3"
    },
    "language_info": {
      "name": "python"
    }
  },
  "cells": [
    {
      "cell_type": "markdown",
      "metadata": {
        "id": "view-in-github",
        "colab_type": "text"
      },
      "source": [
        "<a href=\"https://colab.research.google.com/github/srikarraju/eGrocery_Demand_Prediction/blob/main/Generate_eGrocery_dataset.ipynb\" target=\"_parent\"><img src=\"https://colab.research.google.com/assets/colab-badge.svg\" alt=\"Open In Colab\"/></a>"
      ]
    },
    {
      "cell_type": "code",
      "metadata": {
        "id": "DbtaOs3w2XZM"
      },
      "source": [
        "from numpy import random\n",
        "from matplotlib import pyplot as plt\n",
        "import numpy as np"
      ],
      "execution_count": null,
      "outputs": []
    },
    {
      "cell_type": "code",
      "metadata": {
        "id": "mMQ-JMB20kZZ"
      },
      "source": [
        "product_mean_demand = 20\n",
        "product_demand_std = 20\n",
        "\n",
        "demands = []\n",
        "trajectory_len = 360"
      ],
      "execution_count": null,
      "outputs": []
    },
    {
      "cell_type": "code",
      "metadata": {
        "id": "utB81K8X00I_"
      },
      "source": [
        "for day in range(trajectory_len):\n",
        "  last_day_demand = 0\n",
        "  last_week_day_demand = 0\n",
        "  last_month_day_demand = 0\n",
        "  last_year_day_demand = 0\n",
        "\n",
        "  count = 1\n",
        "  if day -1>=0:\n",
        "    last_day_demand = demands[day-1]\n",
        "    count += 1\n",
        "  if day - 7>=0:\n",
        "    last_week_day_demand = demands[day-7]\n",
        "    count += 1\n",
        "  if day - 30>=0:\n",
        "    last_month_day_demand = demands[day-30]\n",
        "    count += 1\n",
        "  if day - 360>=0:\n",
        "    last_year_day_demand = demands[day-360]\n",
        "    count += 1\n",
        "\n",
        "  curr_mean = (last_day_demand + last_week_day_demand + last_month_day_demand + last_year_day_demand + product_mean_demand)/count\n",
        "\n",
        "  curr_demand = random.normal(curr_mean,product_demand_std)\n",
        "  curr_demand = max(curr_demand,0)\n",
        "  demands.append(int(curr_demand))"
      ],
      "execution_count": null,
      "outputs": []
    },
    {
      "cell_type": "code",
      "metadata": {
        "colab": {
          "base_uri": "https://localhost:8080/"
        },
        "id": "oZsYsgnQ4FO9",
        "outputId": "52307ff8-7fcd-45e5-a38c-6feaa493516b"
      },
      "source": [
        "print(demands)"
      ],
      "execution_count": null,
      "outputs": [
        {
          "output_type": "stream",
          "text": [
            "[37, 34, 55, 40, 59, 6, 16, 52, 36, 44, 53, 71, 34, 26, 32, 51, 35, 25, 23, 39, 18, 5, 40, 25, 18, 22, 27, 2, 0, 7, 12, 16, 13, 4, 8, 1, 19, 39, 53, 67, 24, 15, 2, 3, 29, 9, 54, 37, 3, 37, 0, 0, 46, 30, 12, 55, 30, 0, 20, 4, 46, 26, 39, 2, 0, 26, 30, 65, 27, 39, 0, 4, 23, 1, 0, 42, 43, 36, 0, 7, 19, 14, 45, 27, 0, 24, 26, 16, 0, 0, 0, 36, 35, 17, 3, 0, 10, 49, 12, 40, 3, 21, 7, 0, 6, 60, 64, 41, 0, 28, 18, 43, 52, 36, 23, 0, 2, 19, 45, 29, 54, 22, 38, 0, 12, 4, 12, 9, 0, 39, 11, 19, 12, 10, 20, 5, 32, 45, 15, 25, 12, 27, 13, 19, 32, 16, 24, 29, 34, 23, 7, 10, 10, 7, 21, 12, 1, 25, 3, 30, 0, 41, 0, 0, 10, 24, 2, 8, 18, 8, 0, 16, 0, 0, 13, 13, 57, 26, 41, 16, 13, 0, 0, 30, 32, 52, 38, 23, 5, 10, 31, 42, 29, 29, 24, 0, 12, 20, 28, 30, 0, 30, 16, 3, 27, 0, 0, 22, 28, 22, 14, 25, 14, 20, 43, 20, 6, 20, 68, 44, 8, 12, 24, 36, 6, 10, 9, 0, 7, 12, 0, 4, 0, 0, 24, 3, 16, 0, 17, 5, 0, 33, 4, 0, 3, 4, 0, 13, 31, 1, 0, 5, 0, 0, 0, 29, 0, 0, 30, 34, 0, 15, 12, 6, 16, 8, 56, 23, 0, 0, 22, 48, 17, 0, 0, 8, 2, 26, 40, 24, 0, 0, 8, 0, 0, 48, 35, 25, 19, 29, 24, 3, 33, 14, 2, 27, 25, 20, 0, 0, 21, 55, 41, 0, 7, 43, 0, 23, 31, 18, 18, 20, 0, 1, 26, 47, 0, 6, 21, 5, 24, 15, 51, 42, 34, 3, 33, 30, 44, 17, 0, 0, 6, 19, 43, 41, 22, 33, 54, 35, 10, 34, 17, 25, 31, 21, 15, 24, 65, 1, 6, 60, 45, 40, 23, 50, 30, 15, 28, 7]\n"
          ],
          "name": "stdout"
        }
      ]
    },
    {
      "cell_type": "code",
      "metadata": {
        "colab": {
          "base_uri": "https://localhost:8080/",
          "height": 265
        },
        "id": "xsUgwa7X44qz",
        "outputId": "40f9419b-ef6f-46dd-e509-5556b95e2b4e"
      },
      "source": [
        "plt.scatter(demands,np.arange(len(demands)))\n",
        "plt.show()"
      ],
      "execution_count": null,
      "outputs": [
        {
          "output_type": "display_data",
          "data": {
            "image/png": "[encoded data removed]",
            "text/plain": [
              "<Figure size 432x288 with 1 Axes>"
            ]
          },
          "metadata": {
            "tags": [],
            "needs_background": "light"
          }
        }
      ]
    }
  ]
}