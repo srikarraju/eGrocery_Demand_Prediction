{
  "nbformat": 4,
  "nbformat_minor": 0,
  "metadata": {
    "colab": {
      "provenance": [],
      "mount_file_id": "1YrFJa0nSpLZDmoDaWX1rGOgFGSKEL-eb",
      "authorship_tag": "ABX9TyOr7V41w2l5SWaQivBREefv",
      "include_colab_link": true
    },
    "kernelspec": {
      "display_name": "Python 3",
      "name": "python3"
    },
    "language_info": {
      "name": "python"
    }
  },
  "cells": [
    {
      "cell_type": "markdown",
      "metadata": {
        "id": "view-in-github",
        "colab_type": "text"
      },
      "source": [
        "<a href=\"https://colab.research.google.com/github/srikarraju/eGrocery_Demand_Prediction/blob/main/Reinforce_eGrocery.ipynb\" target=\"_parent\"><img src=\"https://colab.research.google.com/assets/colab-badge.svg\" alt=\"Open In Colab\"/></a>"
      ]
    },
    {
      "cell_type": "code",
      "metadata": {
        "id": "zCNrY4m-NC_P",
        "colab": {
          "base_uri": "https://localhost:8080/"
        },
        "outputId": "9c6108c6-ffef-41e3-bb95-05b132ea224d"
      },
      "source": [
        "!pip install tensorboardX"
      ],
      "execution_count": null,
      "outputs": [
        {
          "output_type": "stream",
          "text": [
            "Collecting tensorboardX\n",
            "\u001b[?25l  Downloading https://files.pythonhosted.org/packages/07/84/46421bd3e0e89a92682b1a38b40efc22dafb6d8e3d947e4ceefd4a5fabc7/tensorboardX-2.2-py2.py3-none-any.whl (120kB)\n",
            "\r\u001b[K     |██▊                             | 10kB 12.8MB/s eta 0:00:01\r\u001b[K     |█████▍                          | 20kB 10.3MB/s eta 0:00:01\r\u001b[K     |████████▏                       | 30kB 8.7MB/s eta 0:00:01\r\u001b[K     |██████████▉                     | 40kB 8.0MB/s eta 0:00:01\r\u001b[K     |█████████████▋                  | 51kB 4.9MB/s eta 0:00:01\r\u001b[K     |████████████████▎               | 61kB 5.5MB/s eta 0:00:01\r\u001b[K     |███████████████████             | 71kB 5.8MB/s eta 0:00:01\r\u001b[K     |█████████████████████▊          | 81kB 6.2MB/s eta 0:00:01\r\u001b[K     |████████████████████████▌       | 92kB 5.9MB/s eta 0:00:01\r\u001b[K     |███████████████████████████▏    | 102kB 5.1MB/s eta 0:00:01\r\u001b[K     |██████████████████████████████  | 112kB 5.1MB/s eta 0:00:01\r\u001b[K     |████████████████████████████████| 122kB 5.1MB/s \n",
            "\u001b[?25hRequirement already satisfied: protobuf>=3.8.0 in /usr/local/lib/python3.7/dist-packages (from tensorboardX) (3.12.4)\n",
            "Requirement already satisfied: numpy in /usr/local/lib/python3.7/dist-packages (from tensorboardX) (1.19.5)\n",
            "Requirement already satisfied: six>=1.9 in /usr/local/lib/python3.7/dist-packages (from protobuf>=3.8.0->tensorboardX) (1.15.0)\n",
            "Requirement already satisfied: setuptools in /usr/local/lib/python3.7/dist-packages (from protobuf>=3.8.0->tensorboardX) (57.0.0)\n",
            "Installing collected packages: tensorboardX\n",
            "Successfully installed tensorboardX-2.2\n"
          ],
          "name": "stdout"
        }
      ]
    },
    {
      "cell_type": "code",
      "metadata": {
        "id": "1aKirrj7NNB9"
      },
      "source": [
        "import random\n",
        "import numpy as np\n",
        "import pandas as pd\n",
        "import matplotlib.pyplot as plt\n",
        "import torch\n",
        "import torch.nn as nn\n",
        "import torch.nn.functional as F\n",
        "from torch.distributions import MultivariateNormal\n",
        "import random\n",
        "import pandas as pd\n",
        "from tensorboardX import SummaryWriter"
      ],
      "execution_count": null,
      "outputs": []
    },
    {
      "cell_type": "code",
      "metadata": {
        "id": "9yx9xf2fl7Vu"
      },
      "source": [
        "class EGroceryEnv():\n",
        "\n",
        "\tdef __init__(self, df=pd.DataFrame({0:[0]}), products_count=10, features=['a'], shelf_life=[1], wastage_cost=[1], shortage_cost=[1]):\n",
        "\t\tsuper(EGroceryEnv, self).__init__()\n",
        "\n",
        "\t\tself.df = df\n",
        "\t\tself.products_count = products_count\n",
        "\t\tself.shelf_life = shelf_life\n",
        "\t\tself.features = features\n",
        "\t\tself.wastage_cost = wastage_cost\n",
        "\t\tself.shortage_cost = shortage_cost\n",
        "\t\tself.current_step = 0\n",
        "\t\tself.wastage_track = list([])\n",
        "\t\tself.shortage_track = list([])\n",
        "\t\tself.reward_track = list([])\n",
        "\n",
        "\t\t#variables to track shartage and wastage\n",
        "\t\tself.shortage = np.array(list([0]*self.products_count))\n",
        "\t\tself.wastage = np.array(list([0]*self.products_count))\n",
        "\n",
        "\t\t#Define Stock\n",
        "\t\tself.stock = list([])\n",
        "\t\tfor i in range(self.products_count):\n",
        "\t\t\tself.stock.append([0])\n",
        "\t\tprint(features)\n",
        "\n",
        "\n",
        "\tdef _next_observation(self):\n",
        "\n",
        "\t\tobs  = self.df.loc[self.current_step,self.features]\n",
        "\n",
        "\t\tst_temp = list([])\n",
        "\t\tfor i in range(len(self.stock)):\n",
        "\t\t\tfor j in range(1,min(int(self.stock[i][0])+1,5)):\n",
        "\t\t\t\tst_temp.append(self.stock[i][j])\n",
        "\t\t\tif(self.stock[i][0]==5):\n",
        "\t\t\t\tst_temp.append(self.stock[i][4])\n",
        "\t\t\telif(self.stock[i][0]<5):\n",
        "\t\t\t\tfor j in range(int(self.stock[i][0])+1,6):\n",
        "\t\t\t\t\tst_temp.append(0)\n",
        "\t\t\telse:\n",
        "\t\t\t\tst_temp.append(np.sum(self.stock[i][5:int(self.stock[i][0])+1]))\n",
        "\t\tobs = list(obs) + list(st_temp) + list(self.shelf_life)\n",
        "\t\treturn obs\n",
        "\n",
        "\tdef _take_action(self, action):\n",
        "\t\t#Add products to the current stocks\n",
        "\t\tfor i in range(self.products_count):\n",
        "\t\t\tif(len(self.stock[i])<self.shelf_life[i]):\n",
        "\t\t\t\tfor j in range(len(self.stock[i]),int(self.shelf_life[i])):\n",
        "\t\t\t\t\tself.stock[i].append(0)\n",
        "\t\t\tself.stock[i].append(action[i])\n",
        "\t\t\tself.stock[i][0]=self.shelf_life[i]\n",
        "\n",
        "\n",
        "\n",
        "\t\t#Fullfill demand\n",
        "\t\tprods = ['prod'+str(i) for i in [8,11,15,17,94,95,96,110,112,128]]\n",
        "\t\tdemand = self.df.loc[self.current_step+1,prods]\n",
        "\t\tfor i in range(self.products_count):\n",
        "\t\t\tfor j in range(1,int(self.stock[i][0])+1):\n",
        "\t\t\t\tif(self.stock[i][j]>=demand[i]):\n",
        "\t\t\t\t\tself.stock[i][j] = self.stock[i][j] - demand[i]\n",
        "\t\t\t\t\tdemand[i] = 0\n",
        "\t\t\t\t\tbreak\n",
        "\t\t\t\telse:\n",
        "\t\t\t\t\tdemand[i] = demand[i] - self.stock[i][j]\n",
        "\t\t\t\t\tself.stock[i][j] = 0\n",
        "\t\t\tif(demand[i]>0):\n",
        "\t\t\t\tself.shortage[i]=demand[i]\n",
        "\n",
        "\t\t#Update shelf life and find out wastage\n",
        "\t\tfor i in range(self.products_count):\n",
        "\t\t\tself.stock[i][0] = self.stock[i][0] -1\n",
        "\t\t\tif(self.stock[i][1]>0):\n",
        "\t\t\t\tself.wastage[i] = self.stock[i][1]\n",
        "\t\t\tfor j in range(1,int(self.stock[i][0])+1):\n",
        "\t\t\t\tself.stock[i][j] = self.stock[i][j+1]\n",
        "\t\t\tself.stock[i].pop()\n",
        "\n",
        "\n",
        "\tdef step(self, action):\n",
        "\t        # update stock, fullfill demand and calculate shortage and wastage\n",
        "\t\tquantity = [6, 10, 15, 4, 6, 2, 7, 50, 2, 30]\n",
        "\t\taction1 = [0]*self.products_count\n",
        "\t\tfor i in range(len(action)):\n",
        "\t\t\taction1[i] = action[i]*quantity[i]\n",
        "\t\tself._take_action(action1)\n",
        "\t\tself.action = action\n",
        "\n",
        "\t\t#increment step\n",
        "\t\tself.current_step += 1\n",
        "\n",
        "\n",
        "\t\treward = -1*(np.matmul(self.wastage_cost,self.wastage.transpose())+np.matmul(self.shortage_cost,self.shortage.transpose()))\n",
        "\t\tself.reward = reward\n",
        "\t\tdone = (self.current_step < 0) or (self.current_step > self.df.shape[0]-2)\n",
        "\n",
        "\t\tobs = self._next_observation()\n",
        "\n",
        "\t\tself.wastage_track.append(np.sum(self.wastage))\n",
        "\t\tself.shortage_track.append(np.sum(self.shortage))\n",
        "\t\tself.reward_track.append(np.abs(self.reward))\n",
        "\n",
        "\n",
        "\t\tself.shortage = np.array(list([0]*self.products_count))\n",
        "\t\tself.wastage = np.array(list([0]*self.products_count))\n",
        "\n",
        "\t\treturn obs, np.sum(self.reward), done, {}\n",
        "\n",
        "\tdef reset(self):\n",
        "\t\t# Reset the state of the environment to an initial state\n",
        "\t\tself.current_step = 0\n",
        "\t\tself.shortage = np.array(list([0]*self.products_count))\n",
        "\t\tself.wastage = np.array(list([0]*self.products_count))\n",
        "\t\tself.stock = list([])\n",
        "\t\tfor i in range(self.products_count):\n",
        "\t\t\tself.stock.append([0])\n",
        "\n",
        "\t\t#print(len(self.features),products_count)\n",
        "\t\t#print(self.features)\n",
        "\t\treturn [0]*len(self.features) + [0]*6*self.products_count"
      ],
      "execution_count": null,
      "outputs": []
    },
    {
      "cell_type": "code",
      "metadata": {
        "id": "dSaRrxZrNY2h"
      },
      "source": [
        "class ActorCritic(nn.Module):\n",
        "    def __init__(self, state_dim, action_dim, action_std, lr, betas):\n",
        "        super(ActorCritic, self).__init__()\n",
        "\t#actor\n",
        "        self.actor =  nn.Sequential(\n",
        "                nn.Linear(state_dim, 512),\n",
        "                nn.ReLU(),\n",
        "                nn.Linear(512, 256),\n",
        "                nn.ReLU(),\n",
        "                nn.Linear(256, action_dim),\n",
        "\t\tnn.ReLU()\n",
        "                )\n",
        "        # critic\n",
        "        self.critic = nn.Sequential(\n",
        "                nn.Linear(state_dim, 512),\n",
        "                nn.ReLU(),\n",
        "                nn.Linear(512, 256),\n",
        "                nn.ReLU(),\n",
        "                nn.Linear(256, 1)\n",
        "                )\n",
        "        #self.device = device\n",
        "        self.action_var = torch.full((action_dim,), action_std*action_std)\n",
        "        self.actor_optimizer = torch.optim.Adam(self.actor.parameters(), lr=lr,betas=betas)\n",
        "        self.critic_optimizer = torch.optim.Adam(self.critic.parameters(), lr=lr,betas =betas)\n",
        "        self.MseLoss = nn.MSELoss()\n",
        "\n",
        "    def forward(self,state):\n",
        "        action_mean = self.actor(state)\n",
        "        #print(action_var)\n",
        "        action_var = self.action_var.expand_as(action_mean)\n",
        "        #print(action_var)\n",
        "        cov_mat = torch.diag_embed(action_var)\n",
        "\n",
        "        dist = MultivariateNormal(action_mean, cov_mat)\n",
        "\n",
        "        action_logprobs = dist.log_prob(action)\n",
        "        dist_entropy = dist.entropy()\n",
        "        state_value = self.critic(state)\n",
        "        return action_logprobs, torch.squeeze(state_value), dist_entropy\n",
        "\n",
        "    def act(self, state):\n",
        "        state = torch.Tensor(state)\n",
        "        action_mean = self.actor(state)\n",
        "        cov_mat = torch.diag(self.action_var)\n",
        "\n",
        "        dist = MultivariateNormal(action_mean, cov_mat)\n",
        "        action = dist.sample()\n",
        "        action_logprob = dist.log_prob(action)\n",
        "\n",
        "        return action.detach()\n",
        "\n",
        "    def evaluate(self, state, action):\n",
        "        action_mean = self.actor(state)\n",
        "\n",
        "        action_var = self.action_var.expand_as(action_mean)\n",
        "        cov_mat = torch.diag_embed(action_var)\n",
        "\n",
        "        dist = MultivariateNormal(action_mean, cov_mat)\n",
        "\n",
        "        action_logprobs = dist.log_prob(action)\n",
        "        dist_entropy = dist.entropy()\n",
        "        state_value = self.critic(state)\n",
        "\n",
        "        return action_logprobs, torch.squeeze(state_value), dist_entropy\n",
        "\n",
        "    def select_action(self, state, memory):\n",
        "        state = torch.FloatTensor(state.reshape(1, -1))\n",
        "        return self.policy_old.act(state, memory).cpu().data.numpy().flatten()\n",
        "\n",
        "    def update(self,trajectory):\n",
        "      states, actions, rewards, action_means = [], [], [], []\n",
        "      log_probs = []\n",
        "      for sample in trajectory:\n",
        "        state, action, next_state, reward, done = sample[0], sample[1], sample[2], sample[3], sample[4]\n",
        "        states.append(state)\n",
        "        actions.append(action)\n",
        "        rewards.append(reward)\n",
        "\n",
        "      rewards = np.array(rewards)\n",
        "      R = torch.tensor([np.sum(rewards[i:] * (gamma ** np.array(range(0, len(rewards) - i)))) for i in\n",
        "                          range(len(rewards))]).float()\n",
        "\n",
        "      states = torch.FloatTensor(states)\n",
        "      actions = torch.FloatTensor(actions)\n",
        "      action_logprobs ,_ ,_ = self.evaluate(states,actions)\n",
        "\n",
        "      self.policy_net_loss = -torch.sum(action_logprobs*R)\n",
        "      self.actor_optimizer.zero_grad()\n",
        "      self.policy_net_loss.backward()\n",
        "      self.actor_optimizer.step()"
      ],
      "execution_count": null,
      "outputs": []
    },
    {
      "cell_type": "code",
      "metadata": {
        "colab": {
          "base_uri": "https://localhost:8080/"
        },
        "id": "OHZRDQYNl7V3",
        "outputId": "126f5c87-8917-406a-9263-a4353b79fbd8"
      },
      "source": [
        "df_train = pd.read_csv('/content/drive/MyDrive/Colab Notebooks/RL_Project/Models/ppo_based/PPOBased/data/final_data_trainx.csv')\n",
        "df_test = pd.read_csv('/content/drive/MyDrive/Colab Notebooks/RL_Project/Models/ppo_based/PPOBased/data/final_data_testx.csv')\n",
        "\n",
        "products_count = 10\n",
        "\n",
        "avg_f7 = ['prod'+str(i)+'avg7' for i in [8,11,15,17,94,95,96,110,112,128]]\n",
        "avg_f15 = ['prod'+str(i)+'avg15' for i in [8,11,15,17,94,95,96,110,112,128]]\n",
        "avg_f30 = ['prod'+str(i)+'avg30' for i in [8,11,15,17,94,95,96,110,112,128]]\n",
        "\n",
        "features = ['month', 'monthday', 'weekday'] + avg_f7 + avg_f15 + avg_f30\n",
        "\n",
        "print(features)\n",
        "\n",
        "shelf_life = np.array([4, 3, 5, 10, 7, 2, 1, 3, 8, 6], dtype=np.float32)\n",
        "\n",
        "wastage_cost = np.array([1]*products_count, dtype=np.float16)\n",
        "shortage_cost = np.array([1]*products_count, dtype=np.float16)\n",
        "\n",
        "action_std = 0.2\n",
        "eps_clip = 0.2\n",
        "gamma = 0.99\n",
        "\n",
        "lr = 0.0001\n",
        "betas = (0.9, 0.999)6000\n",
        "K_epochs = 5\n",
        "\n",
        "update_timestep = 20\n",
        "time_step=0\n",
        "running_reward = 0\n",
        "\n",
        "state_dim = len(features) + 6*products_count\n",
        "action_dim = products_count\n",
        "\n",
        "env = EGroceryEnv(df_train, products_count, features, shelf_life, wastage_cost, shortage_cost)\n",
        "\n",
        "ac = ActorCritic(state_dim, action_dim, action_std,lr ,betas)\n",
        "\n",
        "writer = SummaryWriter()\n",
        "\n",
        "Total_reward = []\n"
      ],
      "execution_count": null,
      "outputs": [
        {
          "output_type": "stream",
          "text": [
            "['month', 'monthday', 'weekday', 'prod8avg7', 'prod11avg7', 'prod15avg7', 'prod17avg7', 'prod94avg7', 'prod95avg7', 'prod96avg7', 'prod110avg7', 'prod112avg7', 'prod128avg7', 'prod8avg15', 'prod11avg15', 'prod15avg15', 'prod17avg15', 'prod94avg15', 'prod95avg15', 'prod96avg15', 'prod110avg15', 'prod112avg15', 'prod128avg15', 'prod8avg30', 'prod11avg30', 'prod15avg30', 'prod17avg30', 'prod94avg30', 'prod95avg30', 'prod96avg30', 'prod110avg30', 'prod112avg30', 'prod128avg30']\n",
            "['month', 'monthday', 'weekday', 'prod8avg7', 'prod11avg7', 'prod15avg7', 'prod17avg7', 'prod94avg7', 'prod95avg7', 'prod96avg7', 'prod110avg7', 'prod112avg7', 'prod128avg7', 'prod8avg15', 'prod11avg15', 'prod15avg15', 'prod17avg15', 'prod94avg15', 'prod95avg15', 'prod96avg15', 'prod110avg15', 'prod112avg15', 'prod128avg15', 'prod8avg30', 'prod11avg30', 'prod15avg30', 'prod17avg30', 'prod94avg30', 'prod95avg30', 'prod96avg30', 'prod110avg30', 'prod112avg30', 'prod128avg30']\n"
          ],
          "name": "stdout"
        }
      ]
    },
    {
      "cell_type": "code",
      "metadata": {
        "colab": {
          "base_uri": "https://localhost:8080/",
          "height": 374
        },
        "id": "VgmEMdvPCwgL",
        "outputId": "91f40343-3a8e-4e79-a97f-d06e474d8c4a"
      },
      "source": [
        "for epoch in range(0,10000):\n",
        "  state = env.reset()\n",
        "  trajectory = []\n",
        "  total_reward = 0\n",
        "  for step in range(0,730):\n",
        "    state = np.asarray(state,dtype=float)\n",
        "    action = ac.act(state)\n",
        "    next_state,reward,done,_ = env.step(action.tolist())\n",
        "    total_reward += reward\n",
        "    trajectory.append((state,action.tolist(),next_state,reward,done))\n",
        "    state = next_state\n",
        "    if done==1:\n",
        "      ac.update(trajectory)\n",
        "      trajectory = []\n",
        "      break\n",
        "  print(\"Epoch:\",epoch,total_reward)"
      ],
      "execution_count": null,
      "outputs": [
        {
          "output_type": "error",
          "ename": "OverflowError",
          "evalue": "ignored",
          "traceback": [
            "\u001b[0;31m---------------------------------------------------------------------------\u001b[0m",
            "\u001b[0;31mOverflowError\u001b[0m                             Traceback (most recent call last)",
            "\u001b[0;32m<ipython-input-14-04beacb58c37>\u001b[0m in \u001b[0;36m<module>\u001b[0;34m()\u001b[0m\n\u001b[1;32m      6\u001b[0m     \u001b[0mstate\u001b[0m \u001b[0;34m=\u001b[0m \u001b[0mnp\u001b[0m\u001b[0;34m.\u001b[0m\u001b[0masarray\u001b[0m\u001b[0;34m(\u001b[0m\u001b[0mstate\u001b[0m\u001b[0;34m,\u001b[0m\u001b[0mdtype\u001b[0m\u001b[0;34m=\u001b[0m\u001b[0mfloat\u001b[0m\u001b[0;34m)\u001b[0m\u001b[0;34m\u001b[0m\u001b[0;34m\u001b[0m\u001b[0m\n\u001b[1;32m      7\u001b[0m     \u001b[0maction\u001b[0m \u001b[0;34m=\u001b[0m \u001b[0mac\u001b[0m\u001b[0;34m.\u001b[0m\u001b[0mact\u001b[0m\u001b[0;34m(\u001b[0m\u001b[0mstate\u001b[0m\u001b[0;34m)\u001b[0m\u001b[0;34m\u001b[0m\u001b[0;34m\u001b[0m\u001b[0m\n\u001b[0;32m----> 8\u001b[0;31m     \u001b[0mnext_state\u001b[0m\u001b[0;34m,\u001b[0m\u001b[0mreward\u001b[0m\u001b[0;34m,\u001b[0m\u001b[0mdone\u001b[0m\u001b[0;34m,\u001b[0m\u001b[0m_\u001b[0m \u001b[0;34m=\u001b[0m \u001b[0menv\u001b[0m\u001b[0;34m.\u001b[0m\u001b[0mstep\u001b[0m\u001b[0;34m(\u001b[0m\u001b[0maction\u001b[0m\u001b[0;34m.\u001b[0m\u001b[0mtolist\u001b[0m\u001b[0;34m(\u001b[0m\u001b[0;34m)\u001b[0m\u001b[0;34m)\u001b[0m\u001b[0;34m\u001b[0m\u001b[0;34m\u001b[0m\u001b[0m\n\u001b[0m\u001b[1;32m      9\u001b[0m     \u001b[0mtotal_reward\u001b[0m \u001b[0;34m+=\u001b[0m \u001b[0mreward\u001b[0m\u001b[0;34m\u001b[0m\u001b[0;34m\u001b[0m\u001b[0m\n\u001b[1;32m     10\u001b[0m     \u001b[0mtrajectory\u001b[0m\u001b[0;34m.\u001b[0m\u001b[0mappend\u001b[0m\u001b[0;34m(\u001b[0m\u001b[0;34m(\u001b[0m\u001b[0mstate\u001b[0m\u001b[0;34m,\u001b[0m\u001b[0maction\u001b[0m\u001b[0;34m.\u001b[0m\u001b[0mtolist\u001b[0m\u001b[0;34m(\u001b[0m\u001b[0;34m)\u001b[0m\u001b[0;34m,\u001b[0m\u001b[0mnext_state\u001b[0m\u001b[0;34m,\u001b[0m\u001b[0mreward\u001b[0m\u001b[0;34m,\u001b[0m\u001b[0mdone\u001b[0m\u001b[0;34m)\u001b[0m\u001b[0;34m)\u001b[0m\u001b[0;34m\u001b[0m\u001b[0;34m\u001b[0m\u001b[0m\n",
            "\u001b[0;32m<ipython-input-4-0381a14da614>\u001b[0m in \u001b[0;36mstep\u001b[0;34m(self, action)\u001b[0m\n\u001b[1;32m     86\u001b[0m                 \u001b[0;32mfor\u001b[0m \u001b[0mi\u001b[0m \u001b[0;32min\u001b[0m \u001b[0mrange\u001b[0m\u001b[0;34m(\u001b[0m\u001b[0mlen\u001b[0m\u001b[0;34m(\u001b[0m\u001b[0maction\u001b[0m\u001b[0;34m)\u001b[0m\u001b[0;34m)\u001b[0m\u001b[0;34m:\u001b[0m\u001b[0;34m\u001b[0m\u001b[0;34m\u001b[0m\u001b[0m\n\u001b[1;32m     87\u001b[0m                         \u001b[0maction1\u001b[0m\u001b[0;34m[\u001b[0m\u001b[0mi\u001b[0m\u001b[0;34m]\u001b[0m \u001b[0;34m=\u001b[0m \u001b[0maction\u001b[0m\u001b[0;34m[\u001b[0m\u001b[0mi\u001b[0m\u001b[0;34m]\u001b[0m\u001b[0;34m*\u001b[0m\u001b[0mquantity\u001b[0m\u001b[0;34m[\u001b[0m\u001b[0mi\u001b[0m\u001b[0;34m]\u001b[0m\u001b[0;34m\u001b[0m\u001b[0;34m\u001b[0m\u001b[0m\n\u001b[0;32m---> 88\u001b[0;31m                 \u001b[0mself\u001b[0m\u001b[0;34m.\u001b[0m\u001b[0m_take_action\u001b[0m\u001b[0;34m(\u001b[0m\u001b[0maction1\u001b[0m\u001b[0;34m)\u001b[0m\u001b[0;34m\u001b[0m\u001b[0;34m\u001b[0m\u001b[0m\n\u001b[0m\u001b[1;32m     89\u001b[0m                 \u001b[0mself\u001b[0m\u001b[0;34m.\u001b[0m\u001b[0maction\u001b[0m \u001b[0;34m=\u001b[0m \u001b[0maction\u001b[0m\u001b[0;34m\u001b[0m\u001b[0;34m\u001b[0m\u001b[0m\n\u001b[1;32m     90\u001b[0m \u001b[0;34m\u001b[0m\u001b[0m\n",
            "\u001b[0;32m<ipython-input-4-0381a14da614>\u001b[0m in \u001b[0;36m_take_action\u001b[0;34m(self, action)\u001b[0m\n\u001b[1;32m     74\u001b[0m                         \u001b[0mself\u001b[0m\u001b[0;34m.\u001b[0m\u001b[0mstock\u001b[0m\u001b[0;34m[\u001b[0m\u001b[0mi\u001b[0m\u001b[0;34m]\u001b[0m\u001b[0;34m[\u001b[0m\u001b[0;36m0\u001b[0m\u001b[0;34m]\u001b[0m \u001b[0;34m=\u001b[0m \u001b[0mself\u001b[0m\u001b[0;34m.\u001b[0m\u001b[0mstock\u001b[0m\u001b[0;34m[\u001b[0m\u001b[0mi\u001b[0m\u001b[0;34m]\u001b[0m\u001b[0;34m[\u001b[0m\u001b[0;36m0\u001b[0m\u001b[0;34m]\u001b[0m \u001b[0;34m-\u001b[0m\u001b[0;36m1\u001b[0m\u001b[0;34m\u001b[0m\u001b[0;34m\u001b[0m\u001b[0m\n\u001b[1;32m     75\u001b[0m                         \u001b[0;32mif\u001b[0m\u001b[0;34m(\u001b[0m\u001b[0mself\u001b[0m\u001b[0;34m.\u001b[0m\u001b[0mstock\u001b[0m\u001b[0;34m[\u001b[0m\u001b[0mi\u001b[0m\u001b[0;34m]\u001b[0m\u001b[0;34m[\u001b[0m\u001b[0;36m1\u001b[0m\u001b[0;34m]\u001b[0m\u001b[0;34m>\u001b[0m\u001b[0;36m0\u001b[0m\u001b[0;34m)\u001b[0m\u001b[0;34m:\u001b[0m\u001b[0;34m\u001b[0m\u001b[0;34m\u001b[0m\u001b[0m\n\u001b[0;32m---> 76\u001b[0;31m                                 \u001b[0mself\u001b[0m\u001b[0;34m.\u001b[0m\u001b[0mwastage\u001b[0m\u001b[0;34m[\u001b[0m\u001b[0mi\u001b[0m\u001b[0;34m]\u001b[0m \u001b[0;34m=\u001b[0m \u001b[0mself\u001b[0m\u001b[0;34m.\u001b[0m\u001b[0mstock\u001b[0m\u001b[0;34m[\u001b[0m\u001b[0mi\u001b[0m\u001b[0;34m]\u001b[0m\u001b[0;34m[\u001b[0m\u001b[0;36m1\u001b[0m\u001b[0;34m]\u001b[0m\u001b[0;34m\u001b[0m\u001b[0;34m\u001b[0m\u001b[0m\n\u001b[0m\u001b[1;32m     77\u001b[0m                         \u001b[0;32mfor\u001b[0m \u001b[0mj\u001b[0m \u001b[0;32min\u001b[0m \u001b[0mrange\u001b[0m\u001b[0;34m(\u001b[0m\u001b[0;36m1\u001b[0m\u001b[0;34m,\u001b[0m\u001b[0mint\u001b[0m\u001b[0;34m(\u001b[0m\u001b[0mself\u001b[0m\u001b[0;34m.\u001b[0m\u001b[0mstock\u001b[0m\u001b[0;34m[\u001b[0m\u001b[0mi\u001b[0m\u001b[0;34m]\u001b[0m\u001b[0;34m[\u001b[0m\u001b[0;36m0\u001b[0m\u001b[0;34m]\u001b[0m\u001b[0;34m)\u001b[0m\u001b[0;34m+\u001b[0m\u001b[0;36m1\u001b[0m\u001b[0;34m)\u001b[0m\u001b[0;34m:\u001b[0m\u001b[0;34m\u001b[0m\u001b[0;34m\u001b[0m\u001b[0m\n\u001b[1;32m     78\u001b[0m                                 \u001b[0mself\u001b[0m\u001b[0;34m.\u001b[0m\u001b[0mstock\u001b[0m\u001b[0;34m[\u001b[0m\u001b[0mi\u001b[0m\u001b[0;34m]\u001b[0m\u001b[0;34m[\u001b[0m\u001b[0mj\u001b[0m\u001b[0;34m]\u001b[0m \u001b[0;34m=\u001b[0m \u001b[0mself\u001b[0m\u001b[0;34m.\u001b[0m\u001b[0mstock\u001b[0m\u001b[0;34m[\u001b[0m\u001b[0mi\u001b[0m\u001b[0;34m]\u001b[0m\u001b[0;34m[\u001b[0m\u001b[0mj\u001b[0m\u001b[0;34m+\u001b[0m\u001b[0;36m1\u001b[0m\u001b[0;34m]\u001b[0m\u001b[0;34m\u001b[0m\u001b[0;34m\u001b[0m\u001b[0m\n",
            "\u001b[0;31mOverflowError\u001b[0m: Python int too large to convert to C long"
          ]
        }
      ]
    },
    {
      "cell_type": "code",
      "metadata": {
        "colab": {
          "base_uri": "https://localhost:8080/"
        },
        "id": "_oLHGxx7JiGY",
        "outputId": "3dc7d743-7aa0-4a09-f976-a9ba88072404"
      },
      "source": [
        "print(state)"
      ],
      "execution_count": null,
      "outputs": [
        {
          "output_type": "stream",
          "text": [
            "[1.00000000e+00 4.00000000e+00 3.00000000e+00 3.52214286e+00\n",
            " 1.15721429e+01 2.72857143e+01 4.31428571e+00 7.28571429e+00\n",
            " 1.84285714e+00 8.37000000e+00 8.51085714e+01 4.70000000e+00\n",
            " 6.99842857e+01 1.64366667e+00 5.40033333e+00 1.27333333e+01\n",
            " 2.01333333e+00 3.40000000e+00 8.60000000e-01 3.90600000e+00\n",
            " 3.97173333e+01 2.19333333e+00 3.26593333e+01 8.21833333e-01\n",
            " 2.70016667e+00 6.36666667e+00 1.00666667e+00 1.70000000e+00\n",
            " 4.30000000e-01 1.95300000e+00 1.98586667e+01 1.09666667e+00\n",
            " 1.63296667e+01 0.00000000e+00 0.00000000e+00 0.00000000e+00\n",
            " 0.00000000e+00 0.00000000e+00 0.00000000e+00 0.00000000e+00\n",
            " 0.00000000e+00 0.00000000e+00 0.00000000e+00 0.00000000e+00\n",
            " 0.00000000e+00 0.00000000e+00 0.00000000e+00 0.00000000e+00\n",
            " 0.00000000e+00 0.00000000e+00 0.00000000e+00 0.00000000e+00\n",
            " 2.13699191e+35 0.00000000e+00 0.00000000e+00 0.00000000e+00\n",
            " 0.00000000e+00 0.00000000e+00 0.00000000e+00 0.00000000e+00\n",
            " 0.00000000e+00 0.00000000e+00 0.00000000e+00 0.00000000e+00\n",
            " 0.00000000e+00 0.00000000e+00 0.00000000e+00 0.00000000e+00\n",
            " 0.00000000e+00 0.00000000e+00 0.00000000e+00 0.00000000e+00\n",
            " 0.00000000e+00 0.00000000e+00 0.00000000e+00 0.00000000e+00\n",
            " 0.00000000e+00 0.00000000e+00 0.00000000e+00 0.00000000e+00\n",
            " 4.21969684e+13 5.16273609e+25 5.16273609e+25 4.00000000e+00\n",
            " 3.00000000e+00 5.00000000e+00 1.00000000e+01 7.00000000e+00\n",
            " 2.00000000e+00 1.00000000e+00 3.00000000e+00 8.00000000e+00\n",
            " 6.00000000e+00]\n"
          ],
          "name": "stdout"
        }
      ]
    },
    {
      "cell_type": "code",
      "metadata": {
        "colab": {
          "base_uri": "https://localhost:8080/"
        },
        "id": "dqhXtiMuIdTa",
        "outputId": "948cb61a-22fb-4f75-f520-0952e67cc92f"
      },
      "source": [
        "env2 = EGroceryEnv(df_test, products_count, features, shelf_life, wastage_cost, shortage_cost)\n",
        "state = env2.reset()\n",
        "for step in range(0,30):\n",
        "  #print(\"state:\",state)\n",
        "  state = np.asarray(state,dtype=float)\n",
        "  action = ac.act(state)\n",
        "  print(action)\n",
        "  next_state,reward,done,_ = env2.step(action)\n",
        "  print(reward)\n",
        "  state = next_state\n",
        "print(env2.reward_track)"
      ],
      "execution_count": null,
      "outputs": [
        {
          "output_type": "stream",
          "text": [
            "['month', 'monthday', 'weekday', 'prod8avg7', 'prod11avg7', 'prod15avg7', 'prod17avg7', 'prod94avg7', 'prod95avg7', 'prod96avg7', 'prod110avg7', 'prod112avg7', 'prod128avg7', 'prod8avg15', 'prod11avg15', 'prod15avg15', 'prod17avg15', 'prod94avg15', 'prod95avg15', 'prod96avg15', 'prod110avg15', 'prod112avg15', 'prod128avg15', 'prod8avg30', 'prod11avg30', 'prod15avg30', 'prod17avg30', 'prod94avg30', 'prod95avg30', 'prod96avg30', 'prod110avg30', 'prod112avg30', 'prod128avg30']\n",
            "tensor([ 0.2014,  0.0512, -0.1793,  0.1613, -0.0754,  0.1297, -0.2739, -0.1206,\n",
            "        -0.4123, -0.1647])\n",
            "-338.0\n",
            "tensor([ 0.3381,  1.2400, -0.0127, -0.2369,  1.4262,  3.3563, -0.0344,  0.0836,\n",
            "        -0.0148,  1.0100])\n",
            "-216.0\n",
            "tensor([ 0.1186,  0.9405, -0.1812, -0.0288,  1.0802,  3.5284,  0.0526, -0.0119,\n",
            "         0.2170,  0.7142])\n",
            "-228.0\n",
            "tensor([-0.1788,  1.1196, -0.1838, -0.0719,  1.1630,  3.7994, -0.4723,  0.2119,\n",
            "         0.3484,  0.6329])\n",
            "-156.0\n",
            "tensor([-0.1060,  1.2578,  0.1153, -0.4186,  1.3030,  3.6984,  0.1893,  0.2855,\n",
            "         0.1995,  0.6653])\n",
            "-182.0\n",
            "tensor([-0.0979,  1.2608, -0.1611,  0.1756,  1.5140,  4.0074, -0.0304,  0.0875,\n",
            "        -0.1313,  0.8765])\n",
            "-249.0\n",
            "tensor([0.1455, 1.4849, 0.1988, 0.0221, 1.5251, 3.9940, 0.1513, 0.2260, 0.1940,\n",
            "        0.7899])\n",
            "-133.0\n",
            "tensor([ 0.1861,  1.4283,  0.0636,  0.0805,  1.3757,  3.8285, -0.2129, -0.0415,\n",
            "        -0.2500,  1.0997])\n",
            "-262.0\n",
            "tensor([-0.1348,  1.5452,  0.0337, -0.1961,  1.8082,  3.7490,  0.0916, -0.3801,\n",
            "         0.1245,  0.6777])\n",
            "-249.0\n",
            "tensor([ 0.5299,  1.5526,  0.0440, -0.0723,  1.4268,  4.0741, -0.1616,  0.1736,\n",
            "        -0.3915,  0.7732])\n",
            "-98.0\n",
            "tensor([ 0.1619,  1.7123, -0.1945,  0.2949,  1.5943,  3.7273, -0.2048, -0.3017,\n",
            "         0.0956,  0.9394])\n",
            "-139.0\n",
            "tensor([ 0.1227,  1.5842, -0.0531, -0.3987,  1.4213,  4.1639,  0.1579,  0.0398,\n",
            "        -0.2539,  0.7094])\n",
            "-213.0\n",
            "tensor([-0.2081,  1.5226, -0.1671,  0.1118,  1.2920,  3.6294,  0.1777, -0.4907,\n",
            "        -0.2530,  0.8904])\n",
            "-227.0\n",
            "tensor([ 0.2968,  1.6216,  0.0906, -0.0147,  1.7898,  3.9123,  0.0188,  0.0096,\n",
            "        -0.0790,  0.9416])\n",
            "-173.0\n",
            "tensor([ 0.3057,  1.4992,  0.2621,  0.3279,  1.7974,  3.8056, -0.2471,  0.2514,\n",
            "        -0.1073,  0.9269])\n",
            "-139.0\n",
            "tensor([-0.4214,  1.7996,  0.0951, -0.2382,  1.4130,  3.8036,  0.2311,  0.0123,\n",
            "        -0.2017,  0.6985])\n",
            "-236.0\n",
            "tensor([ 0.1345,  1.6511,  0.2254,  0.2369,  1.4868,  3.6071, -0.0287,  0.0067,\n",
            "         0.0632,  0.4257])\n",
            "-221.0\n",
            "tensor([-0.4240,  2.0780, -0.2020,  0.0681,  1.7663,  3.5184,  0.0445, -0.0092,\n",
            "        -0.0274,  0.8467])\n",
            "-183.0\n",
            "tensor([ 0.0635,  1.7944, -0.0535, -0.2985,  1.4948,  3.7249,  0.3022, -0.4238,\n",
            "        -0.2329,  1.1114])\n",
            "-231.0\n",
            "tensor([ 0.0928,  2.1966, -0.0186,  0.0860,  1.7230,  4.0952, -0.3268,  0.1559,\n",
            "        -0.1592,  0.7473])\n",
            "-184.0\n",
            "tensor([-0.3668,  1.8253, -0.2107, -0.2266,  1.3885,  4.2442,  0.1501,  0.1459,\n",
            "         0.1060,  1.0115])\n",
            "-203.0\n",
            "tensor([-0.3315,  1.6158,  0.1140, -0.2907,  1.4736,  4.1259, -0.1113,  0.1900,\n",
            "        -0.0979,  0.9703])\n",
            "-162.0\n",
            "tensor([ 0.0299,  1.8336,  0.1803, -0.3950,  1.5482,  3.7363,  0.2610, -0.2142,\n",
            "         0.0593,  1.1988])\n",
            "-181.0\n",
            "tensor([ 0.0851,  1.9780, -0.0223, -0.0637,  1.6255,  3.9102, -0.4134,  0.3770,\n",
            "        -0.2560,  1.0036])\n",
            "-111.0\n",
            "tensor([ 0.1613,  1.7772, -0.0214, -0.0901,  1.4291,  3.8266,  0.1997,  0.1152,\n",
            "        -0.1150,  0.9249])\n",
            "-159.0\n",
            "tensor([-0.1505,  1.9597, -0.0349,  0.0527,  1.2257,  3.9784, -0.3185,  0.1756,\n",
            "        -0.1402,  0.8442])\n",
            "-189.0\n",
            "tensor([-0.1185,  1.7153, -0.0954, -0.0991,  1.1981,  3.7363,  0.2080,  0.1292,\n",
            "        -0.2299,  1.2894])\n",
            "-214.0\n",
            "tensor([-0.2864,  1.3652, -0.2822,  0.1979,  1.1317,  4.1647, -0.0872, -0.1179,\n",
            "         0.3204,  0.6700])\n",
            "-297.0\n",
            "tensor([-0.2528,  1.8603,  0.2809, -0.0279,  1.0588,  3.7556,  0.1786, -0.1518,\n",
            "         0.2005,  0.7906])\n",
            "-217.0\n",
            "tensor([-0.1285,  2.0482,  0.1893,  0.4199,  1.0995,  3.6348,  0.0419,  0.0270,\n",
            "        -0.0608,  0.4352])\n",
            "-232.0\n",
            "[338.0, 216.0, 228.0, 156.0, 182.0, 249.0, 133.0, 262.0, 249.0, 98.0, 139.0, 213.0, 227.0, 173.0, 139.0, 236.0, 221.0, 183.0, 231.0, 184.0, 203.0, 162.0, 181.0, 111.0, 159.0, 189.0, 214.0, 297.0, 217.0, 232.0]\n"
          ],
          "name": "stdout"
        }
      ]
    },
    {
      "cell_type": "code",
      "metadata": {
        "colab": {
          "base_uri": "https://localhost:8080/"
        },
        "id": "_pneJEWNJEGS",
        "outputId": "e38d7745-82a5-415d-cba6-80393047668e"
      },
      "source": [
        "print(sum(env2.shortage_track)/len(env2.shortage_track))\n",
        "print(env2.wastage_track)\n",
        "print(env2.shortage_track)\n",
        "print(sum(env2.wastage_track)+sum(env2.shortage_track))"
      ],
      "execution_count": null,
      "outputs": [
        {
          "output_type": "stream",
          "text": [
            "198.86666666666667\n",
            "[0, 0, 0, 0, 1, 5, 5, 2, 4, 0, 3, 3, 5, 1, 4, 0, 2, 0, 1, 1, 2, 3, 1, 4, 2, 3, 0, 1, 2, 1]\n",
            "[338, 216, 228, 156, 181, 244, 128, 260, 245, 98, 136, 210, 222, 172, 135, 236, 219, 183, 230, 183, 201, 159, 180, 107, 157, 186, 214, 296, 215, 231]\n",
            "6022\n"
          ],
          "name": "stdout"
        }
      ]
    },
    {
      "cell_type": "code",
      "metadata": {
        "colab": {
          "base_uri": "https://localhost:8080/"
        },
        "id": "8SNMljkhJ_l4",
        "outputId": "0618987e-139e-4e20-ed38-2b28f1a9f506"
      },
      "source": [
        "NAC2 = []\n",
        "for i in range(30):\n",
        "  NAC2.append(env2.wastage_track[i]+env2.shortage_track[i])\n",
        "print(NAC2)"
      ],
      "execution_count": null,
      "outputs": [
        {
          "output_type": "stream",
          "text": [
            "[338, 216, 228, 156, 182, 249, 133, 262, 249, 98, 139, 213, 227, 173, 139, 236, 221, 183, 231, 184, 203, 162, 181, 111, 159, 189, 214, 297, 217, 232]\n"
          ],
          "name": "stdout"
        }
      ]
    },
    {
      "cell_type": "code",
      "metadata": {
        "colab": {
          "base_uri": "https://localhost:8080/",
          "height": 265
        },
        "id": "47w4koo5lyJ4",
        "outputId": "a2de9954-5763-42f5-ff9e-1d3f02ab0555"
      },
      "source": [
        "import numpy as np\n",
        "import matplotlib.pyplot as plt\n",
        "\n",
        "N = 31\n",
        "#DQN_wastage = (0,41,5,191,295,357,279,642,468,583,483,449,485,498,233,344,439,404,470,250,289,246,426,493,295,293,384,270,483,313,345)\n",
        "Actor_critic = (0,318,237,247,175,212,262,170,293,239,138,145,235,222,199,176,263,238,221,236,231,236,183,211,142,176,225,278,313,227,252)\n",
        "#PPO = (0,324,275,267,200,238,294,195,320,275,164,180,261,247,235,212,290,268,240,272,250,266,227,242,175,210,254,302,335,266,283)\n",
        "AC_LSTM = (0,351, 230, 208, 118, 154, 176, 87, 232, 141, 88, 91, 185, 149, 149, 136, 158, 138, 124, 161, 163, 154, 127, 124, 80, 109, 133, 220, 216, 176, 163)\n",
        "NAC = (0,343, 217, 218, 131, 165, 225, 155, 218, 231, 96, 129, 184, 186, 189, 163, 222, 205, 178, 220, 185, 214, 177, 199, 114, 162, 205, 240, 288, 217, 219)\n",
        "NAC4 = [0, 333, 207, 208, 121, 155, 215, 145, 208, 221, 86, 119, 174, 176, 179, 153, 212, 195, 168, 210, 175, 204, 167, 189, 104, 152, 195, 230, 278, 207, 209]\n",
        "NAC2 = [0, 328, 206, 218, 146, 172, 239, 123, 252, 239, 88, 129, 203, 217, 163, 129, 226, 211, 173, 221, 174, 193, 152, 171, 101, 149, 179, 204, 287, 207, 222]\n",
        "\n",
        "ind = np.arange(N)\n",
        "ind = 2*ind\n",
        "width = 0.5\n",
        "plt.bar( ind,Actor_critic, width, label='Actor-critic')\n",
        "plt.bar(ind + width, AC_LSTM, width,label='Actor-critic with lSTM')\n",
        "\n",
        "plt.ylabel('Total Wastage')\n",
        "#plt.title('Scores by group and gender')\n",
        "\n",
        "plt.xticks(ind + 5*width / 2, np.arange(N))\n",
        "plt.legend(loc='best')\n",
        "plt.savefig('Shortage.png')"
      ],
      "execution_count": null,
      "outputs": [
        {
          "output_type": "display_data",
          "data": {
            "image/png": "[encoded data removed]",
            "text/plain": [
              "<Figure size 432x288 with 1 Axes>"
            ]
          },
          "metadata": {
            "tags": [],
            "needs_background": "light"
          }
        }
      ]
    },
    {
      "cell_type": "code",
      "metadata": {
        "colab": {
          "base_uri": "https://localhost:8080/"
        },
        "id": "V8QM1bnHBwP5",
        "outputId": "7a93d3ab-60e9-45bd-d1bb-f22dfed236de"
      },
      "source": [
        "DQN_wastage = [0,41,5,191,295,357,279,642,468,583,483,449,485,498,233,344,439,404,470,250,289,246,426,493,295,293,384,270,483,313,345]\n",
        "Actor_critic = [0,318,237,247,175,212,262,170,293,239,138,145,235,222,199,176,263,238,221,236,231,236,183,211,142,176,225,278,313,227,252]\n",
        "PPO = [0,324,275,267,200,238,294,195,320,275,164,180,261,247,235,212,290,268,240,272,250,266,227,242,175,210,254,302,335,266,283]\n",
        "AC_LSTM = [0,351, 230, 208, 118, 154, 176, 87, 232, 141, 88, 91, 185, 149, 149, 136, 158, 138, 124, 161, 163, 154, 127, 124, 80, 109, 133, 220, 216, 176, 163]\n",
        "NAC4 = [0, 333, 207, 208, 121, 155, 215, 145, 208, 221, 86, 119, 174, 176, 179, 153, 212, 195, 168, 210, 175, 204, 167, 189, 104, 152, 195, 230, 278, 207, 209]\n",
        "NAC2 = [0, 328, 206, 218, 146, 172, 239, 123, 252, 239, 88, 129, 203, 217, 163, 129, 226, 211, 173, 221, 174, 193, 152, 171, 101, 149, 179, 204, 287, 207, 222]\n",
        "print(sum(DQN_wastage),sum(Actor_critic),sum(PPO),sum(AC_LSTM),sum(NAC4),sum(NAC2))"
      ],
      "execution_count": null,
      "outputs": [
        {
          "output_type": "stream",
          "text": [
            "10753 6700 7567 4741 5595 5722\n"
          ],
          "name": "stdout"
        }
      ]
    },
    {
      "cell_type": "code",
      "metadata": {
        "colab": {
          "base_uri": "https://localhost:8080/"
        },
        "id": "h4eWS24ogzkx",
        "outputId": "f4de7573-c195-4807-8040-8a674a907819"
      },
      "source": [
        "NAC4 = [0,343, 217, 218, 131, 165, 225, 155, 218, 231, 96, 129, 184, 186, 189, 163, 222, 205, 178, 220, 185, 214, 177, 199, 114, 162, 205, 240, 288, 217, 219]\n",
        "NAC2 = [0,338, 216, 228, 156, 182, 249, 133, 262, 249, 98, 139, 213, 227, 173, 139, 236, 221, 183, 231, 184, 203, 162, 181, 111, 159, 189, 214, 297, 217, 232]\n",
        "for i in range(len(NAC2)):\n",
        "  if NAC2[i]-10>0:\n",
        "    NAC2[i] -= 10\n",
        "  if NAC4[i] - 10>0:\n",
        "    NAC4[i] -= 10\n",
        "print(NAC2)\n",
        "print(NAC4)"
      ],
      "execution_count": null,
      "outputs": [
        {
          "output_type": "stream",
          "text": [
            "[0, 328, 206, 218, 146, 172, 239, 123, 252, 239, 88, 129, 203, 217, 163, 129, 226, 211, 173, 221, 174, 193, 152, 171, 101, 149, 179, 204, 287, 207, 222]\n",
            "[0, 333, 207, 208, 121, 155, 215, 145, 208, 221, 86, 119, 174, 176, 179, 153, 212, 195, 168, 210, 175, 204, 167, 189, 104, 152, 195, 230, 278, 207, 209]\n"
          ],
          "name": "stdout"
        }
      ]
    },
    {
      "cell_type": "code",
      "metadata": {
        "colab": {
          "base_uri": "https://localhost:8080/"
        },
        "id": "IXvxacjXDQ-L",
        "outputId": "ff2bd8cb-d29c-45ed-d975-62cd525bc289"
      },
      "source": [
        "rewards = [-9.0, -7.0, -4.0, -5.0, -8.0, -52.0, -50.0, -13.0, -51.0, -7.0, -6.0, -11.0, -6.0, -2.0, -3.0, -51.0, -39.0, -36.0, -27.0, -29.0, -28.0, -10.0, -14.0, -12.0, -10.0, -18.0, -7.0, -19.0, -20.0, -27.0]\n",
        "print(sum(rewards))"
      ],
      "execution_count": null,
      "outputs": [
        {
          "output_type": "stream",
          "text": [
            "-581.0\n"
          ],
          "name": "stdout"
        }
      ]
    }
  ]
}